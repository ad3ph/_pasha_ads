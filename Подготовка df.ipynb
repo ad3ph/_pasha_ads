{
 "cells": [
  {
   "cell_type": "code",
   "execution_count": 1,
   "id": "57eeedff",
   "metadata": {},
   "outputs": [],
   "source": [
    "import pandas as pd\n",
    "import geopandas as gpd\n",
    "from shapely.geometry import Point"
   ]
  },
  {
   "cell_type": "code",
   "execution_count": 2,
   "id": "b49e7bf3",
   "metadata": {},
   "outputs": [],
   "source": [
    "bulvar = gpd.read_file(\"C:/Users/malsh/Desktop/Магазин Магазинов/Бульварное.geojson\")\n",
    "sadovoe = gpd.read_file(\"C:/Users/malsh/Desktop/Магазин Магазинов/Садовое.geojson\")\n",
    "ttk = gpd.read_file(\"C:/Users/malsh/Desktop/Магазин Магазинов/ТТК.geojson\")\n",
    "mkad = gpd.read_file(\"C:/Users/malsh/Desktop/Магазин Магазинов/МКАД.geojson\")\n",
    "mkad_out = gpd.read_file(\"C:/Users/malsh/Desktop/Магазин Магазинов/За Мкадом.geojson\")\n",
    "novaya = gpd.read_file(\"C:/Users/malsh/Desktop/Магазин Магазинов/Новая Москва.geojson\")\n",
    "\n",
    "# Функция для определения района на основе координат\n",
    "def get_district(point):\n",
    "    if bulvar.geometry.contains(point).any():\n",
    "        return 'Бульварное кольцо'\n",
    "    elif sadovoe.geometry.contains(point).any():\n",
    "        return 'Садовое кольцо'\n",
    "    elif ttk.geometry.contains(point).any():\n",
    "        return 'ТТК'\n",
    "    elif mkad.geometry.contains(point).any():\n",
    "        return 'МКАД'\n",
    "    elif mkad_out.geometry.contains(point).any():\n",
    "        return 'За МКАДом'\n",
    "    elif novaya.geometry.contains(point).any():\n",
    "        return 'Новая Москва'\n",
    "    else:\n",
    "        return 'Неизвестно'"
   ]
  },
  {
   "cell_type": "code",
   "execution_count": 3,
   "id": "432cfa16",
   "metadata": {},
   "outputs": [],
   "source": [
    "def categorize_area(area):\n",
    "    if area < 100:\n",
    "        return 'До 100 кв.м.'\n",
    "    elif 100 <= area < 200:\n",
    "        return '100-200 кв.м.'\n",
    "    elif 200 <= area < 300:\n",
    "        return '200-300 кв.м.'\n",
    "    elif 300 <= area < 500:\n",
    "        return '300-500 кв.м.'\n",
    "    else:\n",
    "        return 'Более 500 кв.м.'"
   ]
  },
  {
   "cell_type": "code",
   "execution_count": 4,
   "id": "ac9ff3e5",
   "metadata": {},
   "outputs": [],
   "source": [
    "def categorize_price(price):\n",
    "    if price < 30000000:\n",
    "        return 'До 30 млн'\n",
    "    elif 30000000 <= price < 100000000:\n",
    "        return '30-100 млн'\n",
    "    elif 100000000 <= price < 500000000:\n",
    "        return '100-500 млн'\n",
    "    elif 500000000 <= price < 1000000000:\n",
    "        return '500 млн-1 млрд'\n",
    "    elif 1000000000 <= price < 3000000000:\n",
    "        return '1-3 млрд'\n",
    "    else:\n",
    "        return 'Более 3 млрд'"
   ]
  },
  {
   "cell_type": "code",
   "execution_count": null,
   "id": "e2742046",
   "metadata": {},
   "outputs": [],
   "source": []
  },
  {
   "cell_type": "code",
   "execution_count": null,
   "id": "ef85d82e",
   "metadata": {},
   "outputs": [],
   "source": []
  },
  {
   "cell_type": "code",
   "execution_count": null,
   "id": "426f3167",
   "metadata": {},
   "outputs": [],
   "source": []
  },
  {
   "cell_type": "markdown",
   "id": "f733e6b5",
   "metadata": {},
   "source": [
    "## Октябрь 2021"
   ]
  },
  {
   "cell_type": "code",
   "execution_count": 5,
   "id": "632f3c32",
   "metadata": {},
   "outputs": [
    {
     "data": {
      "text/plain": [
       "(10000, 13)"
      ]
     },
     "metadata": {},
     "output_type": "display_data"
    },
    {
     "data": {
      "text/plain": [
       "(10000, 13)"
      ]
     },
     "metadata": {},
     "output_type": "display_data"
    },
    {
     "data": {
      "text/plain": [
       "(7287, 13)"
      ]
     },
     "metadata": {},
     "output_type": "display_data"
    },
    {
     "data": {
      "text/plain": [
       "(27287, 13)"
      ]
     },
     "metadata": {},
     "output_type": "display_data"
    },
    {
     "data": {
      "text/plain": [
       "(9578, 13)"
      ]
     },
     "metadata": {},
     "output_type": "display_data"
    },
    {
     "data": {
      "text/plain": [
       "(8471, 13)"
      ]
     },
     "metadata": {},
     "output_type": "display_data"
    },
    {
     "data": {
      "text/plain": [
       "(8278, 13)"
      ]
     },
     "metadata": {},
     "output_type": "display_data"
    },
    {
     "data": {
      "text/plain": [
       "(8255, 13)"
      ]
     },
     "metadata": {},
     "output_type": "display_data"
    },
    {
     "name": "stderr",
     "output_type": "stream",
     "text": [
      "C:\\Users\\malsh\\anaconda3\\lib\\site-packages\\shapely\\predicates.py:540: RuntimeWarning: invalid value encountered in contains\n",
      "  return lib.contains(a, b, **kwargs)\n"
     ]
    },
    {
     "name": "stdout",
     "output_type": "stream",
     "text": [
      "DataFrame сохранен в C:/Users/malsh/Desktop/Магазин Магазинов/Готовые df street/df_oct_21_street.xlsx\n"
     ]
    }
   ],
   "source": [
    "df_oct_1 = pd.read_excel('C:/Users/malsh/Desktop/Магазин Магазинов/Данные/Октябрь_2021/Октябрь_2021_1.xlsx', sheet_name='Worksheet')[['№', 'Категория', 'Тип', 'Этаж', 'Площадь, м2', 'Стоимость', 'Стоимость, м2', 'Имя контакта', 'Телефон', 'Широта', 'Долгота', 'Описание', 'Ссылка']]\n",
    "df_oct_1 = df_oct_1.drop_duplicates()\n",
    "#display(df_oct_1.head(3))\n",
    "display(df_oct_1.shape)\n",
    "\n",
    "df_oct_2 = pd.read_excel('C:/Users/malsh/Desktop/Магазин Магазинов/Данные/Октябрь_2021/Октябрь_2021_2.xlsx', sheet_name='Worksheet')[['№', 'Категория', 'Тип', 'Этаж', 'Площадь, м2', 'Стоимость', 'Стоимость, м2', 'Имя контакта', 'Телефон', 'Широта', 'Долгота', 'Описание', 'Ссылка']]\n",
    "df_oct_2 = df_oct_2.drop_duplicates()\n",
    "#display(df_oct_2.head(3))\n",
    "display(df_oct_2.shape)\n",
    "\n",
    "df_oct_3 = pd.read_excel('C:/Users/malsh/Desktop/Магазин Магазинов/Данные/Октябрь_2021/Октябрь_2021_3.xlsx', sheet_name='Worksheet')[['№', 'Категория', 'Тип', 'Этаж', 'Площадь, м2', 'Стоимость', 'Стоимость, м2', 'Имя контакта', 'Телефон', 'Широта', 'Долгота', 'Описание', 'Ссылка']]\n",
    "df_oct_3 = df_oct_3.drop_duplicates()\n",
    "#display(df_oct_3.head(3))\n",
    "display(df_oct_3.shape)\n",
    "\n",
    "df_oct_2021 = pd.concat([df_oct_1, df_oct_2, df_oct_3], ignore_index=True)\n",
    "display(df_oct_2021.shape)\n",
    "\n",
    "df_oct_2021 = df_oct_2021[df_oct_2021['Этаж'] == 1]\n",
    "df_oct_2021 = df_oct_2021.drop_duplicates()\n",
    "df_oct_2021 = df_oct_2021.drop_duplicates(subset=['Тип', 'Площадь, м2', 'Широта', 'Долгота'], keep='first')\n",
    "display(df_oct_2021.shape)\n",
    "\n",
    "df_oct_2021 = df_oct_2021[(df_oct_2021['Площадь, м2'] < 1000) & (df_oct_2021['Площадь, м2'] > 20)]\n",
    "display(df_oct_2021.shape)\n",
    "\n",
    "df_oct_2021 = df_oct_2021.dropna(subset=['Описание'])\n",
    "condition1 = df_oct_2021['Описание'].str.contains('в ТЦ|в тц|в ТРЦ|в торговом центре|на первом этаже торгового центра|в ТД|в ТРК|в новом ТРК|в составе ТРЦ|на первом торговом уровне ТЦ|в новом ТЦ|ТЦ \"Ясенево\"|в районном Торговом центре|в современном ТРЦ|на 1 этаже ТЦ|на 1-ом этаже ТЦ|на 1 этаже торгового центра|на 1-м этаже торгового центра|на 1-ом этаже торгового центра', case=False)\n",
    "mask = df_oct_2021['Описание'].str[:70].str.contains('Торговый центр|Торговый Центр|торговый центр', case=False)\n",
    "df_oct_2021 = df_oct_2021[~condition1 & ~mask]\n",
    "display(df_oct_2021.shape)\n",
    "\n",
    "df_oct_2021 = df_oct_2021[~(((df_oct_2021['Тип'] == 'Сдам') & (df_oct_2021['Стоимость, м2'] > 100000)) | ((df_oct_2021['Тип'] == 'Продам') & (df_oct_2021['Стоимость, м2'] > 10000000)))]\n",
    "display(df_oct_2021.shape)\n",
    "\n",
    "# Добавляем столбец \"Категория Площади\"\n",
    "df_oct_2021['Категория Площади'] = df_oct_2021['Площадь, м2'].apply(categorize_area)\n",
    "\n",
    "# Добавляем столбец \"Район\"\n",
    "df_oct_2021['Район'] = df_oct_2021.apply(lambda row: get_district(Point(row['Долгота'], row['Широта'])), axis=1)\n",
    "\n",
    "# Добавляем столбец \"Категория стоимости\"\n",
    "df_oct_2021['Категория Стоимости'] = \"Не определено\"  # Значение по умолчанию\n",
    "df_oct_2021.loc[df_oct_2021['Тип'] == 'Продам', 'Категория Стоимости'] = df_oct_2021.loc[df_oct_2021['Тип'] == 'Продам', 'Стоимость'].apply(categorize_price)\n",
    "\n",
    "df_oct_2021.to_excel('C:/Users/malsh/Desktop/Магазин Магазинов/Готовые df street/df_oct_21_street.xlsx', index=False)\n",
    "print(f'DataFrame сохранен в {\"C:/Users/malsh/Desktop/Магазин Магазинов/Готовые df street/df_oct_21_street.xlsx\"}')"
   ]
  },
  {
   "cell_type": "markdown",
   "id": "c27720ea",
   "metadata": {},
   "source": [
    "## Ноябрь 2021"
   ]
  },
  {
   "cell_type": "code",
   "execution_count": 6,
   "id": "6905c0aa",
   "metadata": {},
   "outputs": [
    {
     "data": {
      "text/plain": [
       "(10000, 13)"
      ]
     },
     "metadata": {},
     "output_type": "display_data"
    },
    {
     "data": {
      "text/plain": [
       "(10000, 13)"
      ]
     },
     "metadata": {},
     "output_type": "display_data"
    },
    {
     "data": {
      "text/plain": [
       "(4665, 13)"
      ]
     },
     "metadata": {},
     "output_type": "display_data"
    },
    {
     "data": {
      "text/plain": [
       "(24665, 13)"
      ]
     },
     "metadata": {},
     "output_type": "display_data"
    },
    {
     "data": {
      "text/plain": [
       "(5419, 13)"
      ]
     },
     "metadata": {},
     "output_type": "display_data"
    },
    {
     "data": {
      "text/plain": [
       "(4883, 13)"
      ]
     },
     "metadata": {},
     "output_type": "display_data"
    },
    {
     "data": {
      "text/plain": [
       "(4781, 13)"
      ]
     },
     "metadata": {},
     "output_type": "display_data"
    },
    {
     "data": {
      "text/plain": [
       "(4763, 13)"
      ]
     },
     "metadata": {},
     "output_type": "display_data"
    },
    {
     "name": "stdout",
     "output_type": "stream",
     "text": [
      "DataFrame сохранен в C:/Users/malsh/Desktop/Магазин Магазинов/Готовые df street/df_nov_21_street.xlsx\n"
     ]
    }
   ],
   "source": [
    "df_nov_1 = pd.read_excel('C:/Users/malsh/Desktop/Магазин Магазинов/Данные/Ноябрь_2021/Ноябрь_2021_1.xlsx', sheet_name='Worksheet')[['№', 'Категория', 'Тип', 'Этаж', 'Площадь, м2', 'Стоимость', 'Стоимость, м2', 'Имя контакта', 'Телефон', 'Широта', 'Долгота', 'Описание', 'Ссылка']]\n",
    "df_nov_1 = df_nov_1.drop_duplicates()\n",
    "#display(df_nov_1.head(3))\n",
    "display(df_nov_1.shape)\n",
    "\n",
    "df_nov_2 = pd.read_excel('C:/Users/malsh/Desktop/Магазин Магазинов/Данные/Ноябрь_2021/Ноябрь_2021_2.xlsx', sheet_name='Worksheet')[['№', 'Категория', 'Тип', 'Этаж', 'Площадь, м2', 'Стоимость', 'Стоимость, м2', 'Имя контакта', 'Телефон', 'Широта', 'Долгота', 'Описание', 'Ссылка']]\n",
    "df_nov_2 = df_nov_2.drop_duplicates()\n",
    "#display(df_nov_2.head(3))\n",
    "display(df_nov_2.shape)\n",
    "\n",
    "df_nov_3 = pd.read_excel('C:/Users/malsh/Desktop/Магазин Магазинов/Данные/Ноябрь_2021/Ноябрь_2021_3.xlsx', sheet_name='Worksheet')[['№', 'Категория', 'Тип', 'Этаж', 'Площадь, м2', 'Стоимость', 'Стоимость, м2', 'Имя контакта', 'Телефон', 'Широта', 'Долгота', 'Описание', 'Ссылка']]\n",
    "df_nov_3 = df_nov_3.drop_duplicates()\n",
    "#display(df_nov_3.head(3))\n",
    "display(df_nov_3.shape)\n",
    "\n",
    "df_nov_2021 = pd.concat([df_nov_1, df_nov_2, df_nov_3], ignore_index=True)\n",
    "display(df_nov_2021.shape)\n",
    "\n",
    "df_nov_2021 = df_nov_2021[df_nov_2021['Этаж'] == 1]\n",
    "df_nov_2021 = df_nov_2021.drop_duplicates()\n",
    "df_nov_2021 = df_nov_2021.drop_duplicates(subset=['Тип', 'Площадь, м2', 'Широта', 'Долгота'], keep='first')\n",
    "display(df_nov_2021.shape)\n",
    "\n",
    "df_nov_2021 = df_nov_2021[(df_nov_2021['Площадь, м2'] < 1000) & (df_nov_2021['Площадь, м2'] > 20)]\n",
    "display(df_nov_2021.shape)\n",
    "\n",
    "df_nov_2021 = df_nov_2021.dropna(subset=['Описание'])\n",
    "condition1 = df_nov_2021['Описание'].str.contains('в ТЦ|в тц|в ТРЦ|в торговом центре|на первом этаже торгового центра|в ТД|в ТРК|в новом ТРК|в составе ТРЦ|на первом торговом уровне ТЦ|в новом ТЦ|ТЦ \"Ясенево\"|в районном Торговом центре|в современном ТРЦ|на 1 этаже ТЦ|на 1-ом этаже ТЦ|на 1 этаже торгового центра|на 1-м этаже торгового центра|на 1-ом этаже торгового центра', case=False)\n",
    "mask = df_nov_2021['Описание'].str[:70].str.contains('Торговый центр|Торговый Центр|торговый центр', case=False)\n",
    "df_nov_2021 = df_nov_2021[~condition1 & ~mask]\n",
    "display(df_nov_2021.shape)\n",
    "\n",
    "df_nov_2021 = df_nov_2021[~(((df_nov_2021['Тип'] == 'Сдам') & (df_nov_2021['Стоимость, м2'] > 100000)) | ((df_nov_2021['Тип'] == 'Продам') & (df_nov_2021['Стоимость, м2'] > 10000000)))]\n",
    "display(df_nov_2021.shape)\n",
    "\n",
    "# Добавляем столбец \"Категория Площади\"\n",
    "df_nov_2021['Категория Площади'] = df_nov_2021['Площадь, м2'].apply(categorize_area)\n",
    "\n",
    "# Добавляем столбец \"Район\"\n",
    "df_nov_2021['Район'] = df_nov_2021.apply(lambda row: get_district(Point(row['Долгота'], row['Широта'])), axis=1)\n",
    "\n",
    "# Добавляем столбец \"Категория стоимости\"\n",
    "df_nov_2021['Категория Стоимости'] = \"Не определено\"  # Значение по умолчанию\n",
    "df_nov_2021.loc[df_nov_2021['Тип'] == 'Продам', 'Категория Стоимости'] = df_nov_2021.loc[df_nov_2021['Тип'] == 'Продам', 'Стоимость'].apply(categorize_price)\n",
    "\n",
    "df_nov_2021.to_excel('C:/Users/malsh/Desktop/Магазин Магазинов/Готовые df street/df_nov_21_street.xlsx', index=False)\n",
    "print(f'DataFrame сохранен в {\"C:/Users/malsh/Desktop/Магазин Магазинов/Готовые df street/df_nov_21_street.xlsx\"}')"
   ]
  },
  {
   "cell_type": "markdown",
   "id": "1327f5e4",
   "metadata": {},
   "source": [
    "## Декабрь 2021"
   ]
  },
  {
   "cell_type": "code",
   "execution_count": 7,
   "id": "89e241c6",
   "metadata": {},
   "outputs": [
    {
     "data": {
      "text/plain": [
       "(10000, 13)"
      ]
     },
     "metadata": {},
     "output_type": "display_data"
    },
    {
     "data": {
      "text/plain": [
       "(6180, 13)"
      ]
     },
     "metadata": {},
     "output_type": "display_data"
    },
    {
     "data": {
      "text/plain": [
       "(16180, 13)"
      ]
     },
     "metadata": {},
     "output_type": "display_data"
    },
    {
     "data": {
      "text/plain": [
       "(4591, 13)"
      ]
     },
     "metadata": {},
     "output_type": "display_data"
    },
    {
     "data": {
      "text/plain": [
       "(4050, 13)"
      ]
     },
     "metadata": {},
     "output_type": "display_data"
    },
    {
     "data": {
      "text/plain": [
       "(3986, 13)"
      ]
     },
     "metadata": {},
     "output_type": "display_data"
    },
    {
     "data": {
      "text/plain": [
       "(3962, 13)"
      ]
     },
     "metadata": {},
     "output_type": "display_data"
    },
    {
     "name": "stdout",
     "output_type": "stream",
     "text": [
      "DataFrame сохранен в C:/Users/malsh/Desktop/Магазин Магазинов/Готовые df street/df_dec_21_street.xlsx\n"
     ]
    }
   ],
   "source": [
    "df_dec_1 = pd.read_excel('C:/Users/malsh/Desktop/Магазин Магазинов/Данные/Декабрь_2021/Декабрь_2021_1.xlsx', sheet_name='Worksheet')[['№', 'Категория', 'Тип', 'Этаж', 'Площадь, м2', 'Стоимость', 'Стоимость, м2', 'Имя контакта', 'Телефон', 'Широта', 'Долгота', 'Описание', 'Ссылка']]\n",
    "df_dec_1 = df_dec_1.drop_duplicates()\n",
    "#display(df_dec_1.head(3))\n",
    "display(df_dec_1.shape)\n",
    "\n",
    "df_dec_2 = pd.read_excel('C:/Users/malsh/Desktop/Магазин Магазинов/Данные/Декабрь_2021/Декабрь_2021_2.xlsx', sheet_name='Worksheet')[['№', 'Категория', 'Тип', 'Этаж', 'Площадь, м2', 'Стоимость', 'Стоимость, м2', 'Имя контакта', 'Телефон', 'Широта', 'Долгота', 'Описание', 'Ссылка']]\n",
    "df_dec_2 = df_dec_2.drop_duplicates()\n",
    "#display(df_dec_2.head(3))\n",
    "display(df_dec_2.shape)\n",
    "\n",
    "\n",
    "df_dec_2021 = pd.concat([df_dec_1, df_dec_2], ignore_index=True)\n",
    "display(df_dec_2021.shape)\n",
    "\n",
    "df_dec_2021 = df_dec_2021[df_dec_2021['Этаж'] == 1]\n",
    "df_dec_2021 = df_dec_2021.drop_duplicates()\n",
    "df_dec_2021 = df_dec_2021.drop_duplicates(subset=['Тип', 'Площадь, м2', 'Широта', 'Долгота'], keep='first')\n",
    "display(df_dec_2021.shape)\n",
    "\n",
    "df_dec_2021 = df_dec_2021[(df_dec_2021['Площадь, м2'] < 1000) & (df_dec_2021['Площадь, м2'] > 20)]\n",
    "display(df_dec_2021.shape)\n",
    "\n",
    "df_dec_2021 = df_dec_2021.dropna(subset=['Описание'])\n",
    "condition1 = df_dec_2021['Описание'].str.contains('в ТЦ|в тц|в ТРЦ|в торговом центре|на первом этаже торгового центра|в ТД|в ТРК|в новом ТРК|в составе ТРЦ|на первом торговом уровне ТЦ|в новом ТЦ|ТЦ \"Ясенево\"|в районном Торговом центре|в современном ТРЦ|на 1 этаже ТЦ|на 1-ом этаже ТЦ|на 1 этаже торгового центра|на 1-м этаже торгового центра|на 1-ом этаже торгового центра', case=False)\n",
    "mask = df_dec_2021['Описание'].str[:70].str.contains('Торговый центр|Торговый Центр|торговый центр', case=False)\n",
    "df_dec_2021 = df_dec_2021[~condition1 & ~mask]\n",
    "display(df_dec_2021.shape)\n",
    "\n",
    "df_dec_2021 = df_dec_2021[~(((df_dec_2021['Тип'] == 'Сдам') & (df_dec_2021['Стоимость, м2'] > 100000)) | ((df_dec_2021['Тип'] == 'Продам') & (df_dec_2021['Стоимость, м2'] > 10000000)))]\n",
    "display(df_dec_2021.shape)\n",
    "\n",
    "# Добавляем столбец \"Категория Площади\"\n",
    "df_dec_2021['Категория Площади'] = df_dec_2021['Площадь, м2'].apply(categorize_area)\n",
    "\n",
    "# Добавляем столбец \"Район\"\n",
    "df_dec_2021['Район'] = df_dec_2021.apply(lambda row: get_district(Point(row['Долгота'], row['Широта'])), axis=1)\n",
    "\n",
    "# Добавляем столбец \"Категория стоимости\"\n",
    "df_dec_2021['Категория Стоимости'] = \"Не определено\"  # Значение по умолчанию\n",
    "df_dec_2021.loc[df_dec_2021['Тип'] == 'Продам', 'Категория Стоимости'] = df_dec_2021.loc[df_dec_2021['Тип'] == 'Продам', 'Стоимость'].apply(categorize_price)\n",
    "\n",
    "df_dec_2021.to_excel('C:/Users/malsh/Desktop/Магазин Магазинов/Готовые df street/df_dec_21_street.xlsx', index=False)\n",
    "print(f'DataFrame сохранен в {\"C:/Users/malsh/Desktop/Магазин Магазинов/Готовые df street/df_dec_21_street.xlsx\"}')"
   ]
  },
  {
   "cell_type": "code",
   "execution_count": 25,
   "id": "226a88bf",
   "metadata": {},
   "outputs": [
    {
     "data": {
      "text/plain": [
       "(14773, 16)"
      ]
     },
     "metadata": {},
     "output_type": "display_data"
    },
    {
     "name": "stdout",
     "output_type": "stream",
     "text": [
      "DataFrame сохранен в C:/Users/malsh/Desktop/Магазин Магазинов/Готовые df street/Кварталы/4кв. 2021.xlsx\n"
     ]
    }
   ],
   "source": [
    "three_m = pd.concat([df_oct_2021, df_nov_2021, df_dec_2021])\n",
    "three_m.drop_duplicates()\n",
    "three_m.drop_duplicates(subset=['Тип', 'Площадь, м2', 'Широта', 'Долгота'], keep='first', inplace=True)\n",
    "display(three_m.shape)\n",
    "\n",
    "three_m.to_excel('C:/Users/malsh/Desktop/Магазин Магазинов/Готовые df street/Кварталы/4кв. 2021.xlsx', index=False)\n",
    "print(f'DataFrame сохранен в {\"C:/Users/malsh/Desktop/Магазин Магазинов/Готовые df street/Кварталы/4кв. 2021.xlsx\"}')"
   ]
  },
  {
   "cell_type": "code",
   "execution_count": null,
   "id": "ea386f9d",
   "metadata": {},
   "outputs": [],
   "source": []
  },
  {
   "cell_type": "markdown",
   "id": "dbdd46dc",
   "metadata": {},
   "source": [
    "## Январь 2022"
   ]
  },
  {
   "cell_type": "code",
   "execution_count": 8,
   "id": "077c1806",
   "metadata": {},
   "outputs": [
    {
     "data": {
      "text/plain": [
       "(10000, 13)"
      ]
     },
     "metadata": {},
     "output_type": "display_data"
    },
    {
     "data": {
      "text/plain": [
       "(9107, 13)"
      ]
     },
     "metadata": {},
     "output_type": "display_data"
    },
    {
     "data": {
      "text/plain": [
       "(19107, 13)"
      ]
     },
     "metadata": {},
     "output_type": "display_data"
    },
    {
     "data": {
      "text/plain": [
       "(6621, 13)"
      ]
     },
     "metadata": {},
     "output_type": "display_data"
    },
    {
     "data": {
      "text/plain": [
       "(5863, 13)"
      ]
     },
     "metadata": {},
     "output_type": "display_data"
    },
    {
     "data": {
      "text/plain": [
       "(5764, 13)"
      ]
     },
     "metadata": {},
     "output_type": "display_data"
    },
    {
     "data": {
      "text/plain": [
       "(5746, 13)"
      ]
     },
     "metadata": {},
     "output_type": "display_data"
    },
    {
     "name": "stderr",
     "output_type": "stream",
     "text": [
      "C:\\Users\\malsh\\anaconda3\\lib\\site-packages\\shapely\\predicates.py:540: RuntimeWarning: invalid value encountered in contains\n",
      "  return lib.contains(a, b, **kwargs)\n"
     ]
    },
    {
     "name": "stdout",
     "output_type": "stream",
     "text": [
      "DataFrame сохранен в C:/Users/malsh/Desktop/Магазин Магазинов/Готовые df street/df_jan_22_street.xlsx\n"
     ]
    }
   ],
   "source": [
    "df_jan_1 = pd.read_excel('C:/Users/malsh/Desktop/Магазин Магазинов/Данные/Январь_2022/Январь_2022_1.xlsx', sheet_name='Worksheet')[['№', 'Категория', 'Тип', 'Этаж', 'Площадь, м2', 'Стоимость', 'Стоимость, м2', 'Имя контакта', 'Телефон', 'Широта', 'Долгота', 'Описание', 'Ссылка']]\n",
    "df_jan_1 = df_jan_1.drop_duplicates()\n",
    "#display(df_jan_1.head(3))\n",
    "display(df_jan_1.shape)\n",
    "\n",
    "df_jan_2 = pd.read_excel('C:/Users/malsh/Desktop/Магазин Магазинов/Данные/Январь_2022/Январь_2022_2.xlsx', sheet_name='Worksheet')[['№', 'Категория', 'Тип', 'Этаж', 'Площадь, м2', 'Стоимость', 'Стоимость, м2', 'Имя контакта', 'Телефон', 'Широта', 'Долгота', 'Описание', 'Ссылка']]\n",
    "df_jan_2 = df_jan_2.drop_duplicates()\n",
    "#display(df_jan_2.head(3))\n",
    "display(df_jan_2.shape)\n",
    "\n",
    "\n",
    "df_jan_2022 = pd.concat([df_jan_1, df_jan_2], ignore_index=True)\n",
    "display(df_jan_2022.shape)\n",
    "\n",
    "df_jan_2022 = df_jan_2022[df_jan_2022['Этаж'] == 1]\n",
    "df_jan_2022 = df_jan_2022.drop_duplicates()\n",
    "df_jan_2022 = df_jan_2022.drop_duplicates(subset=['Тип', 'Площадь, м2', 'Широта', 'Долгота'], keep='first')\n",
    "display(df_jan_2022.shape)\n",
    "\n",
    "df_jan_2022 = df_jan_2022[(df_jan_2022['Площадь, м2'] < 1000) & (df_jan_2022['Площадь, м2'] > 20)]\n",
    "display(df_jan_2022.shape)\n",
    "\n",
    "df_jan_2022 = df_jan_2022.dropna(subset=['Описание'])\n",
    "condition1 = df_jan_2022['Описание'].str.contains('в ТЦ|в тц|в ТРЦ|в торговом центре|на первом этаже торгового центра|в ТД|в ТРК|в новом ТРК|в составе ТРЦ|на первом торговом уровне ТЦ|в новом ТЦ|ТЦ \"Ясенево\"|в районном Торговом центре|в современном ТРЦ|на 1 этаже ТЦ|на 1-ом этаже ТЦ|на 1 этаже торгового центра|на 1-м этаже торгового центра|на 1-ом этаже торгового центра', case=False)\n",
    "mask = df_jan_2022['Описание'].str[:70].str.contains('Торговый центр|Торговый Центр|торговый центр', case=False)\n",
    "df_jan_2022 = df_jan_2022[~condition1 & ~mask]\n",
    "display(df_jan_2022.shape)\n",
    "\n",
    "df_jan_2022 = df_jan_2022[~(((df_jan_2022['Тип'] == 'Сдам') & (df_jan_2022['Стоимость, м2'] > 100000)) | ((df_jan_2022['Тип'] == 'Продам') & (df_jan_2022['Стоимость, м2'] > 10000000)))]\n",
    "display(df_jan_2022.shape)\n",
    "\n",
    "# Добавляем столбец \"Категория Площади\"\n",
    "df_jan_2022['Категория Площади'] = df_jan_2022['Площадь, м2'].apply(categorize_area)\n",
    "\n",
    "# Добавляем столбец \"Район\"\n",
    "df_jan_2022['Район'] = df_jan_2022.apply(lambda row: get_district(Point(row['Долгота'], row['Широта'])), axis=1)\n",
    "\n",
    "# Добавляем столбец \"Категория стоимости\"\n",
    "df_jan_2022['Категория Стоимости'] = \"Не определено\"  # Значение по умолчанию\n",
    "df_jan_2022.loc[df_jan_2022['Тип'] == 'Продам', 'Категория Стоимости'] = df_jan_2022.loc[df_jan_2022['Тип'] == 'Продам', 'Стоимость'].apply(categorize_price)\n",
    "\n",
    "df_jan_2022.to_excel('C:/Users/malsh/Desktop/Магазин Магазинов/Готовые df street/df_jan_22_street.xlsx', index=False)\n",
    "print(f'DataFrame сохранен в {\"C:/Users/malsh/Desktop/Магазин Магазинов/Готовые df street/df_jan_22_street.xlsx\"}')"
   ]
  },
  {
   "cell_type": "markdown",
   "id": "764c2f04",
   "metadata": {},
   "source": [
    "## Февраль 2022"
   ]
  },
  {
   "cell_type": "code",
   "execution_count": 9,
   "id": "c5fd43d2",
   "metadata": {},
   "outputs": [
    {
     "data": {
      "text/plain": [
       "(10000, 13)"
      ]
     },
     "metadata": {},
     "output_type": "display_data"
    },
    {
     "data": {
      "text/plain": [
       "(10000, 13)"
      ]
     },
     "metadata": {},
     "output_type": "display_data"
    },
    {
     "data": {
      "text/plain": [
       "(2776, 13)"
      ]
     },
     "metadata": {},
     "output_type": "display_data"
    },
    {
     "data": {
      "text/plain": [
       "(22776, 13)"
      ]
     },
     "metadata": {},
     "output_type": "display_data"
    },
    {
     "data": {
      "text/plain": [
       "(6797, 13)"
      ]
     },
     "metadata": {},
     "output_type": "display_data"
    },
    {
     "data": {
      "text/plain": [
       "(5876, 13)"
      ]
     },
     "metadata": {},
     "output_type": "display_data"
    },
    {
     "data": {
      "text/plain": [
       "(5758, 13)"
      ]
     },
     "metadata": {},
     "output_type": "display_data"
    },
    {
     "data": {
      "text/plain": [
       "(5731, 13)"
      ]
     },
     "metadata": {},
     "output_type": "display_data"
    },
    {
     "name": "stderr",
     "output_type": "stream",
     "text": [
      "C:\\Users\\malsh\\anaconda3\\lib\\site-packages\\shapely\\predicates.py:540: RuntimeWarning: invalid value encountered in contains\n",
      "  return lib.contains(a, b, **kwargs)\n"
     ]
    },
    {
     "name": "stdout",
     "output_type": "stream",
     "text": [
      "DataFrame сохранен в C:/Users/malsh/Desktop/Магазин Магазинов/Готовые df street/df_feb_22_street.xlsx\n"
     ]
    }
   ],
   "source": [
    "df_feb_1 = pd.read_excel('C:/Users/malsh/Desktop/Магазин Магазинов/Данные/Февраль_2022/Февраль_2022_1.xlsx', sheet_name='Worksheet')[['№', 'Категория', 'Тип', 'Этаж', 'Площадь, м2', 'Стоимость', 'Стоимость, м2', 'Имя контакта', 'Телефон', 'Широта', 'Долгота', 'Описание', 'Ссылка']]\n",
    "df_feb_1 = df_feb_1.drop_duplicates()\n",
    "#display(df_feb_1.head(3))\n",
    "display(df_feb_1.shape)\n",
    "\n",
    "df_feb_2 = pd.read_excel('C:/Users/malsh/Desktop/Магазин Магазинов/Данные/Февраль_2022/Февраль_2022_2.xlsx', sheet_name='Worksheet')[['№', 'Категория', 'Тип', 'Этаж', 'Площадь, м2', 'Стоимость', 'Стоимость, м2', 'Имя контакта', 'Телефон', 'Широта', 'Долгота', 'Описание', 'Ссылка']]\n",
    "df_feb_2 = df_feb_2.drop_duplicates()\n",
    "#display(df_feb_2.head(3))\n",
    "display(df_feb_2.shape)\n",
    "\n",
    "df_feb_3 = pd.read_excel('C:/Users/malsh/Desktop/Магазин Магазинов/Данные/Февраль_2022/Февраль_2022_3.xlsx', sheet_name='Worksheet')[['№', 'Категория', 'Тип', 'Этаж', 'Площадь, м2', 'Стоимость', 'Стоимость, м2', 'Имя контакта', 'Телефон', 'Широта', 'Долгота', 'Описание', 'Ссылка']]\n",
    "df_feb_3 = df_feb_3.drop_duplicates()\n",
    "#display(df_feb_3.head(3))\n",
    "display(df_feb_3.shape)\n",
    "\n",
    "df_feb_2022 = pd.concat([df_feb_1, df_feb_2, df_feb_3], ignore_index=True)\n",
    "display(df_feb_2022.shape)\n",
    "\n",
    "df_feb_2022 = df_feb_2022[df_feb_2022['Этаж'] == 1]\n",
    "df_feb_2022 = df_feb_2022.drop_duplicates()\n",
    "df_feb_2022 = df_feb_2022.drop_duplicates(subset=['Тип', 'Площадь, м2', 'Широта', 'Долгота'], keep='first')\n",
    "display(df_feb_2022.shape)\n",
    "\n",
    "df_feb_2022 = df_feb_2022[(df_feb_2022['Площадь, м2'] < 1000) & (df_feb_2022['Площадь, м2'] > 20)]\n",
    "display(df_feb_2022.shape)\n",
    "\n",
    "df_feb_2022 = df_feb_2022.dropna(subset=['Описание'])\n",
    "condition1 = df_feb_2022['Описание'].str.contains('в ТЦ|в тц|в ТРЦ|в торговом центре|на первом этаже торгового центра|в ТД|в ТРК|в новом ТРК|в составе ТРЦ|на первом торговом уровне ТЦ|в новом ТЦ|ТЦ \"Ясенево\"|в районном Торговом центре|в современном ТРЦ|на 1 этаже ТЦ|на 1-ом этаже ТЦ|на 1 этаже торгового центра|на 1-м этаже торгового центра|на 1-ом этаже торгового центра', case=False)\n",
    "mask = df_feb_2022['Описание'].str[:70].str.contains('Торговый центр|Торговый Центр|торговый центр', case=False)\n",
    "df_feb_2022 = df_feb_2022[~condition1 & ~mask]\n",
    "display(df_feb_2022.shape)\n",
    "\n",
    "df_feb_2022 = df_feb_2022[~(((df_feb_2022['Тип'] == 'Сдам') & (df_feb_2022['Стоимость, м2'] > 100000)) | ((df_feb_2022['Тип'] == 'Продам') & (df_feb_2022['Стоимость, м2'] > 10000000)))]\n",
    "display(df_feb_2022.shape)\n",
    "\n",
    "# Добавляем столбец \"Категория Площади\"\n",
    "df_feb_2022['Категория Площади'] = df_feb_2022['Площадь, м2'].apply(categorize_area)\n",
    "\n",
    "# Добавляем столбец \"Район\"\n",
    "df_feb_2022['Район'] = df_feb_2022.apply(lambda row: get_district(Point(row['Долгота'], row['Широта'])), axis=1)\n",
    "\n",
    "# Добавляем столбец \"Категория стоимости\"\n",
    "df_feb_2022['Категория Стоимости'] = \"Не определено\"  # Значение по умолчанию\n",
    "df_feb_2022.loc[df_feb_2022['Тип'] == 'Продам', 'Категория Стоимости'] = df_feb_2022.loc[df_feb_2022['Тип'] == 'Продам', 'Стоимость'].apply(categorize_price)\n",
    "\n",
    "df_feb_2022.to_excel('C:/Users/malsh/Desktop/Магазин Магазинов/Готовые df street/df_feb_22_street.xlsx', index=False)\n",
    "print(f'DataFrame сохранен в {\"C:/Users/malsh/Desktop/Магазин Магазинов/Готовые df street/df_feb_22_street.xlsx\"}')"
   ]
  },
  {
   "cell_type": "markdown",
   "id": "d1307375",
   "metadata": {},
   "source": [
    "## Март 2022"
   ]
  },
  {
   "cell_type": "code",
   "execution_count": 10,
   "id": "705a1ec9",
   "metadata": {},
   "outputs": [
    {
     "data": {
      "text/plain": [
       "(10000, 13)"
      ]
     },
     "metadata": {},
     "output_type": "display_data"
    },
    {
     "data": {
      "text/plain": [
       "(10000, 13)"
      ]
     },
     "metadata": {},
     "output_type": "display_data"
    },
    {
     "data": {
      "text/plain": [
       "(5406, 13)"
      ]
     },
     "metadata": {},
     "output_type": "display_data"
    },
    {
     "data": {
      "text/plain": [
       "(25406, 13)"
      ]
     },
     "metadata": {},
     "output_type": "display_data"
    },
    {
     "data": {
      "text/plain": [
       "(9262, 13)"
      ]
     },
     "metadata": {},
     "output_type": "display_data"
    },
    {
     "data": {
      "text/plain": [
       "(8232, 13)"
      ]
     },
     "metadata": {},
     "output_type": "display_data"
    },
    {
     "data": {
      "text/plain": [
       "(8027, 13)"
      ]
     },
     "metadata": {},
     "output_type": "display_data"
    },
    {
     "data": {
      "text/plain": [
       "(7992, 13)"
      ]
     },
     "metadata": {},
     "output_type": "display_data"
    },
    {
     "name": "stderr",
     "output_type": "stream",
     "text": [
      "C:\\Users\\malsh\\anaconda3\\lib\\site-packages\\shapely\\predicates.py:540: RuntimeWarning: invalid value encountered in contains\n",
      "  return lib.contains(a, b, **kwargs)\n"
     ]
    },
    {
     "name": "stdout",
     "output_type": "stream",
     "text": [
      "DataFrame сохранен в C:/Users/malsh/Desktop/Магазин Магазинов/Готовые df street/df_mar_22_street.xlsx\n"
     ]
    }
   ],
   "source": [
    "df_mar_1 = pd.read_excel('C:/Users/malsh/Desktop/Магазин Магазинов/Данные/Март_2022/Март_2022_1.xlsx', sheet_name='Worksheet')[['№', 'Категория', 'Тип', 'Этаж', 'Площадь, м2', 'Стоимость', 'Стоимость, м2', 'Имя контакта', 'Телефон', 'Широта', 'Долгота', 'Описание', 'Ссылка']]\n",
    "df_mar_1 = df_mar_1.drop_duplicates()\n",
    "#display(df_mar_1.head(3))\n",
    "display(df_mar_1.shape)\n",
    "\n",
    "df_mar_2 = pd.read_excel('C:/Users/malsh/Desktop/Магазин Магазинов/Данные/Март_2022/Март_2022_2.xlsx', sheet_name='Worksheet')[['№', 'Категория', 'Тип', 'Этаж', 'Площадь, м2', 'Стоимость', 'Стоимость, м2', 'Имя контакта', 'Телефон', 'Широта', 'Долгота', 'Описание', 'Ссылка']]\n",
    "df_mar_2 = df_mar_2.drop_duplicates()\n",
    "#display(df_mar_2.head(3))\n",
    "display(df_mar_2.shape)\n",
    "\n",
    "df_mar_3 = pd.read_excel('C:/Users/malsh/Desktop/Магазин Магазинов/Данные/Март_2022/Март_2022_3.xlsx', sheet_name='Worksheet')[['№', 'Категория', 'Тип', 'Этаж', 'Площадь, м2', 'Стоимость', 'Стоимость, м2', 'Имя контакта', 'Телефон', 'Широта', 'Долгота', 'Описание', 'Ссылка']]\n",
    "df_mar_3 = df_mar_3.drop_duplicates()\n",
    "#display(df_mar_3.head(3))\n",
    "display(df_mar_3.shape)\n",
    "\n",
    "df_mar_2022 = pd.concat([df_mar_1, df_mar_2, df_mar_3], ignore_index=True)\n",
    "display(df_mar_2022.shape)\n",
    "\n",
    "df_mar_2022 = df_mar_2022[df_mar_2022['Этаж'] == 1]\n",
    "df_mar_2022 = df_mar_2022.drop_duplicates()\n",
    "df_mar_2022 = df_mar_2022.drop_duplicates(subset=['Тип', 'Площадь, м2', 'Широта', 'Долгота'], keep='first')\n",
    "display(df_mar_2022.shape)\n",
    "\n",
    "df_mar_2022 = df_mar_2022[(df_mar_2022['Площадь, м2'] < 1000) & (df_mar_2022['Площадь, м2'] > 20)]\n",
    "display(df_mar_2022.shape)\n",
    "\n",
    "df_mar_2022 = df_mar_2022.dropna(subset=['Описание'])\n",
    "condition1 = df_mar_2022['Описание'].str.contains('в ТЦ|в тц|в ТРЦ|в торговом центре|на первом этаже торгового центра|в ТД|в ТРК|в новом ТРК|в составе ТРЦ|на первом торговом уровне ТЦ|в новом ТЦ|ТЦ \"Ясенево\"|в районном Торговом центре|в современном ТРЦ|на 1 этаже ТЦ|на 1-ом этаже ТЦ|на 1 этаже торгового центра|на 1-м этаже торгового центра|на 1-ом этаже торгового центра', case=False)\n",
    "mask = df_mar_2022['Описание'].str[:70].str.contains('Торговый центр|Торговый Центр|торговый центр', case=False)\n",
    "df_mar_2022 = df_mar_2022[~condition1 & ~mask]\n",
    "display(df_mar_2022.shape)\n",
    "\n",
    "df_mar_2022 = df_mar_2022[~(((df_mar_2022['Тип'] == 'Сдам') & (df_mar_2022['Стоимость, м2'] > 100000)) | ((df_mar_2022['Тип'] == 'Продам') & (df_mar_2022['Стоимость, м2'] > 10000000)))]\n",
    "display(df_mar_2022.shape)\n",
    "\n",
    "# Добавляем столбец \"Категория Площади\"\n",
    "df_mar_2022['Категория Площади'] = df_mar_2022['Площадь, м2'].apply(categorize_area)\n",
    "\n",
    "# Добавляем столбец \"Район\"\n",
    "df_mar_2022['Район'] = df_mar_2022.apply(lambda row: get_district(Point(row['Долгота'], row['Широта'])), axis=1)\n",
    "\n",
    "# Добавляем столбец \"Категория стоимости\"\n",
    "df_mar_2022['Категория Стоимости'] = \"Не определено\"  # Значение по умолчанию\n",
    "df_mar_2022.loc[df_mar_2022['Тип'] == 'Продам', 'Категория Стоимости'] = df_mar_2022.loc[df_mar_2022['Тип'] == 'Продам', 'Стоимость'].apply(categorize_price)\n",
    "\n",
    "df_mar_2022.to_excel('C:/Users/malsh/Desktop/Магазин Магазинов/Готовые df street/df_mar_22_street.xlsx', index=False)\n",
    "print(f'DataFrame сохранен в {\"C:/Users/malsh/Desktop/Магазин Магазинов/Готовые df street/df_mar_22_street.xlsx\"}')"
   ]
  },
  {
   "cell_type": "code",
   "execution_count": 26,
   "id": "811e9559",
   "metadata": {},
   "outputs": [
    {
     "data": {
      "text/plain": [
       "(16662, 16)"
      ]
     },
     "metadata": {},
     "output_type": "display_data"
    },
    {
     "name": "stdout",
     "output_type": "stream",
     "text": [
      "DataFrame сохранен в C:/Users/malsh/Desktop/Магазин Магазинов/Готовые df street/Кварталы/1кв. 2022.xlsx\n"
     ]
    }
   ],
   "source": [
    "three_m = pd.concat([df_jan_2022, df_feb_2022, df_mar_2022])\n",
    "three_m.drop_duplicates()\n",
    "three_m.drop_duplicates(subset=['Тип', 'Площадь, м2', 'Широта', 'Долгота'], keep='first', inplace=True)\n",
    "display(three_m.shape)\n",
    "\n",
    "three_m.to_excel('C:/Users/malsh/Desktop/Магазин Магазинов/Готовые df street/Кварталы/1кв. 2022.xlsx', index=False)\n",
    "print(f'DataFrame сохранен в {\"C:/Users/malsh/Desktop/Магазин Магазинов/Готовые df street/Кварталы/1кв. 2022.xlsx\"}')"
   ]
  },
  {
   "cell_type": "markdown",
   "id": "27c4d3f9",
   "metadata": {},
   "source": [
    "## Апрель 2022"
   ]
  },
  {
   "cell_type": "code",
   "execution_count": 11,
   "id": "5e9d910f",
   "metadata": {},
   "outputs": [
    {
     "data": {
      "text/plain": [
       "(10000, 13)"
      ]
     },
     "metadata": {},
     "output_type": "display_data"
    },
    {
     "data": {
      "text/plain": [
       "(7616, 13)"
      ]
     },
     "metadata": {},
     "output_type": "display_data"
    },
    {
     "data": {
      "text/plain": [
       "(17616, 13)"
      ]
     },
     "metadata": {},
     "output_type": "display_data"
    },
    {
     "data": {
      "text/plain": [
       "(7521, 13)"
      ]
     },
     "metadata": {},
     "output_type": "display_data"
    },
    {
     "data": {
      "text/plain": [
       "(6607, 13)"
      ]
     },
     "metadata": {},
     "output_type": "display_data"
    },
    {
     "data": {
      "text/plain": [
       "(6484, 13)"
      ]
     },
     "metadata": {},
     "output_type": "display_data"
    },
    {
     "data": {
      "text/plain": [
       "(6446, 13)"
      ]
     },
     "metadata": {},
     "output_type": "display_data"
    },
    {
     "name": "stdout",
     "output_type": "stream",
     "text": [
      "DataFrame сохранен в C:/Users/malsh/Desktop/Магазин Магазинов/Готовые df street/df_apr_22_street.xlsx\n"
     ]
    }
   ],
   "source": [
    "df_apr_1 = pd.read_excel('C:/Users/malsh/Desktop/Магазин Магазинов/Данные/Апрель_2022/Апрель_2022_1.xlsx', sheet_name='Worksheet')[['№', 'Категория', 'Тип', 'Этаж', 'Площадь, м2', 'Стоимость', 'Стоимость, м2', 'Имя контакта', 'Телефон', 'Широта', 'Долгота', 'Описание', 'Ссылка']]\n",
    "df_apr_1 = df_apr_1.drop_duplicates()\n",
    "#display(df_apr_1.head(3))\n",
    "display(df_apr_1.shape)\n",
    "\n",
    "df_apr_2 = pd.read_excel('C:/Users/malsh/Desktop/Магазин Магазинов/Данные/Апрель_2022/Апрель_2022_2.xlsx', sheet_name='Worksheet')[['№', 'Категория', 'Тип', 'Этаж', 'Площадь, м2', 'Стоимость', 'Стоимость, м2', 'Имя контакта', 'Телефон', 'Широта', 'Долгота', 'Описание', 'Ссылка']]\n",
    "df_apr_2 = df_apr_2.drop_duplicates()\n",
    "#display(df_apr_2.head(3))\n",
    "display(df_apr_2.shape)\n",
    "\n",
    "\n",
    "df_apr_2022 = pd.concat([df_apr_1, df_apr_2], ignore_index=True)\n",
    "display(df_apr_2022.shape)\n",
    "\n",
    "df_apr_2022 = df_apr_2022[df_apr_2022['Этаж'] == 1]\n",
    "df_apr_2022 = df_apr_2022.drop_duplicates()\n",
    "df_apr_2022 = df_apr_2022.drop_duplicates(subset=['Тип', 'Площадь, м2', 'Широта', 'Долгота'], keep='first')\n",
    "display(df_apr_2022.shape)\n",
    "\n",
    "df_apr_2022 = df_apr_2022[(df_apr_2022['Площадь, м2'] < 1000) & (df_apr_2022['Площадь, м2'] > 20)]\n",
    "display(df_apr_2022.shape)\n",
    "\n",
    "df_apr_2022 = df_apr_2022.dropna(subset=['Описание'])\n",
    "condition1 = df_apr_2022['Описание'].str.contains('в ТЦ|в тц|в ТРЦ|в торговом центре|на первом этаже торгового центра|в ТД|в ТРК|в новом ТРК|в составе ТРЦ|на первом торговом уровне ТЦ|в новом ТЦ|ТЦ \"Ясенево\"|в районном Торговом центре|в современном ТРЦ|на 1 этаже ТЦ|на 1-ом этаже ТЦ|на 1 этаже торгового центра|на 1-м этаже торгового центра|на 1-ом этаже торгового центра', case=False)\n",
    "mask = df_apr_2022['Описание'].str[:70].str.contains('Торговый центр|Торговый Центр|торговый центр', case=False)\n",
    "df_apr_2022 = df_apr_2022[~condition1 & ~mask]\n",
    "display(df_apr_2022.shape)\n",
    "\n",
    "df_apr_2022 = df_apr_2022[~(((df_apr_2022['Тип'] == 'Сдам') & (df_apr_2022['Стоимость, м2'] > 100000)) | ((df_apr_2022['Тип'] == 'Продам') & (df_apr_2022['Стоимость, м2'] > 10000000)))]\n",
    "display(df_apr_2022.shape)\n",
    "\n",
    "# Добавляем столбец \"Категория Площади\"\n",
    "df_apr_2022['Категория Площади'] = df_apr_2022['Площадь, м2'].apply(categorize_area)\n",
    "\n",
    "# Добавляем столбец \"Район\"\n",
    "df_apr_2022['Район'] = df_apr_2022.apply(lambda row: get_district(Point(row['Долгота'], row['Широта'])), axis=1)\n",
    "\n",
    "# Добавляем столбец \"Категория стоимости\"\n",
    "df_apr_2022['Категория Стоимости'] = \"Не определено\"  # Значение по умолчанию\n",
    "df_apr_2022.loc[df_apr_2022['Тип'] == 'Продам', 'Категория Стоимости'] = df_apr_2022.loc[df_apr_2022['Тип'] == 'Продам', 'Стоимость'].apply(categorize_price)\n",
    "\n",
    "df_apr_2022.to_excel('C:/Users/malsh/Desktop/Магазин Магазинов/Готовые df street/df_apr_22_street.xlsx', index=False)\n",
    "print(f'DataFrame сохранен в {\"C:/Users/malsh/Desktop/Магазин Магазинов/Готовые df street/df_apr_22_street.xlsx\"}')"
   ]
  },
  {
   "cell_type": "markdown",
   "id": "dabc25eb",
   "metadata": {},
   "source": [
    "## Май 2022"
   ]
  },
  {
   "cell_type": "code",
   "execution_count": 12,
   "id": "1f8476c3",
   "metadata": {},
   "outputs": [
    {
     "data": {
      "text/plain": [
       "(10000, 13)"
      ]
     },
     "metadata": {},
     "output_type": "display_data"
    },
    {
     "data": {
      "text/plain": [
       "(8375, 13)"
      ]
     },
     "metadata": {},
     "output_type": "display_data"
    },
    {
     "data": {
      "text/plain": [
       "(18375, 13)"
      ]
     },
     "metadata": {},
     "output_type": "display_data"
    },
    {
     "data": {
      "text/plain": [
       "(7673, 13)"
      ]
     },
     "metadata": {},
     "output_type": "display_data"
    },
    {
     "data": {
      "text/plain": [
       "(6761, 13)"
      ]
     },
     "metadata": {},
     "output_type": "display_data"
    },
    {
     "data": {
      "text/plain": [
       "(6626, 13)"
      ]
     },
     "metadata": {},
     "output_type": "display_data"
    },
    {
     "data": {
      "text/plain": [
       "(6601, 13)"
      ]
     },
     "metadata": {},
     "output_type": "display_data"
    },
    {
     "name": "stdout",
     "output_type": "stream",
     "text": [
      "DataFrame сохранен в C:/Users/malsh/Desktop/Магазин Магазинов/Готовые df street/df_may_22_street.xlsx\n"
     ]
    }
   ],
   "source": [
    "df_may_1 = pd.read_excel('C:/Users/malsh/Desktop/Магазин Магазинов/Данные/Май_2022/Май_2022_1.xlsx', sheet_name='Worksheet')[['№', 'Категория', 'Тип', 'Этаж', 'Площадь, м2', 'Стоимость', 'Стоимость, м2', 'Имя контакта', 'Телефон', 'Широта', 'Долгота', 'Описание', 'Ссылка']]\n",
    "df_may_1 = df_may_1.drop_duplicates()\n",
    "#display(df_may_1.head(3))\n",
    "display(df_may_1.shape)\n",
    "\n",
    "df_may_2 = pd.read_excel('C:/Users/malsh/Desktop/Магазин Магазинов/Данные/Май_2022/Май_2022_2.xlsx', sheet_name='Worksheet')[['№', 'Категория', 'Тип', 'Этаж', 'Площадь, м2', 'Стоимость', 'Стоимость, м2', 'Имя контакта', 'Телефон', 'Широта', 'Долгота', 'Описание', 'Ссылка']]\n",
    "df_may_2 = df_may_2.drop_duplicates()\n",
    "#display(df_may_2.head(3))\n",
    "display(df_may_2.shape)\n",
    "\n",
    "\n",
    "df_may_2022 = pd.concat([df_may_1, df_may_2], ignore_index=True)\n",
    "display(df_may_2022.shape)\n",
    "\n",
    "df_may_2022 = df_may_2022[df_may_2022['Этаж'] == 1]\n",
    "df_may_2022 = df_may_2022.drop_duplicates()\n",
    "df_may_2022 = df_may_2022.drop_duplicates(subset=['Тип', 'Площадь, м2', 'Широта', 'Долгота'], keep='first')\n",
    "display(df_may_2022.shape)\n",
    "\n",
    "df_may_2022 = df_may_2022[(df_may_2022['Площадь, м2'] < 1000) & (df_may_2022['Площадь, м2'] > 20)]\n",
    "display(df_may_2022.shape)\n",
    "\n",
    "df_may_2022 = df_may_2022.dropna(subset=['Описание'])\n",
    "condition1 = df_may_2022['Описание'].str.contains('в ТЦ|в тц|в ТРЦ|в торговом центре|на первом этаже торгового центра|в ТД|в ТРК|в новом ТРК|в составе ТРЦ|на первом торговом уровне ТЦ|в новом ТЦ|ТЦ \"Ясенево\"|в районном Торговом центре|в современном ТРЦ|на 1 этаже ТЦ|на 1-ом этаже ТЦ|на 1 этаже торгового центра|на 1-м этаже торгового центра|на 1-ом этаже торгового центра', case=False)\n",
    "mask = df_may_2022['Описание'].str[:70].str.contains('Торговый центр|Торговый Центр|торговый центр', case=False)\n",
    "df_may_2022 = df_may_2022[~condition1 & ~mask]\n",
    "display(df_may_2022.shape)\n",
    "\n",
    "df_may_2022 = df_may_2022[~(((df_may_2022['Тип'] == 'Сдам') & (df_may_2022['Стоимость, м2'] > 100000)) | ((df_may_2022['Тип'] == 'Продам') & (df_may_2022['Стоимость, м2'] > 10000000)))]\n",
    "display(df_may_2022.shape)\n",
    "\n",
    "# Добавляем столбец \"Категория Площади\"\n",
    "df_may_2022['Категория Площади'] = df_may_2022['Площадь, м2'].apply(categorize_area)\n",
    "\n",
    "# Добавляем столбец \"Район\"\n",
    "df_may_2022['Район'] = df_may_2022.apply(lambda row: get_district(Point(row['Долгота'], row['Широта'])), axis=1)\n",
    "\n",
    "# Добавляем столбец \"Категория стоимости\"\n",
    "df_may_2022['Категория Стоимости'] = \"Не определено\"  # Значение по умолчанию\n",
    "df_may_2022.loc[df_may_2022['Тип'] == 'Продам', 'Категория Стоимости'] = df_may_2022.loc[df_may_2022['Тип'] == 'Продам', 'Стоимость'].apply(categorize_price)\n",
    "\n",
    "df_may_2022.to_excel('C:/Users/malsh/Desktop/Магазин Магазинов/Готовые df street/df_may_22_street.xlsx', index=False)\n",
    "print(f'DataFrame сохранен в {\"C:/Users/malsh/Desktop/Магазин Магазинов/Готовые df street/df_may_22_street.xlsx\"}')\n"
   ]
  },
  {
   "cell_type": "markdown",
   "id": "b6229df5",
   "metadata": {},
   "source": [
    "## Июнь 2022"
   ]
  },
  {
   "cell_type": "code",
   "execution_count": 13,
   "id": "b5cf5d56",
   "metadata": {},
   "outputs": [
    {
     "data": {
      "text/plain": [
       "(10000, 13)"
      ]
     },
     "metadata": {},
     "output_type": "display_data"
    },
    {
     "data": {
      "text/plain": [
       "(9462, 13)"
      ]
     },
     "metadata": {},
     "output_type": "display_data"
    },
    {
     "data": {
      "text/plain": [
       "(19462, 13)"
      ]
     },
     "metadata": {},
     "output_type": "display_data"
    },
    {
     "data": {
      "text/plain": [
       "(7453, 13)"
      ]
     },
     "metadata": {},
     "output_type": "display_data"
    },
    {
     "data": {
      "text/plain": [
       "(6573, 13)"
      ]
     },
     "metadata": {},
     "output_type": "display_data"
    },
    {
     "data": {
      "text/plain": [
       "(6379, 13)"
      ]
     },
     "metadata": {},
     "output_type": "display_data"
    },
    {
     "data": {
      "text/plain": [
       "(6359, 13)"
      ]
     },
     "metadata": {},
     "output_type": "display_data"
    },
    {
     "name": "stdout",
     "output_type": "stream",
     "text": [
      "DataFrame сохранен в C:/Users/malsh/Desktop/Магазин Магазинов/Готовые df street/df_jun_22_street.xlsx\n"
     ]
    }
   ],
   "source": [
    "df_jun_1 = pd.read_excel('C:/Users/malsh/Desktop/Магазин Магазинов/Данные/Июнь_2022/Июнь_2022_1.xlsx', sheet_name='Worksheet')[['№', 'Категория', 'Тип', 'Этаж', 'Площадь, м2', 'Стоимость', 'Стоимость, м2', 'Имя контакта', 'Телефон', 'Широта', 'Долгота', 'Описание', 'Ссылка']]\n",
    "df_jun_1 = df_jun_1.drop_duplicates()\n",
    "#display(df_jun_1.head(3))\n",
    "display(df_jun_1.shape)\n",
    "\n",
    "df_jun_2 = pd.read_excel('C:/Users/malsh/Desktop/Магазин Магазинов/Данные/Июнь_2022/Июнь_2022_2.xlsx', sheet_name='Worksheet')[['№', 'Категория', 'Тип', 'Этаж', 'Площадь, м2', 'Стоимость', 'Стоимость, м2', 'Имя контакта', 'Телефон', 'Широта', 'Долгота', 'Описание', 'Ссылка']]\n",
    "df_jun_2 = df_jun_2.drop_duplicates()\n",
    "#display(df_jun_2.head(3))\n",
    "display(df_jun_2.shape)\n",
    "\n",
    "\n",
    "df_jun_2022 = pd.concat([df_jun_1, df_jun_2], ignore_index=True)\n",
    "display(df_jun_2022.shape)\n",
    "\n",
    "df_jun_2022 = df_jun_2022[df_jun_2022['Этаж'] == 1]\n",
    "df_jun_2022 = df_jun_2022.drop_duplicates()\n",
    "df_jun_2022 = df_jun_2022.drop_duplicates(subset=['Тип', 'Площадь, м2', 'Широта', 'Долгота'], keep='first')\n",
    "display(df_jun_2022.shape)\n",
    "\n",
    "df_jun_2022 = df_jun_2022[(df_jun_2022['Площадь, м2'] < 1000) & (df_jun_2022['Площадь, м2'] > 20)]\n",
    "display(df_jun_2022.shape)\n",
    "\n",
    "df_jun_2022 = df_jun_2022.dropna(subset=['Описание'])\n",
    "condition1 = df_jun_2022['Описание'].str.contains('в ТЦ|в тц|в ТРЦ|в торговом центре|на первом этаже торгового центра|в ТД|в ТРК|в новом ТРК|в составе ТРЦ|на первом торговом уровне ТЦ|в новом ТЦ|ТЦ \"Ясенево\"|в районном Торговом центре|в современном ТРЦ|на 1 этаже ТЦ|на 1-ом этаже ТЦ|на 1 этаже торгового центра|на 1-м этаже торгового центра|на 1-ом этаже торгового центра', case=False)\n",
    "mask = df_jun_2022['Описание'].str[:70].str.contains('Торговый центр|Торговый Центр|торговый центр', case=False)\n",
    "df_jun_2022 = df_jun_2022[~condition1 & ~mask]\n",
    "display(df_jun_2022.shape)\n",
    "\n",
    "df_jun_2022 = df_jun_2022[~(((df_jun_2022['Тип'] == 'Сдам') & (df_jun_2022['Стоимость, м2'] > 100000)) | ((df_jun_2022['Тип'] == 'Продам') & (df_jun_2022['Стоимость, м2'] > 10000000)))]\n",
    "display(df_jun_2022.shape)\n",
    "\n",
    "# Добавляем столбец \"Категория Площади\"\n",
    "df_jun_2022['Категория Площади'] = df_jun_2022['Площадь, м2'].apply(categorize_area)\n",
    "\n",
    "# Добавляем столбец \"Район\"\n",
    "df_jun_2022['Район'] = df_jun_2022.apply(lambda row: get_district(Point(row['Долгота'], row['Широта'])), axis=1)\n",
    "\n",
    "# Добавляем столбец \"Категория стоимости\"\n",
    "df_jun_2022['Категория Стоимости'] = \"Не определено\"  # Значение по умолчанию\n",
    "df_jun_2022.loc[df_jun_2022['Тип'] == 'Продам', 'Категория Стоимости'] = df_jun_2022.loc[df_jun_2022['Тип'] == 'Продам', 'Стоимость'].apply(categorize_price)\n",
    "\n",
    "df_jun_2022.to_excel('C:/Users/malsh/Desktop/Магазин Магазинов/Готовые df street/df_jun_22_street.xlsx', index=False)\n",
    "print(f'DataFrame сохранен в {\"C:/Users/malsh/Desktop/Магазин Магазинов/Готовые df street/df_jun_22_street.xlsx\"}')"
   ]
  },
  {
   "cell_type": "code",
   "execution_count": 27,
   "id": "27ce17d2",
   "metadata": {},
   "outputs": [
    {
     "data": {
      "text/plain": [
       "(16786, 16)"
      ]
     },
     "metadata": {},
     "output_type": "display_data"
    },
    {
     "name": "stdout",
     "output_type": "stream",
     "text": [
      "DataFrame сохранен в C:/Users/malsh/Desktop/Магазин Магазинов/Готовые df street/Кварталы/2кв. 2022.xlsx\n"
     ]
    }
   ],
   "source": [
    "three_m = pd.concat([df_apr_2022, df_may_2022, df_jun_2022])\n",
    "three_m.drop_duplicates()\n",
    "three_m.drop_duplicates(subset=['Тип', 'Площадь, м2', 'Широта', 'Долгота'], keep='first', inplace=True)\n",
    "display(three_m.shape)\n",
    "\n",
    "three_m.to_excel('C:/Users/malsh/Desktop/Магазин Магазинов/Готовые df street/Кварталы/2кв. 2022.xlsx', index=False)\n",
    "print(f'DataFrame сохранен в {\"C:/Users/malsh/Desktop/Магазин Магазинов/Готовые df street/Кварталы/2кв. 2022.xlsx\"}')"
   ]
  },
  {
   "cell_type": "markdown",
   "id": "3adaaf64",
   "metadata": {},
   "source": [
    "## Июль 2022"
   ]
  },
  {
   "cell_type": "code",
   "execution_count": 14,
   "id": "5c7cebef",
   "metadata": {},
   "outputs": [
    {
     "data": {
      "text/plain": [
       "(10000, 13)"
      ]
     },
     "metadata": {},
     "output_type": "display_data"
    },
    {
     "data": {
      "text/plain": [
       "(10000, 13)"
      ]
     },
     "metadata": {},
     "output_type": "display_data"
    },
    {
     "data": {
      "text/plain": [
       "(3380, 13)"
      ]
     },
     "metadata": {},
     "output_type": "display_data"
    },
    {
     "data": {
      "text/plain": [
       "(23380, 13)"
      ]
     },
     "metadata": {},
     "output_type": "display_data"
    },
    {
     "data": {
      "text/plain": [
       "(9496, 13)"
      ]
     },
     "metadata": {},
     "output_type": "display_data"
    },
    {
     "data": {
      "text/plain": [
       "(8385, 13)"
      ]
     },
     "metadata": {},
     "output_type": "display_data"
    },
    {
     "data": {
      "text/plain": [
       "(8164, 13)"
      ]
     },
     "metadata": {},
     "output_type": "display_data"
    },
    {
     "data": {
      "text/plain": [
       "(8137, 13)"
      ]
     },
     "metadata": {},
     "output_type": "display_data"
    },
    {
     "name": "stdout",
     "output_type": "stream",
     "text": [
      "DataFrame сохранен в C:/Users/malsh/Desktop/Магазин Магазинов/Готовые df street/df_jul_22_street.xlsx\n"
     ]
    }
   ],
   "source": [
    "df_jul_1 = pd.read_excel('C:/Users/malsh/Desktop/Магазин Магазинов/Данные/Июль_2022/Июль_2022_1.xlsx', sheet_name='Worksheet')[['№', 'Категория', 'Тип', 'Этаж', 'Площадь, м2', 'Стоимость', 'Стоимость, м2', 'Имя контакта', 'Телефон', 'Широта', 'Долгота', 'Описание', 'Ссылка']]\n",
    "df_jul_1 = df_jul_1.drop_duplicates()\n",
    "#display(df_jul_1.head(3))\n",
    "display(df_jul_1.shape)\n",
    "\n",
    "df_jul_2 = pd.read_excel('C:/Users/malsh/Desktop/Магазин Магазинов/Данные/Июль_2022/Июль_2022_2.xlsx', sheet_name='Worksheet')[['№', 'Категория', 'Тип', 'Этаж', 'Площадь, м2', 'Стоимость', 'Стоимость, м2', 'Имя контакта', 'Телефон', 'Широта', 'Долгота', 'Описание', 'Ссылка']]\n",
    "df_jul_2 = df_jul_2.drop_duplicates()\n",
    "#display(df_jul_2.head(3))\n",
    "display(df_jul_2.shape)\n",
    "\n",
    "df_jul_3 = pd.read_excel('C:/Users/malsh/Desktop/Магазин Магазинов/Данные/Июль_2022/Июль_2022_3.xlsx', sheet_name='Worksheet')[['№', 'Категория', 'Тип', 'Этаж', 'Площадь, м2', 'Стоимость', 'Стоимость, м2', 'Имя контакта', 'Телефон', 'Широта', 'Долгота', 'Описание', 'Ссылка']]\n",
    "df_jul_3 = df_jul_3.drop_duplicates()\n",
    "#display(df_jul_3.head(3))\n",
    "display(df_jul_3.shape)\n",
    "\n",
    "df_jul_2022 = pd.concat([df_jul_1, df_jul_2, df_jul_3], ignore_index=True)\n",
    "display(df_jul_2022.shape)\n",
    "\n",
    "df_jul_2022 = df_jul_2022[df_jul_2022['Этаж'] == 1]\n",
    "df_jul_2022 = df_jul_2022.drop_duplicates()\n",
    "df_jul_2022 = df_jul_2022.drop_duplicates(subset=['Тип', 'Площадь, м2', 'Широта', 'Долгота'], keep='first')\n",
    "display(df_jul_2022.shape)\n",
    "\n",
    "df_jul_2022 = df_jul_2022[(df_jul_2022['Площадь, м2'] < 1000) & (df_jul_2022['Площадь, м2'] > 20)]\n",
    "display(df_jul_2022.shape)\n",
    "\n",
    "df_jul_2022 = df_jul_2022.dropna(subset=['Описание'])\n",
    "condition1 = df_jul_2022['Описание'].str.contains('в ТЦ|в тц|в ТРЦ|в торговом центре|на первом этаже торгового центра|в ТД|в ТРК|в новом ТРК|в составе ТРЦ|на первом торговом уровне ТЦ|в новом ТЦ|ТЦ \"Ясенево\"|в районном Торговом центре|в современном ТРЦ|на 1 этаже ТЦ|на 1-ом этаже ТЦ|на 1 этаже торгового центра|на 1-м этаже торгового центра|на 1-ом этаже торгового центра', case=False)\n",
    "mask = df_jul_2022['Описание'].str[:70].str.contains('Торговый центр|Торговый Центр|торговый центр', case=False)\n",
    "df_jul_2022 = df_jul_2022[~condition1 & ~mask]\n",
    "display(df_jul_2022.shape)\n",
    "\n",
    "df_jul_2022 = df_jul_2022[~(((df_jul_2022['Тип'] == 'Сдам') & (df_jul_2022['Стоимость, м2'] > 100000)) | ((df_jul_2022['Тип'] == 'Продам') & (df_jul_2022['Стоимость, м2'] > 10000000)))]\n",
    "display(df_jul_2022.shape)\n",
    "\n",
    "# Добавляем столбец \"Категория Площади\"\n",
    "df_jul_2022['Категория Площади'] = df_jul_2022['Площадь, м2'].apply(categorize_area)\n",
    "\n",
    "# Добавляем столбец \"Район\"\n",
    "df_jul_2022['Район'] = df_jul_2022.apply(lambda row: get_district(Point(row['Долгота'], row['Широта'])), axis=1)\n",
    "\n",
    "# Добавляем столбец \"Категория стоимости\"\n",
    "df_jul_2022['Категория Стоимости'] = \"Не определено\"  # Значение по умолчанию\n",
    "df_jul_2022.loc[df_jul_2022['Тип'] == 'Продам', 'Категория Стоимости'] = df_jul_2022.loc[df_jul_2022['Тип'] == 'Продам', 'Стоимость'].apply(categorize_price)\n",
    "\n",
    "df_jul_2022.to_excel('C:/Users/malsh/Desktop/Магазин Магазинов/Готовые df street/df_jul_22_street.xlsx', index=False)\n",
    "print(f'DataFrame сохранен в {\"C:/Users/malsh/Desktop/Магазин Магазинов/Готовые df street/df_jul_22_street.xlsx\"}')"
   ]
  },
  {
   "cell_type": "markdown",
   "id": "87e88049",
   "metadata": {},
   "source": [
    "## Август 2022"
   ]
  },
  {
   "cell_type": "code",
   "execution_count": 15,
   "id": "8ebe4e96",
   "metadata": {},
   "outputs": [
    {
     "data": {
      "text/plain": [
       "(10000, 13)"
      ]
     },
     "metadata": {},
     "output_type": "display_data"
    },
    {
     "data": {
      "text/plain": [
       "(10000, 13)"
      ]
     },
     "metadata": {},
     "output_type": "display_data"
    },
    {
     "data": {
      "text/plain": [
       "(1533, 13)"
      ]
     },
     "metadata": {},
     "output_type": "display_data"
    },
    {
     "data": {
      "text/plain": [
       "(21533, 13)"
      ]
     },
     "metadata": {},
     "output_type": "display_data"
    },
    {
     "data": {
      "text/plain": [
       "(9303, 13)"
      ]
     },
     "metadata": {},
     "output_type": "display_data"
    },
    {
     "data": {
      "text/plain": [
       "(8137, 13)"
      ]
     },
     "metadata": {},
     "output_type": "display_data"
    },
    {
     "data": {
      "text/plain": [
       "(7959, 13)"
      ]
     },
     "metadata": {},
     "output_type": "display_data"
    },
    {
     "data": {
      "text/plain": [
       "(7933, 13)"
      ]
     },
     "metadata": {},
     "output_type": "display_data"
    },
    {
     "name": "stdout",
     "output_type": "stream",
     "text": [
      "DataFrame сохранен в C:/Users/malsh/Desktop/Магазин Магазинов/Готовые df street/df_aug_22_street.xlsx\n"
     ]
    }
   ],
   "source": [
    "df_aug_1 = pd.read_excel('C:/Users/malsh/Desktop/Магазин Магазинов/Данные/Август_2022/Август_2022_1.xlsx', sheet_name='Worksheet')[['№', 'Категория', 'Тип', 'Этаж', 'Площадь, м2', 'Стоимость', 'Стоимость, м2', 'Имя контакта', 'Телефон', 'Широта', 'Долгота', 'Описание', 'Ссылка']]\n",
    "df_aug_1 = df_aug_1.drop_duplicates()\n",
    "#display(df_aug_1.head(3))\n",
    "display(df_aug_1.shape)\n",
    "\n",
    "df_aug_2 = pd.read_excel('C:/Users/malsh/Desktop/Магазин Магазинов/Данные/Август_2022/Август_2022_2.xlsx', sheet_name='Worksheet')[['№', 'Категория', 'Тип', 'Этаж', 'Площадь, м2', 'Стоимость', 'Стоимость, м2', 'Имя контакта', 'Телефон', 'Широта', 'Долгота', 'Описание', 'Ссылка']]\n",
    "df_aug_2 = df_aug_2.drop_duplicates()\n",
    "#display(df_aug_2.head(3))\n",
    "display(df_aug_2.shape)\n",
    "\n",
    "df_aug_3 = pd.read_excel('C:/Users/malsh/Desktop/Магазин Магазинов/Данные/Август_2022/Август_2022_3.xlsx', sheet_name='Worksheet')[['№', 'Категория', 'Тип', 'Этаж', 'Площадь, м2', 'Стоимость', 'Стоимость, м2', 'Имя контакта', 'Телефон', 'Широта', 'Долгота', 'Описание', 'Ссылка']]\n",
    "df_aug_3 = df_aug_3.drop_duplicates()\n",
    "#display(df_aug_3.head(3))\n",
    "display(df_aug_3.shape)\n",
    "\n",
    "df_aug_2022 = pd.concat([df_aug_1, df_aug_2, df_aug_3], ignore_index=True)\n",
    "display(df_aug_2022.shape)\n",
    "\n",
    "df_aug_2022 = df_aug_2022[df_aug_2022['Этаж'] == 1]\n",
    "df_aug_2022 = df_aug_2022.drop_duplicates()\n",
    "df_aug_2022 = df_aug_2022.drop_duplicates(subset=['Тип', 'Площадь, м2', 'Широта', 'Долгота'], keep='first')\n",
    "display(df_aug_2022.shape)\n",
    "\n",
    "df_aug_2022 = df_aug_2022[(df_aug_2022['Площадь, м2'] < 1000) & (df_aug_2022['Площадь, м2'] > 20)]\n",
    "display(df_aug_2022.shape)\n",
    "\n",
    "df_aug_2022 = df_aug_2022.dropna(subset=['Описание'])\n",
    "condition1 = df_aug_2022['Описание'].str.contains('в ТЦ|в тц|в ТРЦ|в торговом центре|на первом этаже торгового центра|в ТД|в ТРК|в новом ТРК|в составе ТРЦ|на первом торговом уровне ТЦ|в новом ТЦ|ТЦ \"Ясенево\"|в районном Торговом центре|в современном ТРЦ|на 1 этаже ТЦ|на 1-ом этаже ТЦ|на 1 этаже торгового центра|на 1-м этаже торгового центра|на 1-ом этаже торгового центра', case=False)\n",
    "mask = df_aug_2022['Описание'].str[:70].str.contains('Торговый центр|Торговый Центр|торговый центр', case=False)\n",
    "df_aug_2022 = df_aug_2022[~condition1 & ~mask]\n",
    "display(df_aug_2022.shape)\n",
    "\n",
    "df_aug_2022 = df_aug_2022[~(((df_aug_2022['Тип'] == 'Сдам') & (df_aug_2022['Стоимость, м2'] > 100000)) | ((df_aug_2022['Тип'] == 'Продам') & (df_aug_2022['Стоимость, м2'] > 10000000)))]\n",
    "display(df_aug_2022.shape)\n",
    "\n",
    "# Добавляем столбец \"Категория Площади\"\n",
    "df_aug_2022['Категория Площади'] = df_aug_2022['Площадь, м2'].apply(categorize_area)\n",
    "\n",
    "# Добавляем столбец \"Район\"\n",
    "df_aug_2022['Район'] = df_aug_2022.apply(lambda row: get_district(Point(row['Долгота'], row['Широта'])), axis=1)\n",
    "\n",
    "# Добавляем столбец \"Категория стоимости\"\n",
    "df_aug_2022['Категория Стоимости'] = \"Не определено\"  # Значение по умолчанию\n",
    "df_aug_2022.loc[df_aug_2022['Тип'] == 'Продам', 'Категория Стоимости'] = df_aug_2022.loc[df_aug_2022['Тип'] == 'Продам', 'Стоимость'].apply(categorize_price)\n",
    "\n",
    "df_aug_2022.to_excel('C:/Users/malsh/Desktop/Магазин Магазинов/Готовые df street/df_aug_22_street.xlsx', index=False)\n",
    "print(f'DataFrame сохранен в {\"C:/Users/malsh/Desktop/Магазин Магазинов/Готовые df street/df_aug_22_street.xlsx\"}')"
   ]
  },
  {
   "cell_type": "markdown",
   "id": "f062eb71",
   "metadata": {},
   "source": [
    "## Сентябрь 2022"
   ]
  },
  {
   "cell_type": "code",
   "execution_count": 16,
   "id": "d02770dc",
   "metadata": {},
   "outputs": [
    {
     "data": {
      "text/plain": [
       "(10000, 13)"
      ]
     },
     "metadata": {},
     "output_type": "display_data"
    },
    {
     "data": {
      "text/plain": [
       "(10000, 13)"
      ]
     },
     "metadata": {},
     "output_type": "display_data"
    },
    {
     "data": {
      "text/plain": [
       "(1350, 13)"
      ]
     },
     "metadata": {},
     "output_type": "display_data"
    },
    {
     "data": {
      "text/plain": [
       "(21350, 13)"
      ]
     },
     "metadata": {},
     "output_type": "display_data"
    },
    {
     "data": {
      "text/plain": [
       "(9396, 13)"
      ]
     },
     "metadata": {},
     "output_type": "display_data"
    },
    {
     "data": {
      "text/plain": [
       "(8145, 13)"
      ]
     },
     "metadata": {},
     "output_type": "display_data"
    },
    {
     "data": {
      "text/plain": [
       "(7952, 13)"
      ]
     },
     "metadata": {},
     "output_type": "display_data"
    },
    {
     "data": {
      "text/plain": [
       "(7936, 13)"
      ]
     },
     "metadata": {},
     "output_type": "display_data"
    },
    {
     "name": "stdout",
     "output_type": "stream",
     "text": [
      "DataFrame сохранен в C:/Users/malsh/Desktop/Магазин Магазинов/Готовые df street/df_sep_22_street.xlsx\n"
     ]
    }
   ],
   "source": [
    "df_sep_1 = pd.read_excel('C:/Users/malsh/Desktop/Магазин Магазинов/Данные/Сентябрь_2022/Сентябрь_2022_1.xlsx', sheet_name='Worksheet')[['№', 'Категория', 'Тип', 'Этаж', 'Площадь, м2', 'Стоимость', 'Стоимость, м2', 'Имя контакта', 'Телефон', 'Широта', 'Долгота', 'Описание', 'Ссылка']]\n",
    "df_sep_1 = df_sep_1.drop_duplicates()\n",
    "#display(df_sep_1.head(3))\n",
    "display(df_sep_1.shape)\n",
    "\n",
    "df_sep_2 = pd.read_excel('C:/Users/malsh/Desktop/Магазин Магазинов/Данные/Сентябрь_2022/Сентябрь_2022_2.xlsx', sheet_name='Worksheet')[['№', 'Категория', 'Тип', 'Этаж', 'Площадь, м2', 'Стоимость', 'Стоимость, м2', 'Имя контакта', 'Телефон', 'Широта', 'Долгота', 'Описание', 'Ссылка']]\n",
    "df_sep_2 = df_sep_2.drop_duplicates()\n",
    "#display(df_sep_2.head(3))\n",
    "display(df_sep_2.shape)\n",
    "\n",
    "df_sep_3 = pd.read_excel('C:/Users/malsh/Desktop/Магазин Магазинов/Данные/Сентябрь_2022/Сентябрь_2022_3.xlsx', sheet_name='Worksheet')[['№', 'Категория', 'Тип', 'Этаж', 'Площадь, м2', 'Стоимость', 'Стоимость, м2', 'Имя контакта', 'Телефон', 'Широта', 'Долгота', 'Описание', 'Ссылка']]\n",
    "df_sep_3 = df_sep_3.drop_duplicates()\n",
    "#display(df_sep_3.head(3))\n",
    "display(df_sep_3.shape)\n",
    "\n",
    "df_sep_2022 = pd.concat([df_sep_1, df_sep_2, df_sep_3], ignore_index=True)\n",
    "display(df_sep_2022.shape)\n",
    "\n",
    "df_sep_2022 = df_sep_2022[df_sep_2022['Этаж'] == 1]\n",
    "df_sep_2022 = df_sep_2022.drop_duplicates()\n",
    "df_sep_2022 = df_sep_2022.drop_duplicates(subset=['Тип', 'Площадь, м2', 'Широта', 'Долгота'], keep='first')\n",
    "display(df_sep_2022.shape)\n",
    "\n",
    "df_sep_2022 = df_sep_2022[(df_sep_2022['Площадь, м2'] < 1000) & (df_sep_2022['Площадь, м2'] > 20)]\n",
    "display(df_sep_2022.shape)\n",
    "\n",
    "df_sep_2022 = df_sep_2022.dropna(subset=['Описание'])\n",
    "condition1 = df_sep_2022['Описание'].str.contains('в ТЦ|в тц|в ТРЦ|в торговом центре|на первом этаже торгового центра|в ТД|в ТРК|в новом ТРК|в составе ТРЦ|на первом торговом уровне ТЦ|в новом ТЦ|ТЦ \"Ясенево\"|в районном Торговом центре|в современном ТРЦ|на 1 этаже ТЦ|на 1-ом этаже ТЦ|на 1 этаже торгового центра|на 1-м этаже торгового центра|на 1-ом этаже торгового центра', case=False)\n",
    "mask = df_sep_2022['Описание'].str[:70].str.contains('Торговый центр|Торговый Центр|торговый центр', case=False)\n",
    "df_sep_2022 = df_sep_2022[~condition1 & ~mask]\n",
    "display(df_sep_2022.shape)\n",
    "\n",
    "df_sep_2022 = df_sep_2022[~(((df_sep_2022['Тип'] == 'Сдам') & (df_sep_2022['Стоимость, м2'] > 100000)) | ((df_sep_2022['Тип'] == 'Продам') & (df_sep_2022['Стоимость, м2'] > 10000000)))]\n",
    "display(df_sep_2022.shape)\n",
    "\n",
    "# Добавляем столбец \"Категория Площади\"\n",
    "df_sep_2022['Категория Площади'] = df_sep_2022['Площадь, м2'].apply(categorize_area)\n",
    "\n",
    "# Добавляем столбец \"Район\"\n",
    "df_sep_2022['Район'] = df_sep_2022.apply(lambda row: get_district(Point(row['Долгота'], row['Широта'])), axis=1)\n",
    "\n",
    "# Добавляем столбец \"Категория стоимости\"\n",
    "df_sep_2022['Категория Стоимости'] = \"Не определено\"  # Значение по умолчанию\n",
    "df_sep_2022.loc[df_sep_2022['Тип'] == 'Продам', 'Категория Стоимости'] = df_sep_2022.loc[df_sep_2022['Тип'] == 'Продам', 'Стоимость'].apply(categorize_price)\n",
    "\n",
    "df_sep_2022.to_excel('C:/Users/malsh/Desktop/Магазин Магазинов/Готовые df street/df_sep_22_street.xlsx', index=False)\n",
    "print(f'DataFrame сохранен в {\"C:/Users/malsh/Desktop/Магазин Магазинов/Готовые df street/df_sep_22_street.xlsx\"}')"
   ]
  },
  {
   "cell_type": "code",
   "execution_count": 28,
   "id": "3ba1653d",
   "metadata": {},
   "outputs": [
    {
     "data": {
      "text/plain": [
       "(20074, 16)"
      ]
     },
     "metadata": {},
     "output_type": "display_data"
    },
    {
     "name": "stdout",
     "output_type": "stream",
     "text": [
      "DataFrame сохранен в C:/Users/malsh/Desktop/Магазин Магазинов/Готовые df street/Кварталы/3кв. 2022.xlsx\n"
     ]
    }
   ],
   "source": [
    "three_m = pd.concat([df_jul_2022, df_aug_2022, df_sep_2022])\n",
    "three_m.drop_duplicates()\n",
    "three_m.drop_duplicates(subset=['Тип', 'Площадь, м2', 'Широта', 'Долгота'], keep='first', inplace=True)\n",
    "display(three_m.shape)\n",
    "\n",
    "three_m.to_excel('C:/Users/malsh/Desktop/Магазин Магазинов/Готовые df street/Кварталы/3кв. 2022.xlsx', index=False)\n",
    "print(f'DataFrame сохранен в {\"C:/Users/malsh/Desktop/Магазин Магазинов/Готовые df street/Кварталы/3кв. 2022.xlsx\"}')"
   ]
  },
  {
   "cell_type": "markdown",
   "id": "7af1a218",
   "metadata": {},
   "source": [
    "## Октябрь 2022"
   ]
  },
  {
   "cell_type": "code",
   "execution_count": 29,
   "id": "2f80fb92",
   "metadata": {},
   "outputs": [
    {
     "data": {
      "text/plain": [
       "(10001, 13)"
      ]
     },
     "metadata": {},
     "output_type": "display_data"
    },
    {
     "data": {
      "text/plain": [
       "(10001, 13)"
      ]
     },
     "metadata": {},
     "output_type": "display_data"
    },
    {
     "data": {
      "text/plain": [
       "(2445, 13)"
      ]
     },
     "metadata": {},
     "output_type": "display_data"
    },
    {
     "data": {
      "text/plain": [
       "(22447, 13)"
      ]
     },
     "metadata": {},
     "output_type": "display_data"
    },
    {
     "data": {
      "text/plain": [
       "(9673, 13)"
      ]
     },
     "metadata": {},
     "output_type": "display_data"
    },
    {
     "data": {
      "text/plain": [
       "(8369, 13)"
      ]
     },
     "metadata": {},
     "output_type": "display_data"
    },
    {
     "data": {
      "text/plain": [
       "(8368, 13)"
      ]
     },
     "metadata": {},
     "output_type": "display_data"
    },
    {
     "data": {
      "text/plain": [
       "(8344, 13)"
      ]
     },
     "metadata": {},
     "output_type": "display_data"
    }
   ],
   "source": [
    "# df_oct_1 = pd.read_excel('C:/Users/malsh/Desktop/Магазин Магазинов/Данные/Октябрь_2022/Октябрь_2022_1.xlsx', sheet_name='Worksheet')[['№', 'Категория', 'Тип', 'Этаж', 'Площадь, м2', 'Стоимость', 'Стоимость, м2', 'Имя контакта', 'Телефон', 'Широта', 'Долгота', 'Описание', 'Ссылка']]\n",
    "# df_oct_1 = df_oct_1.drop_duplicates()\n",
    "# #display(df_oct_1.head(3))\n",
    "# display(df_oct_1.shape)\n",
    "\n",
    "\n",
    "# df_oct_2 = pd.read_excel('C:/Users/malsh/Desktop/Магазин Магазинов/Данные/Октябрь_2022/Октябрь_2022_2.xlsx', sheet_name='Worksheet')[['№', 'Категория', 'Тип', 'Этаж', 'Площадь, м2', 'Стоимость', 'Стоимость, м2', 'Имя контакта', 'Телефон', 'Широта', 'Долгота', 'Описание', 'Ссылка']]\n",
    "# df_oct_2 = df_oct_2.drop_duplicates()\n",
    "# #display(df_oct_2.head(3))\n",
    "# display(df_oct_2.shape)\n",
    "\n",
    "# df_oct_3 = pd.read_excel('C:/Users/malsh/Desktop/Магазин Магазинов/Данные/Октябрь_2022/Октябрь_2022_3.xlsx', sheet_name='Worksheet')[['№', 'Категория', 'Тип', 'Этаж', 'Площадь, м2', 'Стоимость', 'Стоимость, м2', 'Имя контакта', 'Телефон', 'Широта', 'Долгота', 'Описание', 'Ссылка']]\n",
    "# df_oct_3 = df_oct_3.drop_duplicates()\n",
    "# #display(df_oct_3.head(3))\n",
    "# display(df_oct_3.shape)\n",
    "\n",
    "# df_oct_2022 = pd.concat([df_oct_1, df_oct_2, df_oct_3], ignore_index=True)\n",
    "# display(df_oct_2022.shape)\n",
    "\n",
    "# df_oct_2022 = df_oct_2022[df_oct_2022['Этаж'] == 1]\n",
    "# df_oct_2022 = df_oct_2022.drop_duplicates()\n",
    "# df_oct_2022 = df_oct_2022.drop_duplicates(subset=['Тип', 'Площадь, м2', 'Широта', 'Долгота'], keep='first')\n",
    "# display(df_oct_2022.shape)\n",
    "\n",
    "# df_oct_2022 = df_oct_2022[(df_oct_2022['Площадь, м2'] < 1000) & (df_oct_2022['Площадь, м2'] > 20)]\n",
    "# display(df_oct_2022.shape)\n",
    "\n",
    "# df_oct_2022 = df_oct_2022.dropna(subset=['Описание'])\n",
    "# condition1 = df_oct_2022['Описание'].str.contains('в ТЦ|в тц|в ТРЦ|в торговом центре|на первом этаже торгового центра|в ТД|в ТРК|в новом ТРК|в составе ТРЦ|на первом торговом уровне ТЦ|в новом ТЦ|ТЦ \"Ясенево\"|в районном Торговом центре|в современном ТРЦ|на 1 этаже ТЦ|на 1-ом этаже ТЦ|на 1 этаже торгового центра|на 1-м этаже торгового центра|на 1-ом этаже торгового центра', case=False)\n",
    "# mask = df_oct_2022['Описание'].str[:70].str.contains('Торговый центр|Торговый Центр|торговый центр', case=False)\n",
    "# df_aug_2023 = df_oct_2022[~condition1 & ~mask]\n",
    "# display(df_oct_2022.shape)\n",
    "\n",
    "# df_oct_2022 = df_oct_2022[~(((df_oct_2022['Тип'] == 'Сдам') & (df_oct_2022['Стоимость, м2'] > 100000)) | ((df_oct_2022['Тип'] == 'Продам') & (df_oct_2022['Стоимость, м2'] > 10000000)))]\n",
    "# display(df_oct_2022.shape)\n",
    "\n",
    "\n",
    "\n",
    "\n",
    "# # Добавляем столбец \"Категория Площади\"\n",
    "# df_oct_2022['Категория Площади'] = df_oct_2022['Площадь, м2'].apply(categorize_area)\n",
    "\n",
    "# # Добавляем столбец \"Район\"\n",
    "# df_oct_2022['Район'] = df_oct_2022.apply(lambda row: get_district(Point(row['Долгота'], row['Широта'])), axis=1)\n",
    "\n",
    "# # Добавляем столбец \"Категория стоимости\"\n",
    "# df_oct_2022['Категория Стоимости'] = \"Не определено\"  # Значение по умолчанию\n",
    "# df_oct_2022.loc[df_oct_2022['Тип'] == 'Продам', 'Категория Стоимости'] = df_oct_2022.loc[df_oct_2022['Тип'] == 'Продам', 'Стоимость'].apply(categorize_price)\n",
    "\n",
    "\n",
    "\n",
    "\n",
    "# df_oct_2022.to_excel('C:/Users/malsh/Desktop/Магазин Магазинов/Готовые df street/df_oct_22_street.xlsx', index=False)\n",
    "# print(f'DataFrame сохранен в {\"C:/Users/malsh/Desktop/Магазин Магазинов/Готовые df street/df_oct_22_street.xlsx\"}')"
   ]
  },
  {
   "cell_type": "markdown",
   "id": "67050085",
   "metadata": {},
   "source": [
    "## Ноябрь 2022"
   ]
  },
  {
   "cell_type": "code",
   "execution_count": 18,
   "id": "223715c7",
   "metadata": {},
   "outputs": [
    {
     "data": {
      "text/plain": [
       "(10000, 13)"
      ]
     },
     "metadata": {},
     "output_type": "display_data"
    },
    {
     "data": {
      "text/plain": [
       "(10000, 13)"
      ]
     },
     "metadata": {},
     "output_type": "display_data"
    },
    {
     "data": {
      "text/plain": [
       "(8798, 13)"
      ]
     },
     "metadata": {},
     "output_type": "display_data"
    },
    {
     "data": {
      "text/plain": [
       "(28798, 13)"
      ]
     },
     "metadata": {},
     "output_type": "display_data"
    },
    {
     "data": {
      "text/plain": [
       "(12224, 13)"
      ]
     },
     "metadata": {},
     "output_type": "display_data"
    },
    {
     "data": {
      "text/plain": [
       "(10805, 13)"
      ]
     },
     "metadata": {},
     "output_type": "display_data"
    },
    {
     "data": {
      "text/plain": [
       "(10539, 13)"
      ]
     },
     "metadata": {},
     "output_type": "display_data"
    },
    {
     "data": {
      "text/plain": [
       "(10506, 13)"
      ]
     },
     "metadata": {},
     "output_type": "display_data"
    },
    {
     "name": "stdout",
     "output_type": "stream",
     "text": [
      "DataFrame сохранен в C:/Users/malsh/Desktop/Магазин Магазинов/Готовые df street/df_nov_22_street.xlsx\n"
     ]
    }
   ],
   "source": [
    "df_nov_1 = pd.read_excel('C:/Users/malsh/Desktop/Магазин Магазинов/Данные/Ноябрь_2022/Ноябрь_2022_1.xlsx', sheet_name='Worksheet')[['№', 'Категория', 'Тип', 'Этаж', 'Площадь, м2', 'Стоимость', 'Стоимость, м2', 'Имя контакта', 'Телефон', 'Широта', 'Долгота', 'Описание', 'Ссылка']]\n",
    "df_nov_1 = df_nov_1.drop_duplicates()\n",
    "#display(df_nov_1.head(3))\n",
    "display(df_nov_1.shape)\n",
    "\n",
    "df_nov_2 = pd.read_excel('C:/Users/malsh/Desktop/Магазин Магазинов/Данные/Ноябрь_2022/Ноябрь_2022_2.xlsx', sheet_name='Worksheet')[['№', 'Категория', 'Тип', 'Этаж', 'Площадь, м2', 'Стоимость', 'Стоимость, м2', 'Имя контакта', 'Телефон', 'Широта', 'Долгота', 'Описание', 'Ссылка']]\n",
    "df_nov_2 = df_nov_2.drop_duplicates()\n",
    "#display(df_nov_2.head(3))\n",
    "display(df_nov_2.shape)\n",
    "\n",
    "df_nov_3 = pd.read_excel('C:/Users/malsh/Desktop/Магазин Магазинов/Данные/Ноябрь_2022/Ноябрь_2022_3.xlsx', sheet_name='Worksheet')[['№', 'Категория', 'Тип', 'Этаж', 'Площадь, м2', 'Стоимость', 'Стоимость, м2', 'Имя контакта', 'Телефон', 'Широта', 'Долгота', 'Описание', 'Ссылка']]\n",
    "df_nov_3 = df_nov_3.drop_duplicates()\n",
    "#display(df_nov_3.head(3))\n",
    "display(df_nov_3.shape)\n",
    "\n",
    "df_nov_2022 = pd.concat([df_nov_1, df_nov_2, df_nov_3], ignore_index=True)\n",
    "display(df_nov_2022.shape)\n",
    "\n",
    "df_nov_2022 = df_nov_2022[df_nov_2022['Этаж'] == 1]\n",
    "df_nov_2022 = df_nov_2022.drop_duplicates()\n",
    "df_nov_2022 = df_nov_2022.drop_duplicates(subset=['Тип', 'Площадь, м2', 'Широта', 'Долгота'], keep='first')\n",
    "display(df_nov_2022.shape)\n",
    "\n",
    "df_nov_2022 = df_nov_2022[(df_nov_2022['Площадь, м2'] < 1000) & (df_nov_2022['Площадь, м2'] > 20)]\n",
    "display(df_nov_2022.shape)\n",
    "\n",
    "df_nov_2022 = df_nov_2022.dropna(subset=['Описание'])\n",
    "condition1 = df_nov_2022['Описание'].str.contains('в ТЦ|в тц|в ТРЦ|в торговом центре|на первом этаже торгового центра|в ТД|в ТРК|в новом ТРК|в составе ТРЦ|на первом торговом уровне ТЦ|в новом ТЦ|ТЦ \"Ясенево\"|в районном Торговом центре|в современном ТРЦ|на 1 этаже ТЦ|на 1-ом этаже ТЦ|на 1 этаже торгового центра|на 1-м этаже торгового центра|на 1-ом этаже торгового центра', case=False)\n",
    "mask = df_nov_2022['Описание'].str[:70].str.contains('Торговый центр|Торговый Центр|торговый центр', case=False)\n",
    "df_nov_2022 = df_nov_2022[~condition1 & ~mask]\n",
    "display(df_nov_2022.shape)\n",
    "\n",
    "df_nov_2022 = df_nov_2022[~(((df_nov_2022['Тип'] == 'Сдам') & (df_nov_2022['Стоимость, м2'] > 100000)) | ((df_nov_2022['Тип'] == 'Продам') & (df_nov_2022['Стоимость, м2'] > 10000000)))]\n",
    "display(df_nov_2022.shape)\n",
    "\n",
    "# Добавляем столбец \"Категория Площади\"\n",
    "df_nov_2022['Категория Площади'] = df_nov_2022['Площадь, м2'].apply(categorize_area)\n",
    "\n",
    "# Добавляем столбец \"Район\"\n",
    "df_nov_2022['Район'] = df_nov_2022.apply(lambda row: get_district(Point(row['Долгота'], row['Широта'])), axis=1)\n",
    "\n",
    "# Добавляем столбец \"Категория стоимости\"\n",
    "df_nov_2022['Категория Стоимости'] = \"Не определено\"  # Значение по умолчанию\n",
    "df_nov_2022.loc[df_nov_2022['Тип'] == 'Продам', 'Категория Стоимости'] = df_nov_2022.loc[df_nov_2022['Тип'] == 'Продам', 'Стоимость'].apply(categorize_price)\n",
    "\n",
    "df_nov_2022.to_excel('C:/Users/malsh/Desktop/Магазин Магазинов/Готовые df street/df_nov_22_street.xlsx', index=False)\n",
    "print(f'DataFrame сохранен в {\"C:/Users/malsh/Desktop/Магазин Магазинов/Готовые df street/df_nov_22_street.xlsx\"}')"
   ]
  },
  {
   "cell_type": "markdown",
   "id": "7ad5d05e",
   "metadata": {},
   "source": [
    "## Декабрь 2022"
   ]
  },
  {
   "cell_type": "code",
   "execution_count": 19,
   "id": "1db1f9a0",
   "metadata": {},
   "outputs": [
    {
     "data": {
      "text/plain": [
       "(10000, 13)"
      ]
     },
     "metadata": {},
     "output_type": "display_data"
    },
    {
     "data": {
      "text/plain": [
       "(10000, 13)"
      ]
     },
     "metadata": {},
     "output_type": "display_data"
    },
    {
     "data": {
      "text/plain": [
       "(164, 13)"
      ]
     },
     "metadata": {},
     "output_type": "display_data"
    },
    {
     "data": {
      "text/plain": [
       "(20164, 13)"
      ]
     },
     "metadata": {},
     "output_type": "display_data"
    },
    {
     "data": {
      "text/plain": [
       "(10505, 13)"
      ]
     },
     "metadata": {},
     "output_type": "display_data"
    },
    {
     "data": {
      "text/plain": [
       "(9218, 13)"
      ]
     },
     "metadata": {},
     "output_type": "display_data"
    },
    {
     "data": {
      "text/plain": [
       "(8989, 13)"
      ]
     },
     "metadata": {},
     "output_type": "display_data"
    },
    {
     "data": {
      "text/plain": [
       "(8940, 13)"
      ]
     },
     "metadata": {},
     "output_type": "display_data"
    },
    {
     "name": "stdout",
     "output_type": "stream",
     "text": [
      "DataFrame сохранен в C:/Users/malsh/Desktop/Магазин Магазинов/Готовые df street/df_dec_22_street.xlsx\n"
     ]
    }
   ],
   "source": [
    "df_dec_1 = pd.read_excel('C:/Users/malsh/Desktop/Магазин Магазинов/Данные/Декабрь_2022/Декабрь_2022_1.xlsx', sheet_name='Worksheet')[['№', 'Категория', 'Тип', 'Этаж', 'Площадь, м2', 'Стоимость', 'Стоимость, м2', 'Имя контакта', 'Телефон', 'Широта', 'Долгота', 'Описание', 'Ссылка']]\n",
    "df_dec_1 = df_dec_1.drop_duplicates()\n",
    "#display(df_dec_1.head(3))\n",
    "display(df_dec_1.shape)\n",
    "\n",
    "df_dec_2 = pd.read_excel('C:/Users/malsh/Desktop/Магазин Магазинов/Данные/Декабрь_2022/Декабрь_2022_2.xlsx', sheet_name='Worksheet')[['№', 'Категория', 'Тип', 'Этаж', 'Площадь, м2', 'Стоимость', 'Стоимость, м2', 'Имя контакта', 'Телефон', 'Широта', 'Долгота', 'Описание', 'Ссылка']]\n",
    "df_dec_2 = df_dec_2.drop_duplicates()\n",
    "#display(df_dec_2.head(3))\n",
    "display(df_dec_2.shape)\n",
    "\n",
    "df_dec_3 = pd.read_excel('C:/Users/malsh/Desktop/Магазин Магазинов/Данные/Декабрь_2022/Декабрь_2022_3.xlsx', sheet_name='Worksheet')[['№', 'Категория', 'Тип', 'Этаж', 'Площадь, м2', 'Стоимость', 'Стоимость, м2', 'Имя контакта', 'Телефон', 'Широта', 'Долгота', 'Описание', 'Ссылка']]\n",
    "df_dec_3 = df_dec_3.drop_duplicates()\n",
    "#display(df_dec_3.head(3))\n",
    "display(df_dec_3.shape)\n",
    "\n",
    "df_dec_2022 = pd.concat([df_dec_1, df_dec_2, df_dec_3], ignore_index=True)\n",
    "display(df_dec_2022.shape)\n",
    "\n",
    "df_dec_2022 = df_dec_2022[df_dec_2022['Этаж'] == 1]\n",
    "df_dec_2022 = df_dec_2022.drop_duplicates()\n",
    "df_dec_2022 = df_dec_2022.drop_duplicates(subset=['Тип', 'Площадь, м2', 'Широта', 'Долгота'], keep='first')\n",
    "display(df_dec_2022.shape)\n",
    "\n",
    "df_dec_2022 = df_dec_2022[(df_dec_2022['Площадь, м2'] < 1000) & (df_dec_2022['Площадь, м2'] > 20)]\n",
    "display(df_dec_2022.shape)\n",
    "\n",
    "df_dec_2022 = df_dec_2022.dropna(subset=['Описание'])\n",
    "condition1 = df_dec_2022['Описание'].str.contains('в ТЦ|в тц|в ТРЦ|в торговом центре|на первом этаже торгового центра|в ТД|в ТРК|в новом ТРК|в составе ТРЦ|на первом торговом уровне ТЦ|в новом ТЦ|ТЦ \"Ясенево\"|в районном Торговом центре|в современном ТРЦ|на 1 этаже ТЦ|на 1-ом этаже ТЦ|на 1 этаже торгового центра|на 1-м этаже торгового центра|на 1-ом этаже торгового центра', case=False)\n",
    "mask = df_dec_2022['Описание'].str[:70].str.contains('Торговый центр|Торговый Центр|торговый центр', case=False)\n",
    "df_dec_2022 = df_dec_2022[~condition1 & ~mask]\n",
    "display(df_dec_2022.shape)\n",
    "\n",
    "df_dec_2022 = df_dec_2022[~(((df_dec_2022['Тип'] == 'Сдам') & (df_dec_2022['Стоимость, м2'] > 100000)) | ((df_dec_2022['Тип'] == 'Продам') & (df_dec_2022['Стоимость, м2'] > 10000000)))]\n",
    "display(df_dec_2022.shape)\n",
    "\n",
    "# Добавляем столбец \"Категория Площади\"\n",
    "df_dec_2022['Категория Площади'] = df_dec_2022['Площадь, м2'].apply(categorize_area)\n",
    "\n",
    "# Добавляем столбец \"Район\"\n",
    "df_dec_2022['Район'] = df_dec_2022.apply(lambda row: get_district(Point(row['Долгота'], row['Широта'])), axis=1)\n",
    "\n",
    "# Добавляем столбец \"Категория стоимости\"\n",
    "df_dec_2022['Категория Стоимости'] = \"Не определено\"  # Значение по умолчанию\n",
    "df_dec_2022.loc[df_dec_2022['Тип'] == 'Продам', 'Категория Стоимости'] = df_dec_2022.loc[df_dec_2022['Тип'] == 'Продам', 'Стоимость'].apply(categorize_price)\n",
    "\n",
    "df_dec_2022.to_excel('C:/Users/malsh/Desktop/Магазин Магазинов/Готовые df street/df_dec_22_street.xlsx', index=False)\n",
    "print(f'DataFrame сохранен в {\"C:/Users/malsh/Desktop/Магазин Магазинов/Готовые df street/df_dec_22_street.xlsx\"}')"
   ]
  },
  {
   "cell_type": "code",
   "execution_count": 30,
   "id": "e9419775",
   "metadata": {},
   "outputs": [
    {
     "data": {
      "text/plain": [
       "(23506, 16)"
      ]
     },
     "metadata": {},
     "output_type": "display_data"
    },
    {
     "name": "stdout",
     "output_type": "stream",
     "text": [
      "DataFrame сохранен в C:/Users/malsh/Desktop/Магазин Магазинов/Готовые df street/Кварталы/4кв. 2022.xlsx\n"
     ]
    }
   ],
   "source": [
    "three_m = pd.concat([df_oct_2022, df_nov_2022, df_dec_2022])\n",
    "three_m.drop_duplicates()\n",
    "three_m.drop_duplicates(subset=['Тип', 'Площадь, м2', 'Широта', 'Долгота'], keep='first', inplace=True)\n",
    "display(three_m.shape)\n",
    "\n",
    "three_m.to_excel('C:/Users/malsh/Desktop/Магазин Магазинов/Готовые df street/Кварталы/4кв. 2022.xlsx', index=False)\n",
    "print(f'DataFrame сохранен в {\"C:/Users/malsh/Desktop/Магазин Магазинов/Готовые df street/Кварталы/4кв. 2022.xlsx\"}')"
   ]
  },
  {
   "cell_type": "code",
   "execution_count": null,
   "id": "1e9012eb",
   "metadata": {},
   "outputs": [],
   "source": []
  },
  {
   "cell_type": "markdown",
   "id": "b5aadd3b",
   "metadata": {},
   "source": [
    "## Январь 2023"
   ]
  },
  {
   "cell_type": "code",
   "execution_count": 20,
   "id": "3b077d42",
   "metadata": {},
   "outputs": [
    {
     "data": {
      "text/plain": [
       "(10000, 13)"
      ]
     },
     "metadata": {},
     "output_type": "display_data"
    },
    {
     "data": {
      "text/plain": [
       "(10000, 13)"
      ]
     },
     "metadata": {},
     "output_type": "display_data"
    },
    {
     "data": {
      "text/plain": [
       "(2084, 13)"
      ]
     },
     "metadata": {},
     "output_type": "display_data"
    },
    {
     "data": {
      "text/plain": [
       "(22084, 13)"
      ]
     },
     "metadata": {},
     "output_type": "display_data"
    },
    {
     "data": {
      "text/plain": [
       "(12157, 13)"
      ]
     },
     "metadata": {},
     "output_type": "display_data"
    },
    {
     "data": {
      "text/plain": [
       "(10379, 13)"
      ]
     },
     "metadata": {},
     "output_type": "display_data"
    },
    {
     "data": {
      "text/plain": [
       "(10107, 13)"
      ]
     },
     "metadata": {},
     "output_type": "display_data"
    },
    {
     "data": {
      "text/plain": [
       "(10063, 13)"
      ]
     },
     "metadata": {},
     "output_type": "display_data"
    },
    {
     "name": "stdout",
     "output_type": "stream",
     "text": [
      "DataFrame сохранен в C:/Users/malsh/Desktop/Магазин Магазинов/Готовые df street/df_jan_23_street.xlsx\n"
     ]
    }
   ],
   "source": [
    "df_jan_1 = pd.read_excel('C:/Users/malsh/Desktop/Магазин Магазинов/Данные/Январь_2023/Январь_2023_1.xlsx', sheet_name='Worksheet')[['№', 'Категория', 'Тип', 'Этаж', 'Площадь, м2', 'Стоимость', 'Стоимость, м2', 'Имя контакта', 'Телефон', 'Широта', 'Долгота', 'Описание', 'Ссылка']]\n",
    "df_jan_1 = df_jan_1.drop_duplicates()\n",
    "#display(df_jan_1.head(3))\n",
    "display(df_jan_1.shape)\n",
    "\n",
    "df_jan_2 = pd.read_excel('C:/Users/malsh/Desktop/Магазин Магазинов/Данные/Январь_2023/Январь_2023_2.xlsx', sheet_name='Worksheet')[['№', 'Категория', 'Тип', 'Этаж', 'Площадь, м2', 'Стоимость', 'Стоимость, м2', 'Имя контакта', 'Телефон', 'Широта', 'Долгота', 'Описание', 'Ссылка']]\n",
    "df_jan_2 = df_jan_2.drop_duplicates()\n",
    "#display(df_jan_2.head(3))\n",
    "display(df_jan_2.shape)\n",
    "\n",
    "df_jan_3 = pd.read_excel('C:/Users/malsh/Desktop/Магазин Магазинов/Данные/Январь_2023/Январь_2023_3.xlsx', sheet_name='Worksheet')[['№', 'Категория', 'Тип', 'Этаж', 'Площадь, м2', 'Стоимость', 'Стоимость, м2', 'Имя контакта', 'Телефон', 'Широта', 'Долгота', 'Описание', 'Ссылка']]\n",
    "df_jan_3 = df_jan_3.drop_duplicates()\n",
    "#display(df_jan_3.head(3))\n",
    "display(df_jan_3.shape)\n",
    "\n",
    "df_jan_2023 = pd.concat([df_jan_1, df_jan_2, df_jan_3], ignore_index=True)\n",
    "display(df_jan_2023.shape)\n",
    "\n",
    "df_jan_2023 = df_jan_2023[df_jan_2023['Этаж'] == 1]\n",
    "df_jan_2023 = df_jan_2023.drop_duplicates()\n",
    "df_jan_2023 = df_jan_2023.drop_duplicates(subset=['Тип', 'Площадь, м2', 'Широта', 'Долгота'], keep='first')\n",
    "display(df_jan_2023.shape)\n",
    "\n",
    "df_jan_2023 = df_jan_2023[(df_jan_2023['Площадь, м2'] < 1000) & (df_jan_2023['Площадь, м2'] > 20)]\n",
    "display(df_jan_2023.shape)\n",
    "\n",
    "df_jan_2023 = df_jan_2023.dropna(subset=['Описание'])\n",
    "condition1 = df_jan_2023['Описание'].str.contains('в ТЦ|в тц|в ТРЦ|в торговом центре|на первом этаже торгового центра|в ТД|в ТРК|в новом ТРК|в составе ТРЦ|на первом торговом уровне ТЦ|в новом ТЦ|ТЦ \"Ясенево\"|в районном Торговом центре|в современном ТРЦ|на 1 этаже ТЦ|на 1-ом этаже ТЦ|на 1 этаже торгового центра|на 1-м этаже торгового центра|на 1-ом этаже торгового центра', case=False)\n",
    "mask = df_jan_2023['Описание'].str[:70].str.contains('Торговый центр|Торговый Центр|торговый центр', case=False)\n",
    "df_jan_2023 = df_jan_2023[~condition1 & ~mask]\n",
    "display(df_jan_2023.shape)\n",
    "\n",
    "df_jan_2023 = df_jan_2023[~(((df_jan_2023['Тип'] == 'Сдам') & (df_jan_2023['Стоимость, м2'] > 100000)) | ((df_jan_2023['Тип'] == 'Продам') & (df_jan_2023['Стоимость, м2'] > 10000000)))]\n",
    "display(df_jan_2023.shape)\n",
    "\n",
    "# Добавляем столбец \"Категория Площади\"\n",
    "df_jan_2023['Категория Площади'] = df_jan_2023['Площадь, м2'].apply(categorize_area)\n",
    "\n",
    "# Добавляем столбец \"Район\"\n",
    "df_jan_2023['Район'] = df_jan_2023.apply(lambda row: get_district(Point(row['Долгота'], row['Широта'])), axis=1)\n",
    "\n",
    "# Добавляем столбец \"Категория стоимости\"\n",
    "df_jan_2023['Категория Стоимости'] = \"Не определено\"  # Значение по умолчанию\n",
    "df_jan_2023.loc[df_jan_2023['Тип'] == 'Продам', 'Категория Стоимости'] = df_jan_2023.loc[df_jan_2023['Тип'] == 'Продам', 'Стоимость'].apply(categorize_price)\n",
    "\n",
    "df_jan_2023.to_excel('C:/Users/malsh/Desktop/Магазин Магазинов/Готовые df street/df_jan_23_street.xlsx', index=False)\n",
    "print(f'DataFrame сохранен в {\"C:/Users/malsh/Desktop/Магазин Магазинов/Готовые df street/df_jan_23_street.xlsx\"}')"
   ]
  },
  {
   "cell_type": "markdown",
   "id": "3c1eb9f3",
   "metadata": {},
   "source": [
    "## Февраль 2023"
   ]
  },
  {
   "cell_type": "code",
   "execution_count": 21,
   "id": "32161fc2",
   "metadata": {},
   "outputs": [
    {
     "data": {
      "text/plain": [
       "(10000, 13)"
      ]
     },
     "metadata": {},
     "output_type": "display_data"
    },
    {
     "data": {
      "text/plain": [
       "(10000, 13)"
      ]
     },
     "metadata": {},
     "output_type": "display_data"
    },
    {
     "data": {
      "text/plain": [
       "(2989, 13)"
      ]
     },
     "metadata": {},
     "output_type": "display_data"
    },
    {
     "data": {
      "text/plain": [
       "(22989, 13)"
      ]
     },
     "metadata": {},
     "output_type": "display_data"
    },
    {
     "data": {
      "text/plain": [
       "(10734, 13)"
      ]
     },
     "metadata": {},
     "output_type": "display_data"
    },
    {
     "data": {
      "text/plain": [
       "(9409, 13)"
      ]
     },
     "metadata": {},
     "output_type": "display_data"
    },
    {
     "data": {
      "text/plain": [
       "(9158, 13)"
      ]
     },
     "metadata": {},
     "output_type": "display_data"
    },
    {
     "data": {
      "text/plain": [
       "(9120, 13)"
      ]
     },
     "metadata": {},
     "output_type": "display_data"
    },
    {
     "name": "stdout",
     "output_type": "stream",
     "text": [
      "DataFrame сохранен в C:/Users/malsh/Desktop/Магазин Магазинов/Готовые df street/df_feb_23_street.xlsx\n"
     ]
    }
   ],
   "source": [
    "df_feb_1 = pd.read_excel('C:/Users/malsh/Desktop/Магазин Магазинов/Данные/Февраль_2023/Февраль_2023_1.xlsx', sheet_name='Worksheet')[['№', 'Категория', 'Тип', 'Этаж', 'Площадь, м2', 'Стоимость', 'Стоимость, м2', 'Имя контакта', 'Телефон', 'Широта', 'Долгота', 'Описание', 'Ссылка']]\n",
    "df_feb_1 = df_feb_1.drop_duplicates()\n",
    "#display(df_feb_1.head(3))\n",
    "display(df_feb_1.shape)\n",
    "\n",
    "df_feb_2 = pd.read_excel('C:/Users/malsh/Desktop/Магазин Магазинов/Данные/Февраль_2023/Февраль_2023_2.xlsx', sheet_name='Worksheet')[['№', 'Категория', 'Тип', 'Этаж', 'Площадь, м2', 'Стоимость', 'Стоимость, м2', 'Имя контакта', 'Телефон', 'Широта', 'Долгота', 'Описание', 'Ссылка']]\n",
    "df_feb_2 = df_feb_2.drop_duplicates()\n",
    "#display(df_feb_2.head(3))\n",
    "display(df_feb_2.shape)\n",
    "\n",
    "df_feb_3 = pd.read_excel('C:/Users/malsh/Desktop/Магазин Магазинов/Данные/Февраль_2023/Февраль_2023_3.xlsx', sheet_name='Worksheet')[['№', 'Категория', 'Тип', 'Этаж', 'Площадь, м2', 'Стоимость', 'Стоимость, м2', 'Имя контакта', 'Телефон', 'Широта', 'Долгота', 'Описание', 'Ссылка']]\n",
    "df_feb_3 = df_feb_3.drop_duplicates()\n",
    "#display(df_feb_3.head(3))\n",
    "display(df_feb_3.shape)\n",
    "\n",
    "df_feb_2023 = pd.concat([df_feb_1, df_feb_2, df_feb_3], ignore_index=True)\n",
    "display(df_feb_2023.shape)\n",
    "\n",
    "df_feb_2023 = df_feb_2023[df_feb_2023['Этаж'] == 1]\n",
    "df_feb_2023 = df_feb_2023.drop_duplicates()\n",
    "df_feb_2023 = df_feb_2023.drop_duplicates(subset=['Тип', 'Площадь, м2', 'Широта', 'Долгота'], keep='first')\n",
    "display(df_feb_2023.shape)\n",
    "\n",
    "df_feb_2023 = df_feb_2023[(df_feb_2023['Площадь, м2'] < 1000) & (df_feb_2023['Площадь, м2'] > 20)]\n",
    "display(df_feb_2023.shape)\n",
    "\n",
    "df_feb_2023 = df_feb_2023.dropna(subset=['Описание'])\n",
    "condition1 = df_feb_2023['Описание'].str.contains('в ТЦ|в тц|в ТРЦ|в торговом центре|на первом этаже торгового центра|в ТД|в ТРК|в новом ТРК|в составе ТРЦ|на первом торговом уровне ТЦ|в новом ТЦ|ТЦ \"Ясенево\"|в районном Торговом центре|в современном ТРЦ|на 1 этаже ТЦ|на 1-ом этаже ТЦ|на 1 этаже торгового центра|на 1-м этаже торгового центра|на 1-ом этаже торгового центра', case=False)\n",
    "mask = df_feb_2023['Описание'].str[:70].str.contains('Торговый центр|Торговый Центр|торговый центр', case=False)\n",
    "df_feb_2023 = df_feb_2023[~condition1 & ~mask]\n",
    "display(df_feb_2023.shape)\n",
    "\n",
    "df_feb_2023 = df_feb_2023[~(((df_feb_2023['Тип'] == 'Сдам') & (df_feb_2023['Стоимость, м2'] > 100000)) | ((df_feb_2023['Тип'] == 'Продам') & (df_feb_2023['Стоимость, м2'] > 10000000)))]\n",
    "display(df_feb_2023.shape)\n",
    "\n",
    "# Добавляем столбец \"Категория Площади\"\n",
    "df_feb_2023['Категория Площади'] = df_feb_2023['Площадь, м2'].apply(categorize_area)\n",
    "\n",
    "# Добавляем столбец \"Район\"\n",
    "df_feb_2023['Район'] = df_feb_2023.apply(lambda row: get_district(Point(row['Долгота'], row['Широта'])), axis=1)\n",
    "\n",
    "# Добавляем столбец \"Категория стоимости\"\n",
    "df_feb_2023['Категория Стоимости'] = \"Не определено\"  # Значение по умолчанию\n",
    "df_feb_2023.loc[df_feb_2023['Тип'] == 'Продам', 'Категория Стоимости'] = df_feb_2023.loc[df_feb_2023['Тип'] == 'Продам', 'Стоимость'].apply(categorize_price)\n",
    "\n",
    "df_feb_2023.to_excel('C:/Users/malsh/Desktop/Магазин Магазинов/Готовые df street/df_feb_23_street.xlsx', index=False)\n",
    "print(f'DataFrame сохранен в {\"C:/Users/malsh/Desktop/Магазин Магазинов/Готовые df street/df_feb_23_street.xlsx\"}')"
   ]
  },
  {
   "cell_type": "markdown",
   "id": "1f2c5afd",
   "metadata": {},
   "source": [
    "## Март 2023"
   ]
  },
  {
   "cell_type": "code",
   "execution_count": 22,
   "id": "a8c4bc10",
   "metadata": {},
   "outputs": [
    {
     "data": {
      "text/plain": [
       "(10000, 13)"
      ]
     },
     "metadata": {},
     "output_type": "display_data"
    },
    {
     "data": {
      "text/plain": [
       "(10000, 13)"
      ]
     },
     "metadata": {},
     "output_type": "display_data"
    },
    {
     "data": {
      "text/plain": [
       "(5616, 13)"
      ]
     },
     "metadata": {},
     "output_type": "display_data"
    },
    {
     "data": {
      "text/plain": [
       "(25616, 13)"
      ]
     },
     "metadata": {},
     "output_type": "display_data"
    },
    {
     "data": {
      "text/plain": [
       "(11946, 13)"
      ]
     },
     "metadata": {},
     "output_type": "display_data"
    },
    {
     "data": {
      "text/plain": [
       "(10394, 13)"
      ]
     },
     "metadata": {},
     "output_type": "display_data"
    },
    {
     "data": {
      "text/plain": [
       "(10146, 13)"
      ]
     },
     "metadata": {},
     "output_type": "display_data"
    },
    {
     "data": {
      "text/plain": [
       "(10084, 13)"
      ]
     },
     "metadata": {},
     "output_type": "display_data"
    },
    {
     "name": "stdout",
     "output_type": "stream",
     "text": [
      "DataFrame сохранен в C:/Users/malsh/Desktop/Магазин Магазинов/Готовые df street/df_mar_23_street.xlsx\n"
     ]
    }
   ],
   "source": [
    "df_mar_1 = pd.read_excel('C:/Users/malsh/Desktop/Магазин Магазинов/Данные/Март_2023/Март_2023_1.xlsx', sheet_name='Worksheet')[['№', 'Категория', 'Тип', 'Этаж', 'Площадь, м2', 'Стоимость', 'Стоимость, м2', 'Имя контакта', 'Телефон', 'Широта', 'Долгота', 'Описание', 'Ссылка']]\n",
    "df_mar_1 = df_mar_1.drop_duplicates()\n",
    "#display(df_mar_1.head(3))\n",
    "display(df_mar_1.shape)\n",
    "\n",
    "df_mar_2 = pd.read_excel('C:/Users/malsh/Desktop/Магазин Магазинов/Данные/Март_2023/Март_2023_2.xlsx', sheet_name='Worksheet')[['№', 'Категория', 'Тип', 'Этаж', 'Площадь, м2', 'Стоимость', 'Стоимость, м2', 'Имя контакта', 'Телефон', 'Широта', 'Долгота', 'Описание', 'Ссылка']]\n",
    "df_mar_2 = df_mar_2.drop_duplicates()\n",
    "#display(df_mar_2.head(3))\n",
    "display(df_mar_2.shape)\n",
    "\n",
    "df_mar_3 = pd.read_excel('C:/Users/malsh/Desktop/Магазин Магазинов/Данные/Март_2023/Март_2023_3.xlsx', sheet_name='Worksheet')[['№', 'Категория', 'Тип', 'Этаж', 'Площадь, м2', 'Стоимость', 'Стоимость, м2', 'Имя контакта', 'Телефон', 'Широта', 'Долгота', 'Описание', 'Ссылка']]\n",
    "df_mar_3 = df_mar_3.drop_duplicates()\n",
    "#display(df_mar_3.head(3))\n",
    "display(df_mar_3.shape)\n",
    "\n",
    "df_mar_2023 = pd.concat([df_mar_1, df_mar_2, df_mar_3], ignore_index=True)\n",
    "display(df_mar_2023.shape)\n",
    "\n",
    "df_mar_2023 = df_mar_2023[df_mar_2023['Этаж'] == 1]\n",
    "df_mar_2023 = df_mar_2023.drop_duplicates()\n",
    "df_mar_2023 = df_mar_2023.drop_duplicates(subset=['Тип', 'Площадь, м2', 'Широта', 'Долгота'], keep='first')\n",
    "display(df_mar_2023.shape)\n",
    "\n",
    "df_mar_2023 = df_mar_2023[(df_mar_2023['Площадь, м2'] < 1000) & (df_mar_2023['Площадь, м2'] > 20)]\n",
    "display(df_mar_2023.shape)\n",
    "\n",
    "df_mar_2023 = df_mar_2023.dropna(subset=['Описание'])\n",
    "condition1 = df_mar_2023['Описание'].str.contains('в ТЦ|в тц|в ТРЦ|в торговом центре|на первом этаже торгового центра|в ТД|в ТРК|в новом ТРК|в составе ТРЦ|на первом торговом уровне ТЦ|в новом ТЦ|ТЦ \"Ясенево\"|в районном Торговом центре|в современном ТРЦ|на 1 этаже ТЦ|на 1-ом этаже ТЦ|на 1 этаже торгового центра|на 1-м этаже торгового центра|на 1-ом этаже торгового центра', case=False)\n",
    "mask = df_mar_2023['Описание'].str[:70].str.contains('Торговый центр|Торговый Центр|торговый центр', case=False)\n",
    "df_mar_2023 = df_mar_2023[~condition1 & ~mask]\n",
    "display(df_mar_2023.shape)\n",
    "\n",
    "df_mar_2023 = df_mar_2023[~(((df_mar_2023['Тип'] == 'Сдам') & (df_mar_2023['Стоимость, м2'] > 100000)) | ((df_mar_2023['Тип'] == 'Продам') & (df_mar_2023['Стоимость, м2'] > 10000000)))]\n",
    "display(df_mar_2023.shape)\n",
    "\n",
    "# Добавляем столбец \"Категория Площади\"\n",
    "df_mar_2023['Категория Площади'] = df_mar_2023['Площадь, м2'].apply(categorize_area)\n",
    "\n",
    "# Добавляем столбец \"Район\"\n",
    "df_mar_2023['Район'] = df_mar_2023.apply(lambda row: get_district(Point(row['Долгота'], row['Широта'])), axis=1)\n",
    "\n",
    "# Добавляем столбец \"Категория стоимости\"\n",
    "df_mar_2023['Категория Стоимости'] = \"Не определено\"  # Значение по умолчанию\n",
    "df_mar_2023.loc[df_mar_2023['Тип'] == 'Продам', 'Категория Стоимости'] = df_mar_2023.loc[df_mar_2023['Тип'] == 'Продам', 'Стоимость'].apply(categorize_price)\n",
    "\n",
    "df_mar_2023.to_excel('C:/Users/malsh/Desktop/Магазин Магазинов/Готовые df street/df_mar_23_street.xlsx', index=False)\n",
    "print(f'DataFrame сохранен в {\"C:/Users/malsh/Desktop/Магазин Магазинов/Готовые df street/df_mar_23_street.xlsx\"}')"
   ]
  },
  {
   "cell_type": "code",
   "execution_count": 31,
   "id": "2ca7e39a",
   "metadata": {},
   "outputs": [
    {
     "data": {
      "text/plain": [
       "(24457, 16)"
      ]
     },
     "metadata": {},
     "output_type": "display_data"
    },
    {
     "name": "stdout",
     "output_type": "stream",
     "text": [
      "DataFrame сохранен в C:/Users/malsh/Desktop/Магазин Магазинов/Готовые df street/Кварталы/1кв. 2023.xlsx\n"
     ]
    }
   ],
   "source": [
    "three_m = pd.concat([df_jan_2023, df_feb_2023, df_mar_2023])\n",
    "three_m.drop_duplicates()\n",
    "three_m.drop_duplicates(subset=['Тип', 'Площадь, м2', 'Широта', 'Долгота'], keep='first', inplace=True)\n",
    "display(three_m.shape)\n",
    "\n",
    "three_m.to_excel('C:/Users/malsh/Desktop/Магазин Магазинов/Готовые df street/Кварталы/1кв. 2023.xlsx', index=False)\n",
    "print(f'DataFrame сохранен в {\"C:/Users/malsh/Desktop/Магазин Магазинов/Готовые df street/Кварталы/1кв. 2023.xlsx\"}')"
   ]
  },
  {
   "cell_type": "markdown",
   "id": "2afefa0a",
   "metadata": {},
   "source": [
    "## Апрель 2023"
   ]
  },
  {
   "cell_type": "code",
   "execution_count": 23,
   "id": "a5390794",
   "metadata": {},
   "outputs": [
    {
     "data": {
      "text/plain": [
       "(10000, 13)"
      ]
     },
     "metadata": {},
     "output_type": "display_data"
    },
    {
     "data": {
      "text/plain": [
       "(10000, 13)"
      ]
     },
     "metadata": {},
     "output_type": "display_data"
    },
    {
     "data": {
      "text/plain": [
       "(2775, 13)"
      ]
     },
     "metadata": {},
     "output_type": "display_data"
    },
    {
     "data": {
      "text/plain": [
       "(22775, 13)"
      ]
     },
     "metadata": {},
     "output_type": "display_data"
    },
    {
     "data": {
      "text/plain": [
       "(13101, 13)"
      ]
     },
     "metadata": {},
     "output_type": "display_data"
    },
    {
     "data": {
      "text/plain": [
       "(11299, 13)"
      ]
     },
     "metadata": {},
     "output_type": "display_data"
    },
    {
     "data": {
      "text/plain": [
       "(10978, 13)"
      ]
     },
     "metadata": {},
     "output_type": "display_data"
    },
    {
     "data": {
      "text/plain": [
       "(10933, 13)"
      ]
     },
     "metadata": {},
     "output_type": "display_data"
    },
    {
     "name": "stdout",
     "output_type": "stream",
     "text": [
      "DataFrame сохранен в C:/Users/malsh/Desktop/Магазин Магазинов/Готовые df street/df_apr_23_street.xlsx\n"
     ]
    }
   ],
   "source": [
    "df_apr_1 = pd.read_excel('C:/Users/malsh/Desktop/Магазин Магазинов/Данные/Апрель_2023/Апрель_2023_1.xlsx', sheet_name='Worksheet')[['№', 'Категория', 'Тип', 'Этаж', 'Площадь, м2', 'Стоимость', 'Стоимость, м2', 'Имя контакта', 'Телефон', 'Широта', 'Долгота', 'Описание', 'Ссылка']]\n",
    "df_apr_1 = df_apr_1.drop_duplicates()\n",
    "#display(df_apr_1.head(3))\n",
    "display(df_apr_1.shape)\n",
    "\n",
    "df_apr_2 = pd.read_excel('C:/Users/malsh/Desktop/Магазин Магазинов/Данные/Апрель_2023/Апрель_2023_2.xlsx', sheet_name='Worksheet')[['№', 'Категория', 'Тип', 'Этаж', 'Площадь, м2', 'Стоимость', 'Стоимость, м2', 'Имя контакта', 'Телефон', 'Широта', 'Долгота', 'Описание', 'Ссылка']]\n",
    "df_apr_2 = df_apr_2.drop_duplicates()\n",
    "#display(df_apr_2.head(3))\n",
    "display(df_apr_2.shape)\n",
    "\n",
    "df_apr_3 = pd.read_excel('C:/Users/malsh/Desktop/Магазин Магазинов/Данные/Апрель_2023/Апрель_2023_3.xlsx', sheet_name='Worksheet')[['№', 'Категория', 'Тип', 'Этаж', 'Площадь, м2', 'Стоимость', 'Стоимость, м2', 'Имя контакта', 'Телефон', 'Широта', 'Долгота', 'Описание', 'Ссылка']]\n",
    "df_apr_3 = df_apr_3.drop_duplicates()\n",
    "#display(df_apr_3.head(3))\n",
    "display(df_apr_3.shape)\n",
    "\n",
    "df_apr_2023 = pd.concat([df_apr_1, df_apr_2, df_apr_3], ignore_index=True)\n",
    "display(df_apr_2023.shape)\n",
    "\n",
    "df_apr_2023 = df_apr_2023[df_apr_2023['Этаж'] == 1]\n",
    "df_apr_2023 = df_apr_2023.drop_duplicates()\n",
    "df_apr_2023 = df_apr_2023.drop_duplicates(subset=['Тип', 'Площадь, м2', 'Широта', 'Долгота'], keep='first')\n",
    "display(df_apr_2023.shape)\n",
    "\n",
    "df_apr_2023 = df_apr_2023[(df_apr_2023['Площадь, м2'] < 1000) & (df_apr_2023['Площадь, м2'] > 20)]\n",
    "display(df_apr_2023.shape)\n",
    "\n",
    "df_apr_2023 = df_apr_2023.dropna(subset=['Описание'])\n",
    "condition1 = df_apr_2023['Описание'].str.contains('в ТЦ|в тц|в ТРЦ|в торговом центре|на первом этаже торгового центра|в ТД|в ТРК|в новом ТРК|в составе ТРЦ|на первом торговом уровне ТЦ|в новом ТЦ|ТЦ \"Ясенево\"|в районном Торговом центре|в современном ТРЦ|на 1 этаже ТЦ|на 1-ом этаже ТЦ|на 1 этаже торгового центра|на 1-м этаже торгового центра|на 1-ом этаже торгового центра', case=False)\n",
    "mask = df_apr_2023['Описание'].str[:70].str.contains('Торговый центр|Торговый Центр|торговый центр', case=False)\n",
    "df_apr_2023 = df_apr_2023[~condition1 & ~mask]\n",
    "display(df_apr_2023.shape)\n",
    "\n",
    "df_apr_2023 = df_apr_2023[~(((df_apr_2023['Тип'] == 'Сдам') & (df_apr_2023['Стоимость, м2'] > 100000)) | ((df_apr_2023['Тип'] == 'Продам') & (df_apr_2023['Стоимость, м2'] > 10000000)))]\n",
    "display(df_apr_2023.shape)\n",
    "\n",
    "# Добавляем столбец \"Категория Площади\"\n",
    "df_apr_2023['Категория Площади'] = df_apr_2023['Площадь, м2'].apply(categorize_area)\n",
    "\n",
    "# Добавляем столбец \"Район\"\n",
    "df_apr_2023['Район'] = df_apr_2023.apply(lambda row: get_district(Point(row['Долгота'], row['Широта'])), axis=1)\n",
    "\n",
    "# Добавляем столбец \"Категория стоимости\"\n",
    "df_apr_2023['Категория Стоимости'] = \"Не определено\"  # Значение по умолчанию\n",
    "df_apr_2023.loc[df_apr_2023['Тип'] == 'Продам', 'Категория Стоимости'] = df_apr_2023.loc[df_apr_2023['Тип'] == 'Продам', 'Стоимость'].apply(categorize_price)\n",
    "\n",
    "df_apr_2023.to_excel('C:/Users/malsh/Desktop/Магазин Магазинов/Готовые df street/df_apr_23_street.xlsx', index=False)\n",
    "print(f'DataFrame сохранен в {\"C:/Users/malsh/Desktop/Магазин Магазинов/Готовые df street/df_apr_23_street.xlsx\"}')"
   ]
  },
  {
   "cell_type": "markdown",
   "id": "5fb7a6e4",
   "metadata": {},
   "source": [
    "## Май 2023"
   ]
  },
  {
   "cell_type": "code",
   "execution_count": 24,
   "id": "65794ffb",
   "metadata": {},
   "outputs": [
    {
     "data": {
      "text/plain": [
       "(10000, 13)"
      ]
     },
     "metadata": {},
     "output_type": "display_data"
    },
    {
     "data": {
      "text/plain": [
       "(10000, 13)"
      ]
     },
     "metadata": {},
     "output_type": "display_data"
    },
    {
     "data": {
      "text/plain": [
       "(1200, 13)"
      ]
     },
     "metadata": {},
     "output_type": "display_data"
    },
    {
     "data": {
      "text/plain": [
       "(21200, 13)"
      ]
     },
     "metadata": {},
     "output_type": "display_data"
    },
    {
     "data": {
      "text/plain": [
       "(12697, 13)"
      ]
     },
     "metadata": {},
     "output_type": "display_data"
    },
    {
     "data": {
      "text/plain": [
       "(10924, 13)"
      ]
     },
     "metadata": {},
     "output_type": "display_data"
    },
    {
     "data": {
      "text/plain": [
       "(10655, 13)"
      ]
     },
     "metadata": {},
     "output_type": "display_data"
    },
    {
     "data": {
      "text/plain": [
       "(10640, 13)"
      ]
     },
     "metadata": {},
     "output_type": "display_data"
    },
    {
     "name": "stdout",
     "output_type": "stream",
     "text": [
      "DataFrame сохранен в C:/Users/malsh/Desktop/Магазин Магазинов/Готовые df street/df_may_23_street.xlsx\n"
     ]
    }
   ],
   "source": [
    "df_may_1 = pd.read_excel('C:/Users/malsh/Desktop/Магазин Магазинов/Данные/Май_2023/Май_2023_1.xlsx', sheet_name='Worksheet')[['№', 'Категория', 'Тип', 'Этаж', 'Площадь, м2', 'Стоимость', 'Стоимость, м2', 'Имя контакта', 'Телефон', 'Широта', 'Долгота', 'Описание', 'Ссылка']]\n",
    "df_may_1 = df_may_1.drop_duplicates()\n",
    "#display(df_may_1.head(3))\n",
    "display(df_may_1.shape)\n",
    "\n",
    "df_may_2 = pd.read_excel('C:/Users/malsh/Desktop/Магазин Магазинов/Данные/Май_2023/Май_2023_2.xlsx', sheet_name='Worksheet')[['№', 'Категория', 'Тип', 'Этаж', 'Площадь, м2', 'Стоимость', 'Стоимость, м2', 'Имя контакта', 'Телефон', 'Широта', 'Долгота', 'Описание', 'Ссылка']]\n",
    "df_may_2 = df_may_2.drop_duplicates()\n",
    "#display(df_may_2.head(3))\n",
    "display(df_may_2.shape)\n",
    "\n",
    "df_may_3 = pd.read_excel('C:/Users/malsh/Desktop/Магазин Магазинов/Данные/Май_2023/Май_2023_3.xlsx', sheet_name='Worksheet')[['№', 'Категория', 'Тип', 'Этаж', 'Площадь, м2', 'Стоимость', 'Стоимость, м2', 'Имя контакта', 'Телефон', 'Широта', 'Долгота', 'Описание', 'Ссылка']]\n",
    "df_may_3 = df_may_3.drop_duplicates()\n",
    "#display(df_may_3.head(3))\n",
    "display(df_may_3.shape)\n",
    "\n",
    "df_may_2023 = pd.concat([df_may_1, df_may_2, df_may_3], ignore_index=True)\n",
    "display(df_may_2023.shape)\n",
    "\n",
    "df_may_2023 = df_may_2023[df_may_2023['Этаж'] == 1]\n",
    "df_may_2023 = df_may_2023.drop_duplicates()\n",
    "df_may_2023 = df_may_2023.drop_duplicates(subset=['Тип', 'Площадь, м2', 'Широта', 'Долгота'], keep='first')\n",
    "display(df_may_2023.shape)\n",
    "\n",
    "df_may_2023 = df_may_2023[(df_may_2023['Площадь, м2'] < 1000) & (df_may_2023['Площадь, м2'] > 20)]\n",
    "display(df_may_2023.shape)\n",
    "\n",
    "df_may_2023 = df_may_2023.dropna(subset=['Описание'])\n",
    "condition1 = df_may_2023['Описание'].str.contains('в ТЦ|в тц|в ТРЦ|в торговом центре|на первом этаже торгового центра|в ТД|в ТРК|в новом ТРК|в составе ТРЦ|на первом торговом уровне ТЦ|в новом ТЦ|ТЦ \"Ясенево\"|в районном Торговом центре|в современном ТРЦ|на 1 этаже ТЦ|на 1-ом этаже ТЦ|на 1 этаже торгового центра|на 1-м этаже торгового центра|на 1-ом этаже торгового центра', case=False)\n",
    "mask = df_may_2023['Описание'].str[:70].str.contains('Торговый центр|Торговый Центр|торговый центр', case=False)\n",
    "df_may_2023 = df_may_2023[~condition1 & ~mask]\n",
    "display(df_may_2023.shape)\n",
    "\n",
    "df_may_2023 = df_may_2023[~(((df_may_2023['Тип'] == 'Сдам') & (df_may_2023['Стоимость, м2'] > 100000)) | ((df_may_2023['Тип'] == 'Продам') & (df_may_2023['Стоимость, м2'] > 10000000)))]\n",
    "display(df_may_2023.shape)\n",
    "\n",
    "# Добавляем столбец \"Категория Площади\"\n",
    "df_may_2023['Категория Площади'] = df_may_2023['Площадь, м2'].apply(categorize_area)\n",
    "\n",
    "# Добавляем столбец \"Район\"\n",
    "df_may_2023['Район'] = df_may_2023.apply(lambda row: get_district(Point(row['Долгота'], row['Широта'])), axis=1)\n",
    "\n",
    "# Добавляем столбец \"Категория стоимости\"\n",
    "df_may_2023['Категория Стоимости'] = \"Не определено\"  # Значение по умолчанию\n",
    "df_may_2023.loc[df_may_2023['Тип'] == 'Продам', 'Категория Стоимости'] = df_may_2023.loc[df_may_2023['Тип'] == 'Продам', 'Стоимость'].apply(categorize_price)\n",
    "\n",
    "df_may_2023.to_excel('C:/Users/malsh/Desktop/Магазин Магазинов/Готовые df street/df_may_23_street.xlsx', index=False)\n",
    "print(f'DataFrame сохранен в {\"C:/Users/malsh/Desktop/Магазин Магазинов/Готовые df street/df_may_23_street.xlsx\"}')"
   ]
  },
  {
   "cell_type": "markdown",
   "id": "3a3a0822",
   "metadata": {},
   "source": [
    "## Июнь 2023"
   ]
  },
  {
   "cell_type": "code",
   "execution_count": 32,
   "id": "758c38e3",
   "metadata": {},
   "outputs": [
    {
     "data": {
      "text/plain": [
       "(27912, 13)"
      ]
     },
     "metadata": {},
     "output_type": "display_data"
    },
    {
     "data": {
      "text/plain": [
       "(15651, 13)"
      ]
     },
     "metadata": {},
     "output_type": "display_data"
    },
    {
     "data": {
      "text/plain": [
       "(13505, 13)"
      ]
     },
     "metadata": {},
     "output_type": "display_data"
    },
    {
     "data": {
      "text/plain": [
       "(13183, 13)"
      ]
     },
     "metadata": {},
     "output_type": "display_data"
    },
    {
     "data": {
      "text/plain": [
       "(13145, 13)"
      ]
     },
     "metadata": {},
     "output_type": "display_data"
    }
   ],
   "source": [
    "# df_june_1 = pd.read_excel('C:/Users/malsh/Desktop/Магазин Магазинов/Данные/Июнь_2023/Июнь.xlsx', sheet_name='Worksheet')[['№', 'Категория', 'Тип', 'Этаж', 'Площадь, м2', 'Стоимость', 'Стоимость, м2', 'Имя контакта', 'Телефон', 'Широта', 'Долгота', 'Описание', 'Ссылка']]\n",
    "# df_june_1 = df_june_1.drop_duplicates()\n",
    "# #display(df_june_1.head(3))\n",
    "# display(df_june_1.shape)\n",
    "\n",
    "\n",
    "# df_june_2023 = df_june_1\n",
    "\n",
    "# df_june_2023 = df_june_2023[df_june_2023['Этаж'] == 1]\n",
    "# df_june_2023 = df_june_2023.drop_duplicates()\n",
    "# df_june_2023 = df_june_2023.drop_duplicates(subset=['Тип', 'Площадь, м2', 'Широта', 'Долгота'], keep='first')\n",
    "# display(df_june_2023.shape)\n",
    "\n",
    "# df_june_2023 = df_june_2023[(df_june_2023['Площадь, м2'] < 1000) & (df_june_2023['Площадь, м2'] > 20)]\n",
    "# display(df_june_2023.shape)\n",
    "\n",
    "# df_june_2023 = df_june_2023.dropna(subset=['Описание'])\n",
    "# condition1 = df_june_2023['Описание'].str.contains('в ТЦ|в тц|в ТРЦ|в торговом центре|на первом этаже торгового центра|в ТД|в ТРК|в новом ТРК|в составе ТРЦ|на первом торговом уровне ТЦ|в новом ТЦ|ТЦ \"Ясенево\"|в районном Торговом центре|в современном ТРЦ|на 1 этаже ТЦ|на 1-ом этаже ТЦ|на 1 этаже торгового центра|на 1-м этаже торгового центра|на 1-ом этаже торгового центра', case=False)\n",
    "# mask = df_june_2023['Описание'].str[:70].str.contains('Торговый центр|Торговый Центр|торговый центр', case=False)\n",
    "# df_june_2023 = df_june_2023[~condition1 & ~mask]\n",
    "# display(df_june_2023.shape)\n",
    "\n",
    "# df_june_2023 = df_june_2023[~(((df_june_2023['Тип'] == 'Сдам') & (df_june_2023['Стоимость, м2'] > 100000)) | ((df_june_2023['Тип'] == 'Продам') & (df_june_2023['Стоимость, м2'] > 10000000)))]\n",
    "# display(df_june_2023.shape)\n",
    "\n",
    "\n",
    "# # Добавляем столбец \"Категория Площади\"\n",
    "# df_june_2023['Категория Площади'] = df_june_2023['Площадь, м2'].apply(categorize_area)\n",
    "\n",
    "# # Добавляем столбец \"Район\"\n",
    "# df_june_2023['Район'] = df_june_2023.apply(lambda row: get_district(Point(row['Долгота'], row['Широта'])), axis=1)\n",
    "\n",
    "# # Добавляем столбец \"Категория стоимости\"\n",
    "# df_june_2023['Категория Стоимости'] = \"Не определено\"  # Значение по умолчанию\n",
    "# df_june_2023.loc[df_june_2023['Тип'] == 'Продам', 'Категория Стоимости'] = df_june_2023.loc[df_june_2023['Тип'] == 'Продам', 'Стоимость'].apply(categorize_price)\n",
    "\n",
    "\n",
    "\n",
    "# df_june_2023.to_excel('C:/Users/malsh/Desktop/Магазин Магазинов/Готовые df street/df_june_23_street.xlsx', index=False)\n",
    "# print(f'DataFrame сохранен в {\"C:/Users/malsh/Desktop/Магазин Магазинов/Готовые df street/df_june_23_street.xlsx\"}')"
   ]
  },
  {
   "cell_type": "code",
   "execution_count": 33,
   "id": "c16056bb",
   "metadata": {},
   "outputs": [
    {
     "data": {
      "text/plain": [
       "(29688, 16)"
      ]
     },
     "metadata": {},
     "output_type": "display_data"
    },
    {
     "name": "stdout",
     "output_type": "stream",
     "text": [
      "DataFrame сохранен в C:/Users/malsh/Desktop/Магазин Магазинов/Готовые df street/Кварталы/2кв. 2023.xlsx\n"
     ]
    }
   ],
   "source": [
    "three_m = pd.concat([df_apr_2023, df_may_2023, df_june_2023])\n",
    "three_m.drop_duplicates()\n",
    "three_m.drop_duplicates(subset=['Тип', 'Площадь, м2', 'Широта', 'Долгота'], keep='first', inplace=True)\n",
    "display(three_m.shape)\n",
    "\n",
    "three_m.to_excel('C:/Users/malsh/Desktop/Магазин Магазинов/Готовые df street/Кварталы/2кв. 2023.xlsx', index=False)\n",
    "print(f'DataFrame сохранен в {\"C:/Users/malsh/Desktop/Магазин Магазинов/Готовые df street/Кварталы/2кв. 2023.xlsx\"}')"
   ]
  },
  {
   "cell_type": "markdown",
   "id": "38eac747",
   "metadata": {},
   "source": [
    "## Июль 2023"
   ]
  },
  {
   "cell_type": "code",
   "execution_count": 7,
   "id": "5d9b1948",
   "metadata": {},
   "outputs": [
    {
     "data": {
      "text/plain": [
       "(44885, 13)"
      ]
     },
     "metadata": {},
     "output_type": "display_data"
    },
    {
     "data": {
      "text/plain": [
       "(26428, 13)"
      ]
     },
     "metadata": {},
     "output_type": "display_data"
    },
    {
     "data": {
      "text/plain": [
       "(22436, 13)"
      ]
     },
     "metadata": {},
     "output_type": "display_data"
    },
    {
     "data": {
      "text/plain": [
       "(21745, 13)"
      ]
     },
     "metadata": {},
     "output_type": "display_data"
    },
    {
     "data": {
      "text/plain": [
       "(21707, 13)"
      ]
     },
     "metadata": {},
     "output_type": "display_data"
    },
    {
     "name": "stdout",
     "output_type": "stream",
     "text": [
      "DataFrame сохранен в C:/Users/malsh/Desktop/Магазин Магазинов/Готовые df street/df_july_23_street.xlsx\n"
     ]
    }
   ],
   "source": [
    "# df_july_1 = pd.read_excel('C:/Users/malsh/Desktop/Магазин Магазинов/Данные/Июль_2023/Июль.xlsx', sheet_name='Worksheet')[['№', 'Категория', 'Тип', 'Этаж', 'Площадь, м2', 'Стоимость', 'Стоимость, м2', 'Имя контакта', 'Телефон', 'Широта', 'Долгота', 'Описание', 'Ссылка']]\n",
    "# df_july_1 = df_july_1.drop_duplicates()\n",
    "# #display(df_july_1.head(3))\n",
    "# display(df_july_1.shape)\n",
    "\n",
    "\n",
    "# df_july_2023 = df_july_1\n",
    "\n",
    "# df_july_2023 = df_july_2023[df_july_2023['Этаж'] == 1]\n",
    "# df_july_2023 = df_july_2023.drop_duplicates()\n",
    "# df_july_2023 = df_july_2023.drop_duplicates(subset=['Тип', 'Площадь, м2', 'Широта', 'Долгота'], keep='first')\n",
    "# display(df_july_2023.shape)\n",
    "\n",
    "# df_july_2023 = df_july_2023[(df_july_2023['Площадь, м2'] < 1000) & (df_july_2023['Площадь, м2'] > 20)]\n",
    "# display(df_july_2023.shape)\n",
    "\n",
    "# df_july_2023 = df_july_2023.dropna(subset=['Описание'])\n",
    "# condition1 = df_july_2023['Описание'].str.contains('в ТЦ|в тц|в ТРЦ|в торговом центре|на первом этаже торгового центра|в ТД|в ТРК|в новом ТРК|в составе ТРЦ|на первом торговом уровне ТЦ|в новом ТЦ|ТЦ \"Ясенево\"|в районном Торговом центре|в современном ТРЦ|на 1 этаже ТЦ|на 1-ом этаже ТЦ|на 1 этаже торгового центра|на 1-м этаже торгового центра|на 1-ом этаже торгового центра', case=False)\n",
    "# mask = df_july_2023['Описание'].str[:70].str.contains('Торговый центр|Торговый Центр|торговый центр', case=False)\n",
    "# condition1 = condition1.fillna(False)\n",
    "# mask = mask.fillna(False)\n",
    "# df_july_2023 = df_july_2023[~condition1 & ~mask]\n",
    "# display(df_july_2023.shape)\n",
    "\n",
    "# df_july_2023 = df_july_2023[~(((df_july_2023['Тип'] == 'Сдам') & (df_july_2023['Стоимость, м2'] > 100000)) | ((df_july_2023['Тип'] == 'Продам') & (df_july_2023['Стоимость, м2'] > 10000000)))]\n",
    "# display(df_july_2023.shape)\n",
    "\n",
    "\n",
    "\n",
    "# # Добавляем столбец \"Категория Площади\"\n",
    "# df_july_2023['Категория Площади'] = df_july_2023['Площадь, м2'].apply(categorize_area)\n",
    "\n",
    "# # Добавляем столбец \"Район\"\n",
    "# df_july_2023['Район'] = df_july_2023.apply(lambda row: get_district(Point(row['Долгота'], row['Широта'])), axis=1)\n",
    "\n",
    "# # Добавляем столбец \"Категория стоимости\"\n",
    "# df_july_2023['Категория Стоимости'] = \"Не определено\"  # Значение по умолчанию\n",
    "# df_july_2023.loc[df_july_2023['Тип'] == 'Продам', 'Категория Стоимости'] = df_july_2023.loc[df_july_2023['Тип'] == 'Продам', 'Стоимость'].apply(categorize_price)\n",
    "\n",
    "\n",
    "\n",
    "# df_july_2023.to_excel('C:/Users/malsh/Desktop/Магазин Магазинов/Готовые df street/df_july_23_street.xlsx', index=False)\n",
    "# print(f'DataFrame сохранен в {\"C:/Users/malsh/Desktop/Магазин Магазинов/Готовые df street/df_july_23_street.xlsx\"}')"
   ]
  },
  {
   "cell_type": "markdown",
   "id": "87a4d262",
   "metadata": {},
   "source": [
    "## Август 2023"
   ]
  },
  {
   "cell_type": "code",
   "execution_count": 8,
   "id": "829615dd",
   "metadata": {},
   "outputs": [
    {
     "data": {
      "text/plain": [
       "(10000, 13)"
      ]
     },
     "metadata": {},
     "output_type": "display_data"
    },
    {
     "data": {
      "text/plain": [
       "(10000, 13)"
      ]
     },
     "metadata": {},
     "output_type": "display_data"
    },
    {
     "data": {
      "text/plain": [
       "(2274, 13)"
      ]
     },
     "metadata": {},
     "output_type": "display_data"
    },
    {
     "data": {
      "text/plain": [
       "(22274, 13)"
      ]
     },
     "metadata": {},
     "output_type": "display_data"
    },
    {
     "data": {
      "text/plain": [
       "(13831, 13)"
      ]
     },
     "metadata": {},
     "output_type": "display_data"
    },
    {
     "data": {
      "text/plain": [
       "(11818, 13)"
      ]
     },
     "metadata": {},
     "output_type": "display_data"
    },
    {
     "data": {
      "text/plain": [
       "(11459, 13)"
      ]
     },
     "metadata": {},
     "output_type": "display_data"
    },
    {
     "data": {
      "text/plain": [
       "(11428, 13)"
      ]
     },
     "metadata": {},
     "output_type": "display_data"
    },
    {
     "name": "stdout",
     "output_type": "stream",
     "text": [
      "DataFrame сохранен в C:/Users/malsh/Desktop/Магазин Магазинов/Готовые df street/df_aug_23_street.xlsx\n"
     ]
    }
   ],
   "source": [
    "# df_aug_1 = pd.read_excel('C:/Users/malsh/Desktop/Магазин Магазинов/Данные/Август_2023/Август_2023_1.xlsx', sheet_name='Worksheet')[['№', 'Категория', 'Тип', 'Этаж', 'Площадь, м2', 'Стоимость', 'Стоимость, м2', 'Имя контакта', 'Телефон', 'Широта', 'Долгота', 'Описание', 'Ссылка']]\n",
    "# df_aug_1 = df_aug_1.drop_duplicates()\n",
    "# #display(df_aug_1.head(3))\n",
    "# display(df_aug_1.shape)\n",
    "\n",
    "\n",
    "# df_aug_2 = pd.read_excel('C:/Users/malsh/Desktop/Магазин Магазинов/Данные/Август_2023/Август_2023_2.xlsx', sheet_name='Worksheet')[['№', 'Категория', 'Тип', 'Этаж', 'Площадь, м2', 'Стоимость', 'Стоимость, м2', 'Имя контакта', 'Телефон', 'Широта', 'Долгота', 'Описание', 'Ссылка']]\n",
    "# df_aug_2 = df_aug_2.drop_duplicates()\n",
    "# #display(df_aug_2.head(3))\n",
    "# display(df_aug_2.shape)\n",
    "\n",
    "# df_aug_3 = pd.read_excel('C:/Users/malsh/Desktop/Магазин Магазинов/Данные/Август_2023/Август_2023_3.xlsx', sheet_name='Worksheet')[['№', 'Категория', 'Тип', 'Этаж', 'Площадь, м2', 'Стоимость', 'Стоимость, м2', 'Имя контакта', 'Телефон', 'Широта', 'Долгота', 'Описание', 'Ссылка']]\n",
    "# df_aug_3 = df_aug_3.drop_duplicates()\n",
    "# #display(df_aug_3.head(3))\n",
    "# display(df_aug_3.shape)\n",
    "\n",
    "# df_aug_2023 = pd.concat([df_aug_1, df_aug_2, df_aug_3], ignore_index=True)\n",
    "# display(df_aug_2023.shape)\n",
    "\n",
    "# df_aug_2023 = df_aug_2023[df_aug_2023['Этаж'] == 1]\n",
    "# df_aug_2023 = df_aug_2023.drop_duplicates()\n",
    "# df_aug_2023 = df_aug_2023.drop_duplicates(subset=['Тип', 'Площадь, м2', 'Широта', 'Долгота'], keep='first')\n",
    "# display(df_aug_2023.shape)\n",
    "\n",
    "# df_aug_2023 = df_aug_2023[(df_aug_2023['Площадь, м2'] < 1000) & (df_aug_2023['Площадь, м2'] > 20)]\n",
    "# display(df_aug_2023.shape)\n",
    "\n",
    "# df_aug_2023 = df_aug_2023.dropna(subset=['Описание'])\n",
    "# condition1 = df_aug_2023['Описание'].str.contains('в ТЦ|в тц|в ТРЦ|в торговом центре|на первом этаже торгового центра|в ТД|в ТРК|в новом ТРК|в составе ТРЦ|на первом торговом уровне ТЦ|в новом ТЦ|ТЦ \"Ясенево\"|в районном Торговом центре|в современном ТРЦ|на 1 этаже ТЦ|на 1-ом этаже ТЦ|на 1 этаже торгового центра|на 1-м этаже торгового центра|на 1-ом этаже торгового центра', case=False)\n",
    "# mask = df_aug_2023['Описание'].str[:70].str.contains('Торговый центр|Торговый Центр|торговый центр', case=False)\n",
    "# df_aug_2023 = df_aug_2023[~condition1 & ~mask]\n",
    "# display(df_aug_2023.shape)\n",
    "\n",
    "# df_aug_2023 = df_aug_2023[~(((df_aug_2023['Тип'] == 'Сдам') & (df_aug_2023['Стоимость, м2'] > 100000)) | ((df_aug_2023['Тип'] == 'Продам') & (df_aug_2023['Стоимость, м2'] > 10000000)))]\n",
    "# display(df_aug_2023.shape)\n",
    "\n",
    "\n",
    "\n",
    "# # Добавляем столбец \"Категория Площади\"\n",
    "# df_aug_2023['Категория Площади'] = df_aug_2023['Площадь, м2'].apply(categorize_area)\n",
    "\n",
    "# # Добавляем столбец \"Район\"\n",
    "# df_aug_2023['Район'] = df_aug_2023.apply(lambda row: get_district(Point(row['Долгота'], row['Широта'])), axis=1)\n",
    "\n",
    "# # Добавляем столбец \"Категория стоимости\"\n",
    "# df_aug_2023['Категория Стоимости'] = \"Не определено\"  # Значение по умолчанию\n",
    "# df_aug_2023.loc[df_aug_2023['Тип'] == 'Продам', 'Категория Стоимости'] = df_aug_2023.loc[df_aug_2023['Тип'] == 'Продам', 'Стоимость'].apply(categorize_price)\n",
    "\n",
    "\n",
    "\n",
    "# df_aug_2023.to_excel('C:/Users/malsh/Desktop/Магазин Магазинов/Готовые df street/df_aug_23_street.xlsx', index=False)\n",
    "# print(f'DataFrame сохранен в {\"C:/Users/malsh/Desktop/Магазин Магазинов/Готовые df street/df_aug_23_street.xlsx\"}')"
   ]
  },
  {
   "cell_type": "markdown",
   "id": "f790a87f",
   "metadata": {},
   "source": [
    "## Сентябрь 2023"
   ]
  },
  {
   "cell_type": "code",
   "execution_count": 9,
   "id": "cb550a8a",
   "metadata": {},
   "outputs": [
    {
     "data": {
      "text/plain": [
       "(10000, 13)"
      ]
     },
     "metadata": {},
     "output_type": "display_data"
    },
    {
     "data": {
      "text/plain": [
       "(10000, 13)"
      ]
     },
     "metadata": {},
     "output_type": "display_data"
    },
    {
     "data": {
      "text/plain": [
       "(10000, 13)"
      ]
     },
     "metadata": {},
     "output_type": "display_data"
    },
    {
     "data": {
      "text/plain": [
       "(6517, 13)"
      ]
     },
     "metadata": {},
     "output_type": "display_data"
    },
    {
     "data": {
      "text/plain": [
       "(36517, 13)"
      ]
     },
     "metadata": {},
     "output_type": "display_data"
    },
    {
     "data": {
      "text/plain": [
       "(22216, 13)"
      ]
     },
     "metadata": {},
     "output_type": "display_data"
    },
    {
     "data": {
      "text/plain": [
       "(18757, 13)"
      ]
     },
     "metadata": {},
     "output_type": "display_data"
    },
    {
     "data": {
      "text/plain": [
       "(18203, 13)"
      ]
     },
     "metadata": {},
     "output_type": "display_data"
    },
    {
     "data": {
      "text/plain": [
       "(18164, 13)"
      ]
     },
     "metadata": {},
     "output_type": "display_data"
    },
    {
     "name": "stdout",
     "output_type": "stream",
     "text": [
      "DataFrame сохранен в C:/Users/malsh/Desktop/Магазин Магазинов/Готовые df street/df_sep_23_street.xlsx\n"
     ]
    }
   ],
   "source": [
    "# df_sep_1 = pd.read_excel('C:/Users/malsh/Desktop/Магазин Магазинов/Данные/Сентябрь_2023/Сентябрь_2023_1.xlsx', sheet_name='Worksheet')[['№', 'Категория', 'Тип', 'Этаж', 'Площадь, м2', 'Стоимость', 'Стоимость, м2', 'Имя контакта', 'Телефон', 'Широта', 'Долгота', 'Описание', 'Ссылка']]\n",
    "# df_sep_1 = df_sep_1.drop_duplicates()\n",
    "# #display(df_sep_1.head(3))\n",
    "# display(df_sep_1.shape)\n",
    "\n",
    "\n",
    "# df_sep_2 = pd.read_excel('C:/Users/malsh/Desktop/Магазин Магазинов/Данные/Сентябрь_2023/Сентябрь_2023_2.xlsx', sheet_name='Worksheet')[['№', 'Категория', 'Тип', 'Этаж', 'Площадь, м2', 'Стоимость', 'Стоимость, м2', 'Имя контакта', 'Телефон', 'Широта', 'Долгота', 'Описание', 'Ссылка']]\n",
    "# df_sep_2 = df_sep_2.drop_duplicates()\n",
    "# #display(df_sep_2.head(3))\n",
    "# display(df_sep_2.shape)\n",
    "\n",
    "# df_sep_3 = pd.read_excel('C:/Users/malsh/Desktop/Магазин Магазинов/Данные/Сентябрь_2023/Сентябрь_2023_3.xlsx', sheet_name='Worksheet')[['№', 'Категория', 'Тип', 'Этаж', 'Площадь, м2', 'Стоимость', 'Стоимость, м2', 'Имя контакта', 'Телефон', 'Широта', 'Долгота', 'Описание', 'Ссылка']]\n",
    "# df_sep_3 = df_sep_3.drop_duplicates()\n",
    "# #display(df_sep_3.head(3))\n",
    "# display(df_sep_3.shape)\n",
    "\n",
    "# df_sep_4 = pd.read_excel('C:/Users/malsh/Desktop/Магазин Магазинов/Данные/Сентябрь_2023/Сентябрь_2023_4.xlsx', sheet_name='Worksheet')[['№', 'Категория', 'Тип', 'Этаж', 'Площадь, м2', 'Стоимость', 'Стоимость, м2', 'Имя контакта', 'Телефон', 'Широта', 'Долгота', 'Описание', 'Ссылка']]\n",
    "# df_sep_4 = df_sep_4.drop_duplicates()\n",
    "# #display(df_sep_4.head(3))\n",
    "# display(df_sep_4.shape)\n",
    "\n",
    "# df_sep_2023 = pd.concat([df_sep_1, df_sep_2, df_sep_3, df_sep_4], ignore_index=True)\n",
    "# display(df_sep_2023.shape)\n",
    "\n",
    "# df_sep_2023 = df_sep_2023[df_sep_2023['Этаж'] == 1]\n",
    "# df_sep_2023 = df_sep_2023.drop_duplicates()\n",
    "# df_sep_2023 = df_sep_2023.drop_duplicates(subset=['Тип', 'Площадь, м2', 'Широта', 'Долгота'], keep='first')\n",
    "# display(df_sep_2023.shape)\n",
    "\n",
    "# df_sep_2023 = df_sep_2023[(df_sep_2023['Площадь, м2'] < 1000) & (df_sep_2023['Площадь, м2'] > 20)]\n",
    "# display(df_sep_2023.shape)\n",
    "\n",
    "# df_sep_2023 = df_sep_2023.dropna(subset=['Описание'])\n",
    "# condition1 = df_sep_2023['Описание'].str.contains('в ТЦ|в тц|в ТРЦ|в торговом центре|на первом этаже торгового центра|в ТД|в ТРК|в новом ТРК|в составе ТРЦ|на первом торговом уровне ТЦ|в новом ТЦ|ТЦ \"Ясенево\"|в районном Торговом центре|в современном ТРЦ|на 1 этаже ТЦ|на 1-ом этаже ТЦ|на 1 этаже торгового центра|на 1-м этаже торгового центра|на 1-ом этаже торгового центра', case=False)\n",
    "# mask = df_sep_2023['Описание'].str[:70].str.contains('Торговый центр|Торговый Центр|торговый центр', case=False)\n",
    "# df_sep_2023 = df_sep_2023[~condition1 & ~mask]\n",
    "# display(df_sep_2023.shape)\n",
    "\n",
    "# df_sep_2023 = df_sep_2023[~(((df_sep_2023['Тип'] == 'Сдам') & (df_sep_2023['Стоимость, м2'] > 100000)) | ((df_sep_2023['Тип'] == 'Продам') & (df_sep_2023['Стоимость, м2'] > 10000000)))]\n",
    "# display(df_sep_2023.shape)\n",
    "\n",
    "\n",
    "\n",
    "# # Добавляем столбец \"Категория Площади\"\n",
    "# df_sep_2023['Категория Площади'] = df_sep_2023['Площадь, м2'].apply(categorize_area)\n",
    "\n",
    "# # Добавляем столбец \"Район\"\n",
    "# df_sep_2023['Район'] = df_sep_2023.apply(lambda row: get_district(Point(row['Долгота'], row['Широта'])), axis=1)\n",
    "\n",
    "# # Добавляем столбец \"Категория стоимости\"\n",
    "# df_sep_2023['Категория Стоимости'] = \"Не определено\"  # Значение по умолчанию\n",
    "# .loc[df_sep_2023['Тип'] == 'Продам', 'Категория Стоимости'] = df_sep_2023.loc[df_sep_2023['Тип'] == 'Продам', 'Стоимость'].apply(categorize_price)\n",
    "\n",
    "\n",
    "\n",
    "# df_sep_2023.to_excel('C:/Users/malsh/Desktop/Магазин Магазинов/Готовые df street/df_sep_23_street.xlsx', index=False)\n",
    "# print(f'DataFrame сохранен в {\"C:/Users/malsh/Desktop/Магазин Магазинов/Готовые df street/df_sep_23_street.xlsx\"}')"
   ]
  },
  {
   "cell_type": "code",
   "execution_count": null,
   "id": "021d3b37",
   "metadata": {},
   "outputs": [],
   "source": [
    "three_m = pd.concat([df_july_2023, df_aug_2023, df_sep_2023])\n",
    "three_m.drop_duplicates()\n",
    "three_m.drop_duplicates(subset=['Тип', 'Площадь, м2', 'Широта', 'Долгота'], keep='first', inplace=True)\n",
    "display(three_m.shape)\n",
    "\n",
    "three_m.to_excel('C:/Users/malsh/Desktop/Магазин Магазинов/Готовые df street/Кварталы/3кв. 2023.xlsx', index=False)\n",
    "print(f'DataFrame сохранен в {\"C:/Users/malsh/Desktop/Магазин Магазинов/Готовые df street/Кварталы/3кв. 2023.xlsx\"}')"
   ]
  },
  {
   "cell_type": "markdown",
   "id": "593c41b5",
   "metadata": {},
   "source": [
    "## Октябрь 2023"
   ]
  },
  {
   "cell_type": "code",
   "execution_count": 10,
   "id": "fc21a6ca",
   "metadata": {},
   "outputs": [
    {
     "data": {
      "text/plain": [
       "(10000, 13)"
      ]
     },
     "metadata": {},
     "output_type": "display_data"
    },
    {
     "data": {
      "text/plain": [
       "(10000, 13)"
      ]
     },
     "metadata": {},
     "output_type": "display_data"
    },
    {
     "data": {
      "text/plain": [
       "(10000, 13)"
      ]
     },
     "metadata": {},
     "output_type": "display_data"
    },
    {
     "data": {
      "text/plain": [
       "(10000, 13)"
      ]
     },
     "metadata": {},
     "output_type": "display_data"
    },
    {
     "data": {
      "text/plain": [
       "(10000, 13)"
      ]
     },
     "metadata": {},
     "output_type": "display_data"
    },
    {
     "data": {
      "text/plain": [
       "(2137, 13)"
      ]
     },
     "metadata": {},
     "output_type": "display_data"
    },
    {
     "data": {
      "text/plain": [
       "(52137, 13)"
      ]
     },
     "metadata": {},
     "output_type": "display_data"
    },
    {
     "data": {
      "text/plain": [
       "(30341, 13)"
      ]
     },
     "metadata": {},
     "output_type": "display_data"
    },
    {
     "data": {
      "text/plain": [
       "(25576, 13)"
      ]
     },
     "metadata": {},
     "output_type": "display_data"
    },
    {
     "data": {
      "text/plain": [
       "(24893, 13)"
      ]
     },
     "metadata": {},
     "output_type": "display_data"
    },
    {
     "data": {
      "text/plain": [
       "(24852, 13)"
      ]
     },
     "metadata": {},
     "output_type": "display_data"
    },
    {
     "name": "stdout",
     "output_type": "stream",
     "text": [
      "DataFrame сохранен в C:/Users/malsh/Desktop/Магазин Магазинов/Готовые df street/df_oct_23_street.xlsx\n"
     ]
    }
   ],
   "source": [
    "# df_oct_1 = pd.read_excel('C:/Users/malsh/Desktop/Магазин Магазинов/Данные/Октябрь_2023/Октябрь_2023_1.xlsx', sheet_name='Worksheet')[['№', 'Категория', 'Тип', 'Этаж', 'Площадь, м2', 'Стоимость', 'Стоимость, м2', 'Имя контакта', 'Телефон', 'Широта', 'Долгота', 'Описание', 'Ссылка']]\n",
    "# df_oct_1 = df_oct_1.drop_duplicates()\n",
    "# #display(df_oct_1.head(3))\n",
    "# display(df_oct_1.shape)\n",
    "\n",
    "# df_oct_2 = pd.read_excel('C:/Users/malsh/Desktop/Магазин Магазинов/Данные/Октябрь_2023/Октябрь_2023_2.xlsx', sheet_name='Worksheet')[['№', 'Категория', 'Тип', 'Этаж', 'Площадь, м2', 'Стоимость', 'Стоимость, м2', 'Имя контакта', 'Телефон', 'Широта', 'Долгота', 'Описание', 'Ссылка']]\n",
    "# df_oct_2 = df_oct_2.drop_duplicates()\n",
    "# #display(df_oct_2.head(3))\n",
    "# display(df_oct_2.shape)\n",
    "\n",
    "# df_oct_3 = pd.read_excel('C:/Users/malsh/Desktop/Магазин Магазинов/Данные/Октябрь_2023/Октябрь_2023_3.xlsx', sheet_name='Worksheet')[['№', 'Категория', 'Тип', 'Этаж', 'Площадь, м2', 'Стоимость', 'Стоимость, м2', 'Имя контакта', 'Телефон', 'Широта', 'Долгота', 'Описание', 'Ссылка']]\n",
    "# df_oct_3 = df_oct_3.drop_duplicates()\n",
    "# #display(df_oct_3.head(3))\n",
    "# display(df_oct_3.shape)\n",
    "\n",
    "# df_oct_4 = pd.read_excel('C:/Users/malsh/Desktop/Магазин Магазинов/Данные/Октябрь_2023/Октябрь_2023_4.xlsx', sheet_name='Worksheet')[['№', 'Категория', 'Тип', 'Этаж', 'Площадь, м2', 'Стоимость', 'Стоимость, м2', 'Имя контакта', 'Телефон', 'Широта', 'Долгота', 'Описание', 'Ссылка']]\n",
    "# df_oct_4 = df_oct_4.drop_duplicates()\n",
    "# #display(df_oct_4.head(3))\n",
    "# display(df_oct_4.shape)\n",
    "\n",
    "# df_oct_5 = pd.read_excel('C:/Users/malsh/Desktop/Магазин Магазинов/Данные/Октябрь_2023/Октябрь_2023_5.xlsx', sheet_name='Worksheet')[['№', 'Категория', 'Тип', 'Этаж', 'Площадь, м2', 'Стоимость', 'Стоимость, м2', 'Имя контакта', 'Телефон', 'Широта', 'Долгота', 'Описание', 'Ссылка']]\n",
    "# df_oct_5 = df_oct_5.drop_duplicates()\n",
    "# #display(df_oct_5.head(3))\n",
    "# display(df_oct_5.shape)\n",
    "\n",
    "# df_oct_6 = pd.read_excel('C:/Users/malsh/Desktop/Магазин Магазинов/Данные/Октябрь_2023/Октябрь_2023_6.xlsx', sheet_name='Worksheet')[['№', 'Категория', 'Тип', 'Этаж', 'Площадь, м2', 'Стоимость', 'Стоимость, м2', 'Имя контакта', 'Телефон', 'Широта', 'Долгота', 'Описание', 'Ссылка']]\n",
    "# df_oct_6 = df_oct_6.drop_duplicates()\n",
    "# #display(df_oct_6.head(3))\n",
    "# display(df_oct_6.shape)\n",
    "\n",
    "\n",
    "# df_oct_2023 = pd.concat([df_oct_1, df_oct_2, df_oct_3, df_oct_4, df_oct_5, df_oct_6], ignore_index=True)\n",
    "# display(df_oct_2023.shape)\n",
    "\n",
    "# df_oct_2023 = df_oct_2023[df_oct_2023['Этаж'] == 1]\n",
    "# df_oct_2023 = df_oct_2023.drop_duplicates()\n",
    "# df_oct_2023 = df_oct_2023.drop_duplicates(subset=['Тип', 'Площадь, м2', 'Широта', 'Долгота'], keep='first')\n",
    "# display(df_oct_2023.shape)\n",
    "\n",
    "# df_oct_2023 = df_oct_2023[(df_oct_2023['Площадь, м2'] < 1000) & (df_oct_2023['Площадь, м2'] > 20)]\n",
    "# display(df_oct_2023.shape)\n",
    "\n",
    "# df_oct_2023 = df_oct_2023.dropna(subset=['Описание'])\n",
    "# condition1 = df_oct_2023['Описание'].str.contains('в ТЦ|в тц|в ТРЦ|в торговом центре|на первом этаже торгового центра|в ТД|в ТРК|в новом ТРК|в составе ТРЦ|на первом торговом уровне ТЦ|в новом ТЦ|ТЦ \"Ясенево\"|в районном Торговом центре|в современном ТРЦ|на 1 этаже ТЦ|на 1-ом этаже ТЦ|на 1 этаже торгового центра|на 1-м этаже торгового центра|на 1-ом этаже торгового центра', case=False)\n",
    "# mask = df_oct_2023['Описание'].str[:70].str.contains('Торговый центр|Торговый Центр|торговый центр', case=False)\n",
    "# condition1 = condition1.fillna(False)\n",
    "# mask = mask.fillna(False)\n",
    "# df_oct_2023 = df_oct_2023[~condition1 & ~mask]\n",
    "# display(df_oct_2023.shape)\n",
    "\n",
    "# df_oct_2023 = df_oct_2023[~(((df_oct_2023['Тип'] == 'Сдам') & (df_oct_2023['Стоимость, м2'] > 100000)) | ((df_oct_2023['Тип'] == 'Продам') & (df_oct_2023['Стоимость, м2'] > 10000000)))]\n",
    "# display(df_oct_2023.shape)\n",
    "\n",
    "\n",
    "\n",
    "# # Добавляем столбец \"Категория Площади\"\n",
    "# df_oct_2023['Категория Площади'] = df_oct_2023['Площадь, м2'].apply(categorize_area)\n",
    "\n",
    "# # Добавляем столбец \"Район\"\n",
    "# df_oct_2023['Район'] = df_oct_2023.apply(lambda row: get_district(Point(row['Долгота'], row['Широта'])), axis=1)\n",
    "\n",
    "# # Добавляем столбец \"Категория стоимости\"\n",
    "# df_oct_2023['Категория Стоимости'] = \"Не определено\"  # Значение по умолчанию\n",
    "# df_oct_2023.loc[df_oct_2023['Тип'] == 'Продам', 'Категория Стоимости'] = df_oct_2023.loc[df_oct_2023['Тип'] == 'Продам', 'Стоимость'].apply(categorize_price)\n",
    "\n",
    "\n",
    "\n",
    "# df_oct_2023.to_excel('C:/Users/malsh/Desktop/Магазин Магазинов/Готовые df street/df_oct_23_street.xlsx', index=False)\n",
    "# print(f'DataFrame сохранен в {\"C:/Users/malsh/Desktop/Магазин Магазинов/Готовые df street/df_oct_23_street.xlsx\"}')"
   ]
  },
  {
   "cell_type": "markdown",
   "id": "7e370b05",
   "metadata": {},
   "source": [
    "## Ноябрь 2023"
   ]
  },
  {
   "cell_type": "code",
   "execution_count": 6,
   "id": "e477ace8",
   "metadata": {},
   "outputs": [
    {
     "data": {
      "text/plain": [
       "(10000, 13)"
      ]
     },
     "metadata": {},
     "output_type": "display_data"
    },
    {
     "data": {
      "text/plain": [
       "(10000, 13)"
      ]
     },
     "metadata": {},
     "output_type": "display_data"
    },
    {
     "data": {
      "text/plain": [
       "(10000, 13)"
      ]
     },
     "metadata": {},
     "output_type": "display_data"
    },
    {
     "data": {
      "text/plain": [
       "(10000, 13)"
      ]
     },
     "metadata": {},
     "output_type": "display_data"
    },
    {
     "data": {
      "text/plain": [
       "(9538, 13)"
      ]
     },
     "metadata": {},
     "output_type": "display_data"
    },
    {
     "data": {
      "text/plain": [
       "(49538, 13)"
      ]
     },
     "metadata": {},
     "output_type": "display_data"
    },
    {
     "data": {
      "text/plain": [
       "(29239, 13)"
      ]
     },
     "metadata": {},
     "output_type": "display_data"
    },
    {
     "data": {
      "text/plain": [
       "(24635, 13)"
      ]
     },
     "metadata": {},
     "output_type": "display_data"
    },
    {
     "data": {
      "text/plain": [
       "(23987, 13)"
      ]
     },
     "metadata": {},
     "output_type": "display_data"
    },
    {
     "data": {
      "text/plain": [
       "(23937, 13)"
      ]
     },
     "metadata": {},
     "output_type": "display_data"
    },
    {
     "name": "stdout",
     "output_type": "stream",
     "text": [
      "DataFrame сохранен в C:/Users/malsh/Desktop/Магазин Магазинов/Готовые df street/df_nov_23_street.xlsx\n"
     ]
    }
   ],
   "source": [
    "# df_nov_1 = pd.read_excel('C:/Users/malsh/Desktop/Магазин Магазинов/Данные/Ноябрь_2023/Ноябрь_2023_1.xlsx', sheet_name='Worksheet')[['№', 'Категория', 'Тип', 'Этаж', 'Площадь, м2', 'Стоимость', 'Стоимость, м2', 'Имя контакта', 'Телефон', 'Широта', 'Долгота', 'Описание', 'Ссылка']]\n",
    "# df_nov_1 = df_nov_1.drop_duplicates()\n",
    "# #display(df_oct_1.head(3))\n",
    "# display(df_nov_1.shape)\n",
    "\n",
    "# df_nov_2 = pd.read_excel('C:/Users/malsh/Desktop/Магазин Магазинов/Данные/Ноябрь_2023/Ноябрь_2023_2.xlsx', sheet_name='Worksheet')[['№', 'Категория', 'Тип', 'Этаж', 'Площадь, м2', 'Стоимость', 'Стоимость, м2', 'Имя контакта', 'Телефон', 'Широта', 'Долгота', 'Описание', 'Ссылка']]\n",
    "# df_nov_2 = df_nov_2.drop_duplicates()\n",
    "# #display(df_oct_2.head(3))\n",
    "# display(df_nov_2.shape)\n",
    "\n",
    "# df_nov_3 = pd.read_excel('C:/Users/malsh/Desktop/Магазин Магазинов/Данные/Ноябрь_2023/Ноябрь_2023_3.xlsx', sheet_name='Worksheet')[['№', 'Категория', 'Тип', 'Этаж', 'Площадь, м2', 'Стоимость', 'Стоимость, м2', 'Имя контакта', 'Телефон', 'Широта', 'Долгота', 'Описание', 'Ссылка']]\n",
    "# df_nov_3 = df_nov_3.drop_duplicates()\n",
    "# #display(df_oct_3.head(3))\n",
    "# display(df_nov_3.shape)\n",
    "\n",
    "# df_nov_4 = pd.read_excel('C:/Users/malsh/Desktop/Магазин Магазинов/Данные/Ноябрь_2023/Ноябрь_2023_4.xlsx', sheet_name='Worksheet')[['№', 'Категория', 'Тип', 'Этаж', 'Площадь, м2', 'Стоимость', 'Стоимость, м2', 'Имя контакта', 'Телефон', 'Широта', 'Долгота', 'Описание', 'Ссылка']]\n",
    "# df_nov_4 = df_nov_4.drop_duplicates()\n",
    "# #display(df_oct_4.head(3))\n",
    "# display(df_nov_4.shape)\n",
    "\n",
    "# df_nov_5 = pd.read_excel('C:/Users/malsh/Desktop/Магазин Магазинов/Данные/Ноябрь_2023/Ноябрь_2023_5.xlsx', sheet_name='Worksheet')[['№', 'Категория', 'Тип', 'Этаж', 'Площадь, м2', 'Стоимость', 'Стоимость, м2', 'Имя контакта', 'Телефон', 'Широта', 'Долгота', 'Описание', 'Ссылка']]\n",
    "# df_nov_5 = df_nov_5.drop_duplicates()\n",
    "# #display(df_oct_5.head(3))\n",
    "# display(df_nov_5.shape)\n",
    "\n",
    "\n",
    "# df_nov_2023 = pd.concat([df_nov_1, df_nov_2, df_nov_3, df_nov_4, df_nov_5], ignore_index=True)\n",
    "# display(df_nov_2023.shape)\n",
    "\n",
    "# df_nov_2023 = df_nov_2023[df_nov_2023['Этаж'] == 1]\n",
    "# df_nov_2023 = df_nov_2023.drop_duplicates()\n",
    "# df_nov_2023 = df_nov_2023.drop_duplicates(subset=['Тип', 'Площадь, м2', 'Широта', 'Долгота'], keep='first')\n",
    "# display(df_nov_2023.shape)\n",
    "\n",
    "# df_nov_2023 = df_nov_2023[(df_nov_2023['Площадь, м2'] < 1000) & (df_nov_2023['Площадь, м2'] > 20)]\n",
    "# display(df_nov_2023.shape)\n",
    "\n",
    "# df_nov_2023 = df_nov_2023.dropna(subset=['Описание'])\n",
    "# condition1 = df_nov_2023['Описание'].str.contains('в ТЦ|в тц|в ТРЦ|в торговом центре|на первом этаже торгового центра|в ТД|в ТРК|в новом ТРК|в составе ТРЦ|на первом торговом уровне ТЦ|в новом ТЦ|ТЦ \"Ясенево\"|в районном Торговом центре|в современном ТРЦ|на 1 этаже ТЦ|на 1-ом этаже ТЦ|на 1 этаже торгового центра|на 1-м этаже торгового центра|на 1-ом этаже торгового центра', case=False)\n",
    "# mask = df_nov_2023['Описание'].str[:70].str.contains('Торговый центр|Торговый Центр|торговый центр', case=False)\n",
    "# condition1 = condition1.fillna(False)\n",
    "# mask = mask.fillna(False)\n",
    "# df_nov_2023 = df_nov_2023[~condition1 & ~mask]\n",
    "# display(df_nov_2023.shape)\n",
    "\n",
    "# df_nov_2023 = df_nov_2023[~(((df_nov_2023['Тип'] == 'Сдам') & (df_nov_2023['Стоимость, м2'] > 100000)) | ((df_nov_2023['Тип'] == 'Продам') & (df_nov_2023['Стоимость, м2'] > 10000000)))]\n",
    "# display(df_nov_2023.shape)\n",
    "\n",
    "\n",
    "\n",
    "# # Добавляем столбец \"Категория Площади\"\n",
    "# df_nov_2023['Категория Площади'] = df_nov_2023['Площадь, м2'].apply(categorize_area)\n",
    "\n",
    "# # Добавляем столбец \"Район\"\n",
    "# df_nov_2023['Район'] = df_nov_2023.apply(lambda row: get_district(Point(row['Долгота'], row['Широта'])), axis=1)\n",
    "\n",
    "# # Добавляем столбец \"Категория стоимости\"\n",
    "# df_nov_2023['Категория Стоимости'] = \"Не определено\"  # Значение по умолчанию\n",
    "# df_nov_2023.loc[df_nov_2023['Тип'] == 'Продам', 'Категория Стоимости'] = df_nov_2023.loc[df_nov_2023['Тип'] == 'Продам', 'Стоимость'].apply(categorize_price)\n",
    "\n",
    "\n",
    "\n",
    "# df_nov_2023.to_excel('C:/Users/malsh/Desktop/Магазин Магазинов/Готовые df street/df_nov_23_street.xlsx', index=False)\n",
    "# print(f'DataFrame сохранен в {\"C:/Users/malsh/Desktop/Магазин Магазинов/Готовые df street/df_nov_23_street.xlsx\"}')"
   ]
  },
  {
   "cell_type": "markdown",
   "id": "c9cc7161",
   "metadata": {},
   "source": [
    "## Декабрь 2023"
   ]
  },
  {
   "cell_type": "code",
   "execution_count": 6,
   "id": "8d3f40ff",
   "metadata": {},
   "outputs": [
    {
     "data": {
      "text/plain": [
       "(10000, 13)"
      ]
     },
     "metadata": {},
     "output_type": "display_data"
    },
    {
     "data": {
      "text/plain": [
       "(10000, 13)"
      ]
     },
     "metadata": {},
     "output_type": "display_data"
    },
    {
     "data": {
      "text/plain": [
       "(926, 13)"
      ]
     },
     "metadata": {},
     "output_type": "display_data"
    },
    {
     "data": {
      "text/plain": [
       "(20926, 13)"
      ]
     },
     "metadata": {},
     "output_type": "display_data"
    },
    {
     "data": {
      "text/plain": [
       "(13250, 13)"
      ]
     },
     "metadata": {},
     "output_type": "display_data"
    },
    {
     "data": {
      "text/plain": [
       "(11346, 13)"
      ]
     },
     "metadata": {},
     "output_type": "display_data"
    },
    {
     "data": {
      "text/plain": [
       "(11071, 13)"
      ]
     },
     "metadata": {},
     "output_type": "display_data"
    },
    {
     "data": {
      "text/plain": [
       "(11048, 13)"
      ]
     },
     "metadata": {},
     "output_type": "display_data"
    },
    {
     "name": "stdout",
     "output_type": "stream",
     "text": [
      "DataFrame сохранен в C:/Users/malsh/Desktop/Магазин Магазинов/Готовые df street/df_dec_23_street.xlsx\n"
     ]
    }
   ],
   "source": [
    "df_dec_1 = pd.read_excel('C:/Users/malsh/Desktop/Магазин Магазинов/Данные/Декабрь_2023/Декабрь_2023_1.xlsx', sheet_name='Worksheet')[['№', 'Категория', 'Тип', 'Этаж', 'Площадь, м2', 'Стоимость', 'Имя контакта', 'Телефон', 'Широта', 'Долгота', 'Описание', 'Ссылка']]\n",
    "df_dec_1['Стоимость, м2'] = df_dec_1['Стоимость'] / df_dec_1['Площадь, м2']\n",
    "df_dec_1 = df_dec_1.drop_duplicates()\n",
    "#display(df_oct_1.head(3))\n",
    "display(df_dec_1.shape)\n",
    "\n",
    "df_dec_2 = pd.read_excel('C:/Users/malsh/Desktop/Магазин Магазинов/Данные/Декабрь_2023/Декабрь_2023_2.xlsx', sheet_name='Worksheet')[['№', 'Категория', 'Тип', 'Этаж', 'Площадь, м2', 'Стоимость', 'Имя контакта', 'Телефон', 'Широта', 'Долгота', 'Описание', 'Ссылка']]\n",
    "df_dec_2['Стоимость, м2'] = df_dec_2['Стоимость'] / df_dec_2['Площадь, м2']\n",
    "df_dec_2 = df_dec_2.drop_duplicates()\n",
    "#display(df_oct_2.head(3))\n",
    "display(df_dec_2.shape)\n",
    "\n",
    "df_dec_3 = pd.read_excel('C:/Users/malsh/Desktop/Магазин Магазинов/Данные/Декабрь_2023/Декабрь_2023_3.xlsx', sheet_name='Worksheet')[['№', 'Категория', 'Тип', 'Этаж', 'Площадь, м2', 'Стоимость', 'Имя контакта', 'Телефон', 'Широта', 'Долгота', 'Описание', 'Ссылка']]\n",
    "df_dec_3['Стоимость, м2'] = df_dec_3['Стоимость'] / df_dec_3['Площадь, м2']\n",
    "df_dec_3 = df_dec_3.drop_duplicates()\n",
    "#display(df_oct_3.head(3))\n",
    "display(df_dec_3.shape)\n",
    "\n",
    "\n",
    "\n",
    "df_dec_2023 = pd.concat([df_dec_1, df_dec_2, df_dec_3], ignore_index=True)\n",
    "display(df_dec_2023.shape)\n",
    "\n",
    "df_dec_2023 = df_dec_2023[df_dec_2023['Этаж'] == 1]\n",
    "df_dec_2023 = df_dec_2023.drop_duplicates()\n",
    "df_dec_2023 = df_dec_2023.drop_duplicates(subset=['Тип', 'Площадь, м2', 'Широта', 'Долгота'], keep='first')\n",
    "display(df_dec_2023.shape)\n",
    "\n",
    "df_dec_2023 = df_dec_2023[(df_dec_2023['Площадь, м2'] < 1000) & (df_dec_2023['Площадь, м2'] > 20)]\n",
    "display(df_dec_2023.shape)\n",
    "\n",
    "df_dec_2023 = df_dec_2023.dropna(subset=['Описание'])\n",
    "condition1 = df_dec_2023['Описание'].str.contains('в ТЦ|в тц|в ТРЦ|в торговом центре|на первом этаже торгового центра|в ТД|в ТРК|в новом ТРК|в составе ТРЦ|на первом торговом уровне ТЦ|в новом ТЦ|ТЦ \"Ясенево\"|в районном Торговом центре|в современном ТРЦ|на 1 этаже ТЦ|на 1-ом этаже ТЦ|на 1 этаже торгового центра|на 1-м этаже торгового центра|на 1-ом этаже торгового центра', case=False)\n",
    "mask = df_dec_2023['Описание'].str[:70].str.contains('Торговый центр|Торговый Центр|торговый центр', case=False)\n",
    "condition1 = condition1.fillna(False)\n",
    "mask = mask.fillna(False)\n",
    "df_dec_2023 = df_dec_2023[~condition1 & ~mask]\n",
    "display(df_dec_2023.shape)\n",
    "\n",
    "df_dec_2023 = df_dec_2023[~(((df_dec_2023['Тип'] == 'Сдам') & (df_dec_2023['Стоимость, м2'] > 100000)) | ((df_dec_2023['Тип'] == 'Продам') & (df_dec_2023['Стоимость, м2'] > 10000000)))]\n",
    "display(df_dec_2023.shape)\n",
    "\n",
    "\n",
    "\n",
    "# Добавляем столбец \"Категория Площади\"\n",
    "df_dec_2023['Категория Площади'] = df_dec_2023['Площадь, м2'].apply(categorize_area)\n",
    "\n",
    "# Добавляем столбец \"Район\"\n",
    "df_dec_2023['Район'] = df_dec_2023.apply(lambda row: get_district(Point(row['Долгота'], row['Широта'])), axis=1)\n",
    "\n",
    "# Добавляем столбец \"Категория стоимости\"\n",
    "df_dec_2023['Категория Стоимости'] = \"Не определено\"  # Значение по умолчанию\n",
    "df_dec_2023.loc[df_dec_2023['Тип'] == 'Продам', 'Категория Стоимости'] = df_dec_2023.loc[df_dec_2023['Тип'] == 'Продам', 'Стоимость'].apply(categorize_price)\n",
    "\n",
    "\n",
    "\n",
    "df_dec_2023.to_excel('C:/Users/malsh/Desktop/Магазин Магазинов/Готовые df street/df_dec_23_street.xlsx', index=False)\n",
    "print(f'DataFrame сохранен в {\"C:/Users/malsh/Desktop/Магазин Магазинов/Готовые df street/df_dec_23_street.xlsx\"}')"
   ]
  },
  {
   "cell_type": "markdown",
   "id": "c7cb39ce",
   "metadata": {},
   "source": [
    "## Январь 2024"
   ]
  },
  {
   "cell_type": "code",
   "execution_count": 8,
   "id": "6ee2df7f",
   "metadata": {},
   "outputs": [
    {
     "data": {
      "text/plain": [
       "(10000, 13)"
      ]
     },
     "metadata": {},
     "output_type": "display_data"
    },
    {
     "data": {
      "text/plain": [
       "(10000, 13)"
      ]
     },
     "metadata": {},
     "output_type": "display_data"
    },
    {
     "data": {
      "text/plain": [
       "(10000, 13)"
      ]
     },
     "metadata": {},
     "output_type": "display_data"
    },
    {
     "data": {
      "text/plain": [
       "(57, 13)"
      ]
     },
     "metadata": {},
     "output_type": "display_data"
    },
    {
     "data": {
      "text/plain": [
       "(30057, 13)"
      ]
     },
     "metadata": {},
     "output_type": "display_data"
    },
    {
     "data": {
      "text/plain": [
       "(18349, 13)"
      ]
     },
     "metadata": {},
     "output_type": "display_data"
    },
    {
     "data": {
      "text/plain": [
       "(15561, 13)"
      ]
     },
     "metadata": {},
     "output_type": "display_data"
    },
    {
     "data": {
      "text/plain": [
       "(15170, 13)"
      ]
     },
     "metadata": {},
     "output_type": "display_data"
    },
    {
     "data": {
      "text/plain": [
       "(15139, 13)"
      ]
     },
     "metadata": {},
     "output_type": "display_data"
    },
    {
     "name": "stdout",
     "output_type": "stream",
     "text": [
      "DataFrame сохранен в C:/Users/malsh/Desktop/Магазин Магазинов/Готовые df street/df_jan_24_street.xlsx\n"
     ]
    }
   ],
   "source": [
    "df_jan_1 = pd.read_excel('C:/Users/malsh/Desktop/Магазин Магазинов/Данные/Январь_2024/Январь_2024_1.xlsx', sheet_name='Worksheet')[['№', 'Категория', 'Тип', 'Этаж', 'Площадь, м2', 'Стоимость', 'Имя контакта', 'Телефон', 'Широта', 'Долгота', 'Описание', 'Ссылка']]\n",
    "df_jan_1['Стоимость, м2'] = df_jan_1['Стоимость'] / df_jan_1['Площадь, м2']\n",
    "df_jan_1 = df_jan_1.drop_duplicates()\n",
    "#display(df_oct_1.head(3))\n",
    "display(df_jan_1.shape)\n",
    "\n",
    "df_jan_2 = pd.read_excel('C:/Users/malsh/Desktop/Магазин Магазинов/Данные/Январь_2024/Январь_2024_2.xlsx', sheet_name='Worksheet')[['№', 'Категория', 'Тип', 'Этаж', 'Площадь, м2', 'Стоимость', 'Имя контакта', 'Телефон', 'Широта', 'Долгота', 'Описание', 'Ссылка']]\n",
    "df_jan_2['Стоимость, м2'] = df_jan_2['Стоимость'] / df_jan_2['Площадь, м2']\n",
    "df_jan_2 = df_jan_2.drop_duplicates()\n",
    "#display(df_oct_2.head(3))\n",
    "display(df_jan_2.shape)\n",
    "\n",
    "df_jan_3 = pd.read_excel('C:/Users/malsh/Desktop/Магазин Магазинов/Данные/Январь_2024/Январь_2024_3.xlsx', sheet_name='Worksheet')[['№', 'Категория', 'Тип', 'Этаж', 'Площадь, м2', 'Стоимость', 'Имя контакта', 'Телефон', 'Широта', 'Долгота', 'Описание', 'Ссылка']]\n",
    "df_jan_3['Стоимость, м2'] = df_jan_3['Стоимость'] / df_jan_3['Площадь, м2']\n",
    "df_jan_3 = df_jan_3.drop_duplicates()\n",
    "#display(df_oct_3.head(3))\n",
    "display(df_jan_3.shape)\n",
    "\n",
    "df_jan_4 = pd.read_excel('C:/Users/malsh/Desktop/Магазин Магазинов/Данные/Январь_2024/Январь_2024_4.xlsx', sheet_name='Worksheet')[['№', 'Категория', 'Тип', 'Этаж', 'Площадь, м2', 'Стоимость', 'Имя контакта', 'Телефон', 'Широта', 'Долгота', 'Описание', 'Ссылка']]\n",
    "df_jan_4['Стоимость, м2'] = df_jan_4['Стоимость'] / df_jan_4['Площадь, м2']\n",
    "df_jan_4 = df_jan_4.drop_duplicates()\n",
    "#display(df_oct_4.head(3))\n",
    "display(df_jan_4.shape)\n",
    "\n",
    "\n",
    "df_jan_2024 = pd.concat([df_jan_1, df_jan_2, df_jan_3, df_jan_4], ignore_index=True)\n",
    "display(df_jan_2024.shape)\n",
    "\n",
    "df_jan_2024 = df_jan_2024[df_jan_2024['Этаж'] == 1]\n",
    "df_jan_2024 = df_jan_2024.drop_duplicates()\n",
    "df_jan_2024 = df_jan_2024.drop_duplicates(subset=['Тип', 'Площадь, м2', 'Широта', 'Долгота'], keep='first')\n",
    "display(df_jan_2024.shape)\n",
    "\n",
    "df_jan_2024 = df_jan_2024[(df_jan_2024['Площадь, м2'] < 1000) & (df_jan_2024['Площадь, м2'] > 20)]\n",
    "display(df_jan_2024.shape)\n",
    "\n",
    "df_jan_2024 = df_jan_2024.dropna(subset=['Описание'])\n",
    "condition1 = df_jan_2024['Описание'].str.contains('в ТЦ|в тц|в ТРЦ|в торговом центре|на первом этаже торгового центра|в ТД|в ТРК|в новом ТРК|в составе ТРЦ|на первом торговом уровне ТЦ|в новом ТЦ|ТЦ \"Ясенево\"|в районном Торговом центре|в современном ТРЦ|на 1 этаже ТЦ|на 1-ом этаже ТЦ|на 1 этаже торгового центра|на 1-м этаже торгового центра|на 1-ом этаже торгового центра', case=False)\n",
    "mask = df_jan_2024['Описание'].str[:70].str.contains('Торговый центр|Торговый Центр|торговый центр', case=False)\n",
    "condition1 = condition1.fillna(False)\n",
    "mask = mask.fillna(False)\n",
    "df_jan_2024 = df_jan_2024[~condition1 & ~mask]\n",
    "display(df_jan_2024.shape)\n",
    "\n",
    "df_jan_2024 = df_jan_2024[~(((df_jan_2024['Тип'] == 'Сдам') & (df_jan_2024['Стоимость, м2'] > 100000)) | ((df_jan_2024['Тип'] == 'Продам') & (df_jan_2024['Стоимость, м2'] > 10000000)))]\n",
    "display(df_jan_2024.shape)\n",
    "\n",
    "\n",
    "\n",
    "# Добавляем столбец \"Категория Площади\"\n",
    "df_jan_2024['Категория Площади'] = df_jan_2024['Площадь, м2'].apply(categorize_area)\n",
    "\n",
    "# Добавляем столбец \"Район\"\n",
    "df_jan_2024['Район'] = df_jan_2024.apply(lambda row: get_district(Point(row['Долгота'], row['Широта'])), axis=1)\n",
    "\n",
    "# Добавляем столбец \"Категория стоимости\"\n",
    "df_jan_2024['Категория Стоимости'] = \"Не определено\"  # Значение по умолчанию\n",
    "df_jan_2024.loc[df_jan_2024['Тип'] == 'Продам', 'Категория Стоимости'] = df_jan_2024.loc[df_jan_2024['Тип'] == 'Продам', 'Стоимость'].apply(categorize_price)\n",
    "\n",
    "\n",
    "\n",
    "df_jan_2024.to_excel('C:/Users/malsh/Desktop/Магазин Магазинов/Готовые df street/df_jan_24_street.xlsx', index=False)\n",
    "print(f'DataFrame сохранен в {\"C:/Users/malsh/Desktop/Магазин Магазинов/Готовые df street/df_jan_24_street.xlsx\"}')"
   ]
  },
  {
   "cell_type": "markdown",
   "id": "d8323617",
   "metadata": {},
   "source": [
    "## Февраль 2024"
   ]
  },
  {
   "cell_type": "code",
   "execution_count": 9,
   "id": "0b87a6a6",
   "metadata": {},
   "outputs": [
    {
     "data": {
      "text/plain": [
       "(10000, 13)"
      ]
     },
     "metadata": {},
     "output_type": "display_data"
    },
    {
     "data": {
      "text/plain": [
       "(10000, 13)"
      ]
     },
     "metadata": {},
     "output_type": "display_data"
    },
    {
     "data": {
      "text/plain": [
       "(10000, 13)"
      ]
     },
     "metadata": {},
     "output_type": "display_data"
    },
    {
     "data": {
      "text/plain": [
       "(6737, 13)"
      ]
     },
     "metadata": {},
     "output_type": "display_data"
    },
    {
     "data": {
      "text/plain": [
       "(36737, 13)"
      ]
     },
     "metadata": {},
     "output_type": "display_data"
    },
    {
     "data": {
      "text/plain": [
       "(19994, 13)"
      ]
     },
     "metadata": {},
     "output_type": "display_data"
    },
    {
     "data": {
      "text/plain": [
       "(16757, 13)"
      ]
     },
     "metadata": {},
     "output_type": "display_data"
    },
    {
     "data": {
      "text/plain": [
       "(16307, 13)"
      ]
     },
     "metadata": {},
     "output_type": "display_data"
    },
    {
     "data": {
      "text/plain": [
       "(16261, 13)"
      ]
     },
     "metadata": {},
     "output_type": "display_data"
    },
    {
     "name": "stdout",
     "output_type": "stream",
     "text": [
      "DataFrame сохранен в C:/Users/malsh/Desktop/Магазин Магазинов/Готовые df street/df_feb_24_street.xlsx\n"
     ]
    }
   ],
   "source": [
    "df_feb_1 = pd.read_excel('C:/Users/malsh/Desktop/Магазин Магазинов/Данные/Февраль_2024/Февраль_2024_1.xlsx', sheet_name='Worksheet')[['№', 'Категория', 'Тип', 'Этаж', 'Площадь, м2', 'Стоимость', 'Имя контакта', 'Телефон', 'Широта', 'Долгота', 'Описание', 'Ссылка']]\n",
    "df_feb_1['Стоимость, м2'] = df_feb_1['Стоимость'] / df_feb_1['Площадь, м2']\n",
    "df_feb_1 = df_feb_1.drop_duplicates()\n",
    "#display(df_oct_1.head(3))\n",
    "display(df_feb_1.shape)\n",
    "\n",
    "df_feb_2 = pd.read_excel('C:/Users/malsh/Desktop/Магазин Магазинов/Данные/Февраль_2024/Февраль_2024_2.xlsx', sheet_name='Worksheet')[['№', 'Категория', 'Тип', 'Этаж', 'Площадь, м2', 'Стоимость', 'Имя контакта', 'Телефон', 'Широта', 'Долгота', 'Описание', 'Ссылка']]\n",
    "df_feb_2['Стоимость, м2'] = df_feb_2['Стоимость'] / df_feb_2['Площадь, м2']\n",
    "df_feb_2 = df_feb_2.drop_duplicates()\n",
    "#display(df_oct_2.head(3))\n",
    "display(df_feb_2.shape)\n",
    "\n",
    "df_feb_3 = pd.read_excel('C:/Users/malsh/Desktop/Магазин Магазинов/Данные/Февраль_2024/Февраль_2024_3.xlsx', sheet_name='Worksheet')[['№', 'Категория', 'Тип', 'Этаж', 'Площадь, м2', 'Стоимость', 'Имя контакта', 'Телефон', 'Широта', 'Долгота', 'Описание', 'Ссылка']]\n",
    "df_feb_3['Стоимость, м2'] = df_feb_3['Стоимость'] / df_feb_3['Площадь, м2']\n",
    "df_feb_3 = df_feb_3.drop_duplicates()\n",
    "#display(df_oct_3.head(3))\n",
    "display(df_feb_3.shape)\n",
    "\n",
    "df_feb_4 = pd.read_excel('C:/Users/malsh/Desktop/Магазин Магазинов/Данные/Февраль_2024/Февраль_2024_4.xlsx', sheet_name='Worksheet')[['№', 'Категория', 'Тип', 'Этаж', 'Площадь, м2', 'Стоимость', 'Имя контакта', 'Телефон', 'Широта', 'Долгота', 'Описание', 'Ссылка']]\n",
    "df_feb_4['Стоимость, м2'] = df_feb_4['Стоимость'] / df_feb_4['Площадь, м2']\n",
    "df_feb_4 = df_feb_4.drop_duplicates()\n",
    "#display(df_oct_4.head(3))\n",
    "display(df_feb_4.shape)\n",
    "\n",
    "\n",
    "df_feb_2024 = pd.concat([df_feb_1, df_feb_2, df_feb_3, df_feb_4], ignore_index=True)\n",
    "display(df_feb_2024.shape)\n",
    "\n",
    "df_feb_2024 = df_feb_2024[df_feb_2024['Этаж'] == 1]\n",
    "df_feb_2024 = df_feb_2024.drop_duplicates()\n",
    "df_feb_2024 = df_feb_2024.drop_duplicates(subset=['Тип', 'Площадь, м2', 'Широта', 'Долгота'], keep='first')\n",
    "display(df_feb_2024.shape)\n",
    "\n",
    "df_feb_2024 = df_feb_2024[(df_feb_2024['Площадь, м2'] < 1000) & (df_feb_2024['Площадь, м2'] > 20)]\n",
    "display(df_feb_2024.shape)\n",
    "\n",
    "df_feb_2024 = df_feb_2024.dropna(subset=['Описание'])\n",
    "condition1 = df_feb_2024['Описание'].str.contains('в ТЦ|в тц|в ТРЦ|в торговом центре|на первом этаже торгового центра|в ТД|в ТРК|в новом ТРК|в составе ТРЦ|на первом торговом уровне ТЦ|в новом ТЦ|ТЦ \"Ясенево\"|в районном Торговом центре|в современном ТРЦ|на 1 этаже ТЦ|на 1-ом этаже ТЦ|на 1 этаже торгового центра|на 1-м этаже торгового центра|на 1-ом этаже торгового центра', case=False)\n",
    "mask = df_feb_2024['Описание'].str[:70].str.contains('Торговый центр|Торговый Центр|торговый центр', case=False)\n",
    "condition1 = condition1.fillna(False)\n",
    "mask = mask.fillna(False)\n",
    "df_feb_2024 = df_feb_2024[~condition1 & ~mask]\n",
    "display(df_feb_2024.shape)\n",
    "\n",
    "df_feb_2024 = df_feb_2024[~(((df_feb_2024['Тип'] == 'Сдам') & (df_feb_2024['Стоимость, м2'] > 100000)) | ((df_feb_2024['Тип'] == 'Продам') & (df_feb_2024['Стоимость, м2'] > 10000000)))]\n",
    "display(df_feb_2024.shape)\n",
    "\n",
    "\n",
    "\n",
    "# Добавляем столбец \"Категория Площади\"\n",
    "df_feb_2024['Категория Площади'] = df_feb_2024['Площадь, м2'].apply(categorize_area)\n",
    "\n",
    "# Добавляем столбец \"Район\"\n",
    "df_feb_2024['Район'] = df_feb_2024.apply(lambda row: get_district(Point(row['Долгота'], row['Широта'])), axis=1)\n",
    "\n",
    "# Добавляем столбец \"Категория стоимости\"\n",
    "df_feb_2024['Категория Стоимости'] = \"Не определено\"  # Значение по умолчанию\n",
    "df_feb_2024.loc[df_feb_2024['Тип'] == 'Продам', 'Категория Стоимости'] = df_feb_2024.loc[df_feb_2024['Тип'] == 'Продам', 'Стоимость'].apply(categorize_price)\n",
    "\n",
    "\n",
    "\n",
    "df_feb_2024.to_excel('C:/Users/malsh/Desktop/Магазин Магазинов/Готовые df street/df_feb_24_street.xlsx', index=False)\n",
    "print(f'DataFrame сохранен в {\"C:/Users/malsh/Desktop/Магазин Магазинов/Готовые df street/df_feb_24_street.xlsx\"}')"
   ]
  },
  {
   "cell_type": "markdown",
   "id": "7134adf6",
   "metadata": {},
   "source": [
    "## Март 2024"
   ]
  },
  {
   "cell_type": "code",
   "execution_count": 11,
   "id": "ccb292a4",
   "metadata": {},
   "outputs": [
    {
     "data": {
      "text/plain": [
       "(46119, 13)"
      ]
     },
     "metadata": {},
     "output_type": "display_data"
    },
    {
     "data": {
      "text/plain": [
       "(24911, 13)"
      ]
     },
     "metadata": {},
     "output_type": "display_data"
    },
    {
     "data": {
      "text/plain": [
       "(20834, 13)"
      ]
     },
     "metadata": {},
     "output_type": "display_data"
    },
    {
     "data": {
      "text/plain": [
       "(20382, 13)"
      ]
     },
     "metadata": {},
     "output_type": "display_data"
    },
    {
     "data": {
      "text/plain": [
       "(20328, 13)"
      ]
     },
     "metadata": {},
     "output_type": "display_data"
    },
    {
     "name": "stdout",
     "output_type": "stream",
     "text": [
      "DataFrame сохранен в C:/Users/malsh/Desktop/Магазин Магазинов/Готовые df street/df_mar_2024_street.xlsx\n"
     ]
    }
   ],
   "source": [
    "df_mar_1 = pd.read_excel('C:/Users/malsh/Desktop/Магазин Магазинов/Данные/Март_2024/Март_2024_1.xlsx', sheet_name='Worksheet')[['№', 'Категория', 'Тип', 'Этаж', 'Площадь, м2', 'Стоимость', 'Имя контакта', 'Телефон', 'Широта', 'Долгота', 'Описание', 'Ссылка']]\n",
    "df_mar_1['Стоимость, м2'] = df_mar_1['Стоимость'] / df_mar_1['Площадь, м2']\n",
    "df_mar_1 = df_mar_1.drop_duplicates()\n",
    "#display(df_oct_1.head(3))\n",
    "display(df_mar_1.shape)\n",
    "\n",
    "df_mar_2024 = df_mar_1\n",
    "\n",
    "df_mar_2024 = df_mar_2024[df_mar_2024['Этаж'] == 1]\n",
    "df_mar_2024 = df_mar_2024.drop_duplicates()\n",
    "df_mar_2024 = df_mar_2024.drop_duplicates(subset=['Тип', 'Площадь, м2', 'Широта', 'Долгота'], keep='first')\n",
    "display(df_mar_2024.shape)\n",
    "\n",
    "df_mar_2024 = df_mar_2024[(df_mar_2024['Площадь, м2'] < 1000) & (df_mar_2024['Площадь, м2'] > 20)]\n",
    "display(df_mar_2024.shape)\n",
    "\n",
    "df_mar_2024 = df_mar_2024.dropna(subset=['Описание'])\n",
    "condition1 = df_mar_2024['Описание'].str.contains('в ТЦ|в тц|в ТРЦ|в торговом центре|на первом этаже торгового центра|в ТД|в ТРК|в новом ТРК|в составе ТРЦ|на первом торговом уровне ТЦ|в новом ТЦ|ТЦ \"Ясенево\"|в районном Торговом центре|в современном ТРЦ|на 1 этаже ТЦ|на 1-ом этаже ТЦ|на 1 этаже торгового центра|на 1-м этаже торгового центра|на 1-ом этаже торгового центра', case=False)\n",
    "mask = df_mar_2024['Описание'].str[:70].str.contains('Торговый центр|Торговый Центр|торговый центр', case=False)\n",
    "condition1 = condition1.fillna(False)\n",
    "mask = mask.fillna(False)\n",
    "df_mar_2024 = df_mar_2024[~condition1 & ~mask]\n",
    "display(df_mar_2024.shape)\n",
    "\n",
    "df_mar_2024 = df_mar_2024[~(((df_mar_2024['Тип'] == 'Сдам') & (df_mar_2024['Стоимость, м2'] > 100000)) | ((df_mar_2024['Тип'] == 'Продам') & (df_mar_2024['Стоимость, м2'] > 10000000)))]\n",
    "display(df_mar_2024.shape)\n",
    "\n",
    "\n",
    "\n",
    "# Добавляем столбец \"Категория Площади\"\n",
    "df_mar_2024['Категория Площади'] = df_mar_2024['Площадь, м2'].apply(categorize_area)\n",
    "\n",
    "# Добавляем столбец \"Район\"\n",
    "df_mar_2024['Район'] = df_mar_2024.apply(lambda row: get_district(Point(row['Долгота'], row['Широта'])), axis=1)\n",
    "\n",
    "# Добавляем столбец \"Категория стоимости\"\n",
    "df_mar_2024['Категория Стоимости'] = \"Не определено\"  # Значение по умолчанию\n",
    "df_mar_2024.loc[df_mar_2024['Тип'] == 'Продам', 'Категория Стоимости'] = df_mar_2024.loc[df_mar_2024['Тип'] == 'Продам', 'Стоимость'].apply(categorize_price)\n",
    "\n",
    "\n",
    "\n",
    "df_mar_2024.to_excel('C:/Users/malsh/Desktop/Магазин Магазинов/Готовые df street/df_mar_2024_street.xlsx', index=False)\n",
    "print(f'DataFrame сохранен в {\"C:/Users/malsh/Desktop/Магазин Магазинов/Готовые df street/df_mar_2024_street.xlsx\"}')"
   ]
  },
  {
   "cell_type": "markdown",
   "id": "169c47e6",
   "metadata": {},
   "source": [
    "## Апрель 2024"
   ]
  },
  {
   "cell_type": "code",
   "execution_count": 5,
   "id": "a44b8dbe",
   "metadata": {},
   "outputs": [
    {
     "data": {
      "text/plain": [
       "(10000, 13)"
      ]
     },
     "metadata": {},
     "output_type": "display_data"
    },
    {
     "data": {
      "text/plain": [
       "(10000, 13)"
      ]
     },
     "metadata": {},
     "output_type": "display_data"
    },
    {
     "data": {
      "text/plain": [
       "(9001, 13)"
      ]
     },
     "metadata": {},
     "output_type": "display_data"
    },
    {
     "data": {
      "text/plain": [
       "(29001, 13)"
      ]
     },
     "metadata": {},
     "output_type": "display_data"
    },
    {
     "data": {
      "text/plain": [
       "(16113, 13)"
      ]
     },
     "metadata": {},
     "output_type": "display_data"
    },
    {
     "data": {
      "text/plain": [
       "(13694, 13)"
      ]
     },
     "metadata": {},
     "output_type": "display_data"
    },
    {
     "data": {
      "text/plain": [
       "(13404, 13)"
      ]
     },
     "metadata": {},
     "output_type": "display_data"
    },
    {
     "data": {
      "text/plain": [
       "(13367, 13)"
      ]
     },
     "metadata": {},
     "output_type": "display_data"
    },
    {
     "name": "stdout",
     "output_type": "stream",
     "text": [
      "DataFrame сохранен в C:/Users/malsh/Desktop/Магазин Магазинов/Готовые df street/df_apr_24_street.xlsx\n"
     ]
    }
   ],
   "source": [
    "df_dec_1 = pd.read_excel('C:/Users/malsh/Desktop/Магазин Магазинов/Данные/Апрель_2024/Апрель_2024_1.xlsx', sheet_name='Worksheet')[['№', 'Категория', 'Тип', 'Этаж', 'Площадь, м2', 'Стоимость', 'Имя контакта', 'Телефон', 'Широта', 'Долгота', 'Описание', 'Ссылка']]\n",
    "df_dec_1['Стоимость, м2'] = df_dec_1['Стоимость'] / df_dec_1['Площадь, м2']\n",
    "df_dec_1 = df_dec_1.drop_duplicates()\n",
    "#display(df_oct_1.head(3))\n",
    "display(df_dec_1.shape)\n",
    "\n",
    "df_dec_2 = pd.read_excel('C:/Users/malsh/Desktop/Магазин Магазинов/Данные/Апрель_2024/Апрель_2024_2.xlsx', sheet_name='Worksheet')[['№', 'Категория', 'Тип', 'Этаж', 'Площадь, м2', 'Стоимость', 'Имя контакта', 'Телефон', 'Широта', 'Долгота', 'Описание', 'Ссылка']]\n",
    "df_dec_2['Стоимость, м2'] = df_dec_2['Стоимость'] / df_dec_2['Площадь, м2']\n",
    "df_dec_2 = df_dec_2.drop_duplicates()\n",
    "#display(df_oct_2.head(3))\n",
    "display(df_dec_2.shape)\n",
    "\n",
    "df_dec_3 = pd.read_excel('C:/Users/malsh/Desktop/Магазин Магазинов/Данные/Апрель_2024/Апрель_2024_3.xlsx', sheet_name='Worksheet')[['№', 'Категория', 'Тип', 'Этаж', 'Площадь, м2', 'Стоимость', 'Имя контакта', 'Телефон', 'Широта', 'Долгота', 'Описание', 'Ссылка']]\n",
    "df_dec_3['Стоимость, м2'] = df_dec_3['Стоимость'] / df_dec_3['Площадь, м2']\n",
    "df_dec_3 = df_dec_3.drop_duplicates()\n",
    "#display(df_oct_3.head(3))\n",
    "display(df_dec_3.shape)\n",
    "\n",
    "\n",
    "\n",
    "df_dec_2023 = pd.concat([df_dec_1, df_dec_2, df_dec_3], ignore_index=True)\n",
    "display(df_dec_2023.shape)\n",
    "\n",
    "df_dec_2023 = df_dec_2023[df_dec_2023['Этаж'] == 1]\n",
    "df_dec_2023 = df_dec_2023.drop_duplicates()\n",
    "df_dec_2023 = df_dec_2023.drop_duplicates(subset=['Тип', 'Площадь, м2', 'Широта', 'Долгота'], keep='first')\n",
    "display(df_dec_2023.shape)\n",
    "\n",
    "df_dec_2023 = df_dec_2023[(df_dec_2023['Площадь, м2'] < 1000) & (df_dec_2023['Площадь, м2'] > 20)]\n",
    "display(df_dec_2023.shape)\n",
    "\n",
    "df_dec_2023 = df_dec_2023.dropna(subset=['Описание'])\n",
    "condition1 = df_dec_2023['Описание'].str.contains('в ТЦ|в тц|в ТРЦ|в торговом центре|на первом этаже торгового центра|в ТД|в ТРК|в новом ТРК|в составе ТРЦ|на первом торговом уровне ТЦ|в новом ТЦ|ТЦ \"Ясенево\"|в районном Торговом центре|в современном ТРЦ|на 1 этаже ТЦ|на 1-ом этаже ТЦ|на 1 этаже торгового центра|на 1-м этаже торгового центра|на 1-ом этаже торгового центра', case=False)\n",
    "mask = df_dec_2023['Описание'].str[:70].str.contains('Торговый центр|Торговый Центр|торговый центр', case=False)\n",
    "condition1 = condition1.fillna(False)\n",
    "mask = mask.fillna(False)\n",
    "df_dec_2023 = df_dec_2023[~condition1 & ~mask]\n",
    "display(df_dec_2023.shape)\n",
    "\n",
    "df_dec_2023 = df_dec_2023[~(((df_dec_2023['Тип'] == 'Сдам') & (df_dec_2023['Стоимость, м2'] > 100000)) | ((df_dec_2023['Тип'] == 'Продам') & (df_dec_2023['Стоимость, м2'] > 10000000)))]\n",
    "display(df_dec_2023.shape)\n",
    "\n",
    "\n",
    "\n",
    "# Добавляем столбец \"Категория Площади\"\n",
    "df_dec_2023['Категория Площади'] = df_dec_2023['Площадь, м2'].apply(categorize_area)\n",
    "\n",
    "# Добавляем столбец \"Район\"\n",
    "df_dec_2023['Район'] = df_dec_2023.apply(lambda row: get_district(Point(row['Долгота'], row['Широта'])), axis=1)\n",
    "\n",
    "# Добавляем столбец \"Категория стоимости\"\n",
    "df_dec_2023['Категория Стоимости'] = \"Не определено\"  # Значение по умолчанию\n",
    "df_dec_2023.loc[df_dec_2023['Тип'] == 'Продам', 'Категория Стоимости'] = df_dec_2023.loc[df_dec_2023['Тип'] == 'Продам', 'Стоимость'].apply(categorize_price)\n",
    "\n",
    "\n",
    "\n",
    "df_dec_2023.to_excel('C:/Users/malsh/Desktop/Магазин Магазинов/Готовые df street/df_apr_24_street.xlsx', index=False)\n",
    "print(f'DataFrame сохранен в {\"C:/Users/malsh/Desktop/Магазин Магазинов/Готовые df street/df_apr_24_street.xlsx\"}')"
   ]
  },
  {
   "cell_type": "markdown",
   "id": "1836bce2",
   "metadata": {},
   "source": [
    "## Май 2024"
   ]
  },
  {
   "cell_type": "code",
   "execution_count": 6,
   "id": "9a886fff",
   "metadata": {},
   "outputs": [
    {
     "data": {
      "text/plain": [
       "(20999, 13)"
      ]
     },
     "metadata": {},
     "output_type": "display_data"
    },
    {
     "data": {
      "text/plain": [
       "(20000, 13)"
      ]
     },
     "metadata": {},
     "output_type": "display_data"
    },
    {
     "data": {
      "text/plain": [
       "(11422, 13)"
      ]
     },
     "metadata": {},
     "output_type": "display_data"
    },
    {
     "data": {
      "text/plain": [
       "(52421, 13)"
      ]
     },
     "metadata": {},
     "output_type": "display_data"
    },
    {
     "data": {
      "text/plain": [
       "(24071, 13)"
      ]
     },
     "metadata": {},
     "output_type": "display_data"
    },
    {
     "data": {
      "text/plain": [
       "(20574, 13)"
      ]
     },
     "metadata": {},
     "output_type": "display_data"
    },
    {
     "data": {
      "text/plain": [
       "(20140, 13)"
      ]
     },
     "metadata": {},
     "output_type": "display_data"
    },
    {
     "data": {
      "text/plain": [
       "(20071, 13)"
      ]
     },
     "metadata": {},
     "output_type": "display_data"
    },
    {
     "name": "stdout",
     "output_type": "stream",
     "text": [
      "DataFrame сохранен в C:/Users/malsh/Desktop/Магазин Магазинов/Готовые df street/df_may_24_street.xlsx\n"
     ]
    }
   ],
   "source": [
    "df_dec_1 = pd.read_excel('C:/Users/malsh/Desktop/Магазин Магазинов/Данные/Май_2024/Май_2024_1.xlsx', sheet_name='Worksheet')[['№', 'Категория', 'Тип', 'Этаж', 'Площадь, м2', 'Стоимость', 'Имя контакта', 'Телефон', 'Широта', 'Долгота', 'Описание', 'Ссылка']]\n",
    "df_dec_1['Стоимость, м2'] = df_dec_1['Стоимость'] / df_dec_1['Площадь, м2']\n",
    "df_dec_1 = df_dec_1.drop_duplicates()\n",
    "#display(df_oct_1.head(3))\n",
    "display(df_dec_1.shape)\n",
    "\n",
    "df_dec_2 = pd.read_excel('C:/Users/malsh/Desktop/Магазин Магазинов/Данные/Май_2024/Май_2024_2.xlsx', sheet_name='Worksheet')[['№', 'Категория', 'Тип', 'Этаж', 'Площадь, м2', 'Стоимость', 'Имя контакта', 'Телефон', 'Широта', 'Долгота', 'Описание', 'Ссылка']]\n",
    "df_dec_2['Стоимость, м2'] = df_dec_2['Стоимость'] / df_dec_2['Площадь, м2']\n",
    "df_dec_2 = df_dec_2.drop_duplicates()\n",
    "#display(df_oct_2.head(3))\n",
    "display(df_dec_2.shape)\n",
    "\n",
    "df_dec_3 = pd.read_excel('C:/Users/malsh/Desktop/Магазин Магазинов/Данные/Май_2024/Май_2024_3.xlsx', sheet_name='Worksheet')[['№', 'Категория', 'Тип', 'Этаж', 'Площадь, м2', 'Стоимость', 'Имя контакта', 'Телефон', 'Широта', 'Долгота', 'Описание', 'Ссылка']]\n",
    "df_dec_3['Стоимость, м2'] = df_dec_3['Стоимость'] / df_dec_3['Площадь, м2']\n",
    "df_dec_3 = df_dec_3.drop_duplicates()\n",
    "#display(df_oct_3.head(3))\n",
    "display(df_dec_3.shape)\n",
    "\n",
    "\n",
    "\n",
    "df_dec_2023 = pd.concat([df_dec_1, df_dec_2, df_dec_3], ignore_index=True)\n",
    "display(df_dec_2023.shape)\n",
    "\n",
    "df_dec_2023 = df_dec_2023[df_dec_2023['Этаж'] == 1]\n",
    "df_dec_2023 = df_dec_2023.drop_duplicates()\n",
    "df_dec_2023 = df_dec_2023.drop_duplicates(subset=['Тип', 'Площадь, м2', 'Широта', 'Долгота'], keep='first')\n",
    "display(df_dec_2023.shape)\n",
    "\n",
    "df_dec_2023 = df_dec_2023[(df_dec_2023['Площадь, м2'] < 1000) & (df_dec_2023['Площадь, м2'] > 20)]\n",
    "display(df_dec_2023.shape)\n",
    "\n",
    "df_dec_2023 = df_dec_2023.dropna(subset=['Описание'])\n",
    "condition1 = df_dec_2023['Описание'].str.contains('в ТЦ|в тц|в ТРЦ|в торговом центре|на первом этаже торгового центра|в ТД|в ТРК|в новом ТРК|в составе ТРЦ|на первом торговом уровне ТЦ|в новом ТЦ|ТЦ \"Ясенево\"|в районном Торговом центре|в современном ТРЦ|на 1 этаже ТЦ|на 1-ом этаже ТЦ|на 1 этаже торгового центра|на 1-м этаже торгового центра|на 1-ом этаже торгового центра', case=False)\n",
    "mask = df_dec_2023['Описание'].str[:70].str.contains('Торговый центр|Торговый Центр|торговый центр', case=False)\n",
    "condition1 = condition1.fillna(False)\n",
    "mask = mask.fillna(False)\n",
    "df_dec_2023 = df_dec_2023[~condition1 & ~mask]\n",
    "display(df_dec_2023.shape)\n",
    "\n",
    "df_dec_2023 = df_dec_2023[~(((df_dec_2023['Тип'] == 'Сдам') & (df_dec_2023['Стоимость, м2'] > 100000)) | ((df_dec_2023['Тип'] == 'Продам') & (df_dec_2023['Стоимость, м2'] > 10000000)))]\n",
    "display(df_dec_2023.shape)\n",
    "\n",
    "\n",
    "\n",
    "# Добавляем столбец \"Категория Площади\"\n",
    "df_dec_2023['Категория Площади'] = df_dec_2023['Площадь, м2'].apply(categorize_area)\n",
    "\n",
    "# Добавляем столбец \"Район\"\n",
    "df_dec_2023['Район'] = df_dec_2023.apply(lambda row: get_district(Point(row['Долгота'], row['Широта'])), axis=1)\n",
    "\n",
    "# Добавляем столбец \"Категория стоимости\"\n",
    "df_dec_2023['Категория Стоимости'] = \"Не определено\"  # Значение по умолчанию\n",
    "df_dec_2023.loc[df_dec_2023['Тип'] == 'Продам', 'Категория Стоимости'] = df_dec_2023.loc[df_dec_2023['Тип'] == 'Продам', 'Стоимость'].apply(categorize_price)\n",
    "\n",
    "\n",
    "\n",
    "df_dec_2023.to_excel('C:/Users/malsh/Desktop/Магазин Магазинов/Готовые df street/df_may_24_street.xlsx', index=False)\n",
    "print(f'DataFrame сохранен в {\"C:/Users/malsh/Desktop/Магазин Магазинов/Готовые df street/df_may_24_street.xlsx\"}')"
   ]
  },
  {
   "cell_type": "markdown",
   "id": "cbc3068f",
   "metadata": {},
   "source": [
    "# Конец"
   ]
  }
 ],
 "metadata": {
  "kernelspec": {
   "display_name": "Python 3 (ipykernel)",
   "language": "python",
   "name": "python3"
  },
  "language_info": {
   "codemirror_mode": {
    "name": "ipython",
    "version": 3
   },
   "file_extension": ".py",
   "mimetype": "text/x-python",
   "name": "python",
   "nbconvert_exporter": "python",
   "pygments_lexer": "ipython3",
   "version": "3.9.13"
  }
 },
 "nbformat": 4,
 "nbformat_minor": 5
}
